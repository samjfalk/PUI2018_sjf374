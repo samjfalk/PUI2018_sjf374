{
 "cells": [
  {
   "cell_type": "markdown",
   "metadata": {},
   "source": [
    "## HW3 PUI2018"
   ]
  },
  {
   "cell_type": "markdown",
   "metadata": {},
   "source": [
    "### Sam Falk"
   ]
  },
  {
   "cell_type": "code",
   "execution_count": 1,
   "metadata": {},
   "outputs": [],
   "source": [
    "#worked with Mei Guan"
   ]
  },
  {
   "cell_type": "markdown",
   "metadata": {},
   "source": [
    "First Mei and I looked for an NYC open set. We decided on the HIV/ AIDS data set that can be found here: 'https://data.cityofnewyork.us/Health/HIV-AIDS-Diagnoses-by-Neighborhood-Age-Group-and-R/dxnu-p2qd'. We loaded the data and found the basic gist of the data. We tried to initially graph HIV and AIDS counts without any manipulation, but realized the summary data and some NaNs did not apply. Once removed, the graphing was pretty straight forward."
   ]
  },
  {
   "cell_type": "code",
   "execution_count": 2,
   "metadata": {},
   "outputs": [],
   "source": [
    "from __future__ import print_function "
   ]
  },
  {
   "cell_type": "code",
   "execution_count": 3,
   "metadata": {},
   "outputs": [],
   "source": [
    "import numpy as np"
   ]
  },
  {
   "cell_type": "markdown",
   "metadata": {},
   "source": [
    "# Find data on the portal"
   ]
  },
  {
   "cell_type": "markdown",
   "metadata": {},
   "source": [
    " Using NYC DOHMH data on new diagnoses of HIV and AIDS in NYC\n",
    "obtained with the following steps from the website\n",
    "\n",
    "https://opendata.cityofnewyork.us/ -> Data\n",
    "https://opendata.cityofnewyork.us/data/ -> Department of Health and Mental Hygiene (DOHMH)\n",
    "https://data.cityofnewyork.us/browse?Dataset-Information_Agency=Department+of+Health+and+Mental+Hygiene+%28DOHMH%29 ->  HIV/AIDS Diagnoses by Neighborhood, Sex, and Race/Ethnicity\n",
    "\n",
    "https://data.cityofnewyork.us/Health/HIV-AIDS-Diagnoses-by-Neighborhood-Sex-and-Race-Et/ykvb-493p ->  View Data\n",
    "\n",
    "https://data.cityofnewyork.us/Health/HIV-AIDS-Diagnoses-by-Neighborhood-Sex-and-Race-Et/ykvb-493p -> Export\n",
    "\n",
    "this gives me various links. I copy and paste below the CSV link\n",
    "\n",
    "https://data.cityofnewyork.us/api/views/ykvb-493p/rows.csv?accessType=DOWNLOAD"
   ]
  },
  {
   "cell_type": "markdown",
   "metadata": {},
   "source": [
    "# solution 1: download from the portal \n"
   ]
  },
  {
   "cell_type": "code",
   "execution_count": 4,
   "metadata": {},
   "outputs": [],
   "source": [
    "#downloaded data"
   ]
  },
  {
   "cell_type": "code",
   "execution_count": 5,
   "metadata": {},
   "outputs": [
    {
     "name": "stdout",
     "output_type": "stream",
     "text": [
      "  % Total    % Received % Xferd  Average Speed   Time    Time     Time  Current\n",
      "                                 Dload  Upload   Total   Spent    Left  Speed\n",
      "100  164k    0  164k    0     0   576k      0 --:--:-- --:--:-- --:--:--  575k\n"
     ]
    }
   ],
   "source": [
    "!curl https://data.cityofnewyork.us/api/views/ykvb-493p/rows.csv?accessType=DOWNLOAD > HIVAIDsdata.csv"
   ]
  },
  {
   "cell_type": "code",
   "execution_count": 6,
   "metadata": {},
   "outputs": [
    {
     "name": "stdout",
     "output_type": "stream",
     "text": [
      "PUIdata /nfshome/sjf374/PUIdata\n"
     ]
    }
   ],
   "source": [
    "# ove the downloaded data to PUI data\n",
    "import os\n",
    "print(\"PUIdata\", os.getenv(\"PUIDATA\"))\n",
    "#this works in the command line, but is not working in the jupyter notebook when putting data in place"
   ]
  },
  {
   "cell_type": "code",
   "execution_count": 7,
   "metadata": {},
   "outputs": [
    {
     "name": "stdout",
     "output_type": "stream",
     "text": [
      "PUIdata /nfshome/sjf374/PUI2018/PUIdata\n"
     ]
    }
   ],
   "source": [
    "#create the env variable if missing-- needed to create\n",
    "#added PUI2018 to path \n",
    "os.environ[\"PUIDATA\"] = \"%s/PUI2018/PUIdata\"%os.getenv(\"HOME\")\n",
    "\n",
    "print(\"PUIdata\", os.getenv(\"PUIDATA\"))"
   ]
  },
  {
   "cell_type": "code",
   "execution_count": 8,
   "metadata": {},
   "outputs": [],
   "source": [
    "# move the data\n",
    "!mv HIVAIDsdata.csv $PUIDATA"
   ]
  },
  {
   "cell_type": "code",
   "execution_count": 9,
   "metadata": {},
   "outputs": [
    {
     "name": "stdout",
     "output_type": "stream",
     "text": [
      "HIVAIDsdata.csv\n"
     ]
    }
   ],
   "source": [
    "#test if the data is there- IT IS! HURRAY\n",
    "!ls $PUIDATA"
   ]
  },
  {
   "cell_type": "markdown",
   "metadata": {},
   "source": [
    "## read in the data with pandas"
   ]
  },
  {
   "cell_type": "code",
   "execution_count": 10,
   "metadata": {},
   "outputs": [],
   "source": [
    "#read in the data with pandas\n",
    "import pandas as pd\n",
    "df = pd.read_csv(\"%s/HIVAIDsdata.csv\"%os.getenv(\"PUIDATA\"))"
   ]
  },
  {
   "cell_type": "code",
   "execution_count": 11,
   "metadata": {},
   "outputs": [
    {
     "data": {
      "text/html": [
       "<div>\n",
       "<table border=\"1\" class=\"dataframe\">\n",
       "  <thead>\n",
       "    <tr style=\"text-align: right;\">\n",
       "      <th></th>\n",
       "      <th>YEAR</th>\n",
       "      <th>Neighborhood (U.H.F)</th>\n",
       "      <th>SEX</th>\n",
       "      <th>RACE/ETHNICITY</th>\n",
       "      <th>TOTAL NUMBER OF HIV DIAGNOSES</th>\n",
       "      <th>HIV DIAGNOSES PER 100,000 POPULATION</th>\n",
       "      <th>TOTAL NUMBER OF CONCURRENT HIV/AIDS DIAGNOSES</th>\n",
       "      <th>PROPORTION OF CONCURRENT HIV/AIDS DIAGNOSES AMONG ALL HIV DIAGNOSES</th>\n",
       "      <th>TOTAL NUMBER OF AIDS DIAGNOSES</th>\n",
       "      <th>AIDS DIAGNOSES PER 100,000 POPULATION</th>\n",
       "    </tr>\n",
       "  </thead>\n",
       "  <tbody>\n",
       "    <tr>\n",
       "      <th>0</th>\n",
       "      <td>2010</td>\n",
       "      <td>Greenpoint</td>\n",
       "      <td>Male</td>\n",
       "      <td>Black</td>\n",
       "      <td>6</td>\n",
       "      <td>330.4</td>\n",
       "      <td>0</td>\n",
       "      <td>0</td>\n",
       "      <td>5</td>\n",
       "      <td>275.3</td>\n",
       "    </tr>\n",
       "    <tr>\n",
       "      <th>1</th>\n",
       "      <td>2011</td>\n",
       "      <td>Stapleton - St. George</td>\n",
       "      <td>Female</td>\n",
       "      <td>Native American</td>\n",
       "      <td>0</td>\n",
       "      <td>0</td>\n",
       "      <td>0</td>\n",
       "      <td>0</td>\n",
       "      <td>0</td>\n",
       "      <td>0</td>\n",
       "    </tr>\n",
       "    <tr>\n",
       "      <th>2</th>\n",
       "      <td>2010</td>\n",
       "      <td>Southeast Queens</td>\n",
       "      <td>Male</td>\n",
       "      <td>All</td>\n",
       "      <td>23</td>\n",
       "      <td>25.4</td>\n",
       "      <td>5</td>\n",
       "      <td>21.7</td>\n",
       "      <td>14</td>\n",
       "      <td>15.4</td>\n",
       "    </tr>\n",
       "    <tr>\n",
       "      <th>3</th>\n",
       "      <td>2012</td>\n",
       "      <td>Upper Westside</td>\n",
       "      <td>Female</td>\n",
       "      <td>Unknown</td>\n",
       "      <td>0</td>\n",
       "      <td>0</td>\n",
       "      <td>0</td>\n",
       "      <td>0</td>\n",
       "      <td>0</td>\n",
       "      <td>0</td>\n",
       "    </tr>\n",
       "    <tr>\n",
       "      <th>4</th>\n",
       "      <td>2013</td>\n",
       "      <td>Willowbrook</td>\n",
       "      <td>Male</td>\n",
       "      <td>Unknown</td>\n",
       "      <td>0</td>\n",
       "      <td>0</td>\n",
       "      <td>0</td>\n",
       "      <td>0</td>\n",
       "      <td>0</td>\n",
       "      <td>0</td>\n",
       "    </tr>\n",
       "    <tr>\n",
       "      <th>5</th>\n",
       "      <td>2013</td>\n",
       "      <td>East Flatbush - Flatbush</td>\n",
       "      <td>Male</td>\n",
       "      <td>Black</td>\n",
       "      <td>54</td>\n",
       "      <td>56.5</td>\n",
       "      <td>8</td>\n",
       "      <td>14.8</td>\n",
       "      <td>33</td>\n",
       "      <td>34.5</td>\n",
       "    </tr>\n",
       "    <tr>\n",
       "      <th>6</th>\n",
       "      <td>2013</td>\n",
       "      <td>East Flatbush - Flatbush</td>\n",
       "      <td>Female</td>\n",
       "      <td>Native American</td>\n",
       "      <td>0</td>\n",
       "      <td>0</td>\n",
       "      <td>0</td>\n",
       "      <td>0</td>\n",
       "      <td>0</td>\n",
       "      <td>0</td>\n",
       "    </tr>\n",
       "  </tbody>\n",
       "</table>\n",
       "</div>"
      ],
      "text/plain": [
       "   YEAR      Neighborhood (U.H.F)     SEX   RACE/ETHNICITY  \\\n",
       "0  2010                Greenpoint    Male            Black   \n",
       "1  2011    Stapleton - St. George  Female  Native American   \n",
       "2  2010          Southeast Queens    Male              All   \n",
       "3  2012            Upper Westside  Female          Unknown   \n",
       "4  2013               Willowbrook    Male          Unknown   \n",
       "5  2013  East Flatbush - Flatbush    Male            Black   \n",
       "6  2013  East Flatbush - Flatbush  Female  Native American   \n",
       "\n",
       "  TOTAL NUMBER OF HIV DIAGNOSES HIV DIAGNOSES PER 100,000 POPULATION  \\\n",
       "0                             6                                330.4   \n",
       "1                             0                                    0   \n",
       "2                            23                                 25.4   \n",
       "3                             0                                    0   \n",
       "4                             0                                    0   \n",
       "5                            54                                 56.5   \n",
       "6                             0                                    0   \n",
       "\n",
       "  TOTAL NUMBER OF CONCURRENT HIV/AIDS DIAGNOSES  \\\n",
       "0                                             0   \n",
       "1                                             0   \n",
       "2                                             5   \n",
       "3                                             0   \n",
       "4                                             0   \n",
       "5                                             8   \n",
       "6                                             0   \n",
       "\n",
       "  PROPORTION OF CONCURRENT HIV/AIDS DIAGNOSES AMONG ALL HIV DIAGNOSES  \\\n",
       "0                                                  0                    \n",
       "1                                                  0                    \n",
       "2                                               21.7                    \n",
       "3                                                  0                    \n",
       "4                                                  0                    \n",
       "5                                               14.8                    \n",
       "6                                                  0                    \n",
       "\n",
       "  TOTAL NUMBER OF AIDS DIAGNOSES AIDS DIAGNOSES PER 100,000 POPULATION  \n",
       "0                              5                                 275.3  \n",
       "1                              0                                     0  \n",
       "2                             14                                  15.4  \n",
       "3                              0                                     0  \n",
       "4                              0                                     0  \n",
       "5                             33                                  34.5  \n",
       "6                              0                                     0  "
      ]
     },
     "execution_count": 11,
     "metadata": {},
     "output_type": "execute_result"
    }
   ],
   "source": [
    "#print the first 7 lines out- as described in HW3 readme\n",
    "df.head(7)"
   ]
  },
  {
   "cell_type": "code",
   "execution_count": 12,
   "metadata": {},
   "outputs": [
    {
     "data": {
      "text/html": [
       "<div>\n",
       "<table border=\"1\" class=\"dataframe\">\n",
       "  <thead>\n",
       "    <tr style=\"text-align: right;\">\n",
       "      <th></th>\n",
       "      <th>YEAR</th>\n",
       "      <th>Neighborhood (U.H.F)</th>\n",
       "      <th>SEX</th>\n",
       "      <th>RACE/ETHNICITY</th>\n",
       "      <th>TOTAL NUMBER OF HIV DIAGNOSES</th>\n",
       "      <th>HIV DIAGNOSES PER 100,000 POPULATION</th>\n",
       "      <th>TOTAL NUMBER OF CONCURRENT HIV/AIDS DIAGNOSES</th>\n",
       "      <th>PROPORTION OF CONCURRENT HIV/AIDS DIAGNOSES AMONG ALL HIV DIAGNOSES</th>\n",
       "      <th>TOTAL NUMBER OF AIDS DIAGNOSES</th>\n",
       "      <th>AIDS DIAGNOSES PER 100,000 POPULATION</th>\n",
       "    </tr>\n",
       "  </thead>\n",
       "  <tbody>\n",
       "    <tr>\n",
       "      <th>2925</th>\n",
       "      <td>2010</td>\n",
       "      <td>Bedford Stuyvesant - Crown Heights</td>\n",
       "      <td>Male</td>\n",
       "      <td>Native American</td>\n",
       "      <td>0</td>\n",
       "      <td>0</td>\n",
       "      <td>0</td>\n",
       "      <td>0</td>\n",
       "      <td>0</td>\n",
       "      <td>0</td>\n",
       "    </tr>\n",
       "    <tr>\n",
       "      <th>2926</th>\n",
       "      <td>2011</td>\n",
       "      <td>Long Island City - Astoria</td>\n",
       "      <td>Male</td>\n",
       "      <td>Black</td>\n",
       "      <td>6</td>\n",
       "      <td>97.6</td>\n",
       "      <td>1</td>\n",
       "      <td>16.7</td>\n",
       "      <td>3</td>\n",
       "      <td>48.8</td>\n",
       "    </tr>\n",
       "    <tr>\n",
       "      <th>2927</th>\n",
       "      <td>2011</td>\n",
       "      <td>Bensonhurst - Bay Ridge</td>\n",
       "      <td>Female</td>\n",
       "      <td>Hispanic</td>\n",
       "      <td>0</td>\n",
       "      <td>0</td>\n",
       "      <td>0</td>\n",
       "      <td>0</td>\n",
       "      <td>0</td>\n",
       "      <td>0</td>\n",
       "    </tr>\n",
       "  </tbody>\n",
       "</table>\n",
       "</div>"
      ],
      "text/plain": [
       "      YEAR                Neighborhood (U.H.F)     SEX   RACE/ETHNICITY  \\\n",
       "2925  2010  Bedford Stuyvesant - Crown Heights    Male  Native American   \n",
       "2926  2011          Long Island City - Astoria    Male            Black   \n",
       "2927  2011             Bensonhurst - Bay Ridge  Female         Hispanic   \n",
       "\n",
       "     TOTAL NUMBER OF HIV DIAGNOSES HIV DIAGNOSES PER 100,000 POPULATION  \\\n",
       "2925                             0                                    0   \n",
       "2926                             6                                 97.6   \n",
       "2927                             0                                    0   \n",
       "\n",
       "     TOTAL NUMBER OF CONCURRENT HIV/AIDS DIAGNOSES  \\\n",
       "2925                                             0   \n",
       "2926                                             1   \n",
       "2927                                             0   \n",
       "\n",
       "     PROPORTION OF CONCURRENT HIV/AIDS DIAGNOSES AMONG ALL HIV DIAGNOSES  \\\n",
       "2925                                                  0                    \n",
       "2926                                               16.7                    \n",
       "2927                                                  0                    \n",
       "\n",
       "     TOTAL NUMBER OF AIDS DIAGNOSES AIDS DIAGNOSES PER 100,000 POPULATION  \n",
       "2925                              0                                     0  \n",
       "2926                              3                                  48.8  \n",
       "2927                              0                                     0  "
      ]
     },
     "execution_count": 12,
     "metadata": {},
     "output_type": "execute_result"
    }
   ],
   "source": [
    "#print the last 3 lines out\n",
    "df.tail(3)"
   ]
  },
  {
   "cell_type": "code",
   "execution_count": 13,
   "metadata": {},
   "outputs": [
    {
     "data": {
      "text/plain": [
       "Index(['YEAR', 'Neighborhood (U.H.F)', 'SEX', 'RACE/ETHNICITY',\n",
       "       'TOTAL NUMBER OF HIV DIAGNOSES', 'HIV DIAGNOSES PER 100,000 POPULATION',\n",
       "       'TOTAL NUMBER OF CONCURRENT HIV/AIDS DIAGNOSES',\n",
       "       'PROPORTION OF CONCURRENT HIV/AIDS DIAGNOSES AMONG ALL HIV DIAGNOSES',\n",
       "       'TOTAL NUMBER OF AIDS DIAGNOSES',\n",
       "       'AIDS DIAGNOSES PER 100,000 POPULATION'],\n",
       "      dtype='object')"
      ]
     },
     "execution_count": 13,
     "metadata": {},
     "output_type": "execute_result"
    }
   ],
   "source": [
    "#look at the columns available, those are the variables\n",
    "df.columns"
   ]
  },
  {
   "cell_type": "code",
   "execution_count": 14,
   "metadata": {},
   "outputs": [
    {
     "data": {
      "text/plain": [
       "29280"
      ]
     },
     "execution_count": 14,
     "metadata": {},
     "output_type": "execute_result"
    }
   ],
   "source": [
    "#count how many rows, those are the data points\n",
    "df.size"
   ]
  },
  {
   "cell_type": "code",
   "execution_count": 15,
   "metadata": {},
   "outputs": [
    {
     "data": {
      "text/plain": [
       "array(['5', '0', '14', '33', '12', '*', '1', '4', '11', '2', '55', '13',\n",
       "       '46', '20', '3', '15', '59', '35', '81', '68', '40', '24', '31',\n",
       "       '9', '28', '27', '10', '30', '56', '16', '7', '6', '17', '71', '75',\n",
       "       '64', '50', '21', '19', '8', '1784', '43', '60', '18', '36', '25',\n",
       "       '99', '42', '102', '22', '38', '144', '51', '26', '45', '37', '69',\n",
       "       '67', '96', '23', '73', '48', '114', '58', '49', '32', '108', '100',\n",
       "       '78', '2036', '129', '61', '97', '57', '155', '70', '62', '39',\n",
       "       '63', '82', '93', '176', '79', '84', '34', '47', '41', '222', '29',\n",
       "       '122', '66', '54', '128', '89', '74', '72', '120', '87', '124',\n",
       "       '106', '2292', '53', '77', '203', '180', '118', '44', '52', '132',\n",
       "       '101', '229', '201', '159', '2611', '110', '90', '83', '91', '88',\n",
       "       '98', '65', '86', '221', '104', '85', '168', '193'], dtype=object)"
      ]
     },
     "execution_count": 15,
     "metadata": {},
     "output_type": "execute_result"
    }
   ],
   "source": [
    "df['TOTAL NUMBER OF AIDS DIAGNOSES'].unique()"
   ]
  },
  {
   "cell_type": "code",
   "execution_count": 16,
   "metadata": {},
   "outputs": [
    {
     "data": {
      "text/plain": [
       "array(['6', '0', '23', '54', '14', '7', '5', '3', '4', '1', '59', '45',\n",
       "       '17', '2', '25', '64', '34', '82', '11', '135', '44', '29', '49',\n",
       "       '24', '38', '9', '55', '19', '13', '26', '8', '52', '91', '21',\n",
       "       '28', '20', '109', '108', '99', '27', '65', '10', '16', '18',\n",
       "       '2832', '56', '32', '15', '22', '63', '39', '41', '51', '35', '125',\n",
       "       '74', '113', '75', '62', '68', '171', '36', '60', '37', '87', '84',\n",
       "       '72', '155', '12', '85', '46', '148', '66', '33', '*', '116', '100',\n",
       "       '30', '95', '2990', '40', '187', '53', '71', '58', '204', '81',\n",
       "       '134', '142', '178', '47', '98', '31', '78', '90', '79', '69', '86',\n",
       "       '172', '271', '89', '140', '143', '138', '104', '80', '92', '67',\n",
       "       '150', '94', '117', '314', '145', '57', '88', '76', '115', '122',\n",
       "       '83', '114', '112', '43', '102', '129', '42', '107', '110', '105',\n",
       "       '3225', '48', '50', '96', '141', '212', '77', '61', '275', '168',\n",
       "       '151', '166', '111', '325', '284', '252', '3353', '133', '131',\n",
       "       '128', '147', '195', '132', '120', '73', '164', '315', '101', '70',\n",
       "       '162', '123', '237'], dtype=object)"
      ]
     },
     "execution_count": 16,
     "metadata": {},
     "output_type": "execute_result"
    }
   ],
   "source": [
    "df['TOTAL NUMBER OF HIV DIAGNOSES'].unique()"
   ]
  },
  {
   "cell_type": "code",
   "execution_count": 17,
   "metadata": {},
   "outputs": [],
   "source": [
    "#seem to be *,  after inspection decided to replace with NaN so can be graphed"
   ]
  },
  {
   "cell_type": "code",
   "execution_count": 18,
   "metadata": {},
   "outputs": [],
   "source": [
    "df['TOTAL NUMBER OF HIV DIAGNOSES'].replace('*', np.nan, inplace=True)"
   ]
  },
  {
   "cell_type": "code",
   "execution_count": 19,
   "metadata": {},
   "outputs": [],
   "source": [
    "df['TOTAL NUMBER OF AIDS DIAGNOSES'].replace('*', np.nan, inplace=True)"
   ]
  },
  {
   "cell_type": "code",
   "execution_count": 20,
   "metadata": {},
   "outputs": [
    {
     "data": {
      "text/plain": [
       "array(['6', '0', '23', '54', '14', '7', '5', '3', '4', '1', '59', '45',\n",
       "       '17', '2', '25', '64', '34', '82', '11', '135', '44', '29', '49',\n",
       "       '24', '38', '9', '55', '19', '13', '26', '8', '52', '91', '21',\n",
       "       '28', '20', '109', '108', '99', '27', '65', '10', '16', '18',\n",
       "       '2832', '56', '32', '15', '22', '63', '39', '41', '51', '35', '125',\n",
       "       '74', '113', '75', '62', '68', '171', '36', '60', '37', '87', '84',\n",
       "       '72', '155', '12', '85', '46', '148', '66', '33', nan, '116', '100',\n",
       "       '30', '95', '2990', '40', '187', '53', '71', '58', '204', '81',\n",
       "       '134', '142', '178', '47', '98', '31', '78', '90', '79', '69', '86',\n",
       "       '172', '271', '89', '140', '143', '138', '104', '80', '92', '67',\n",
       "       '150', '94', '117', '314', '145', '57', '88', '76', '115', '122',\n",
       "       '83', '114', '112', '43', '102', '129', '42', '107', '110', '105',\n",
       "       '3225', '48', '50', '96', '141', '212', '77', '61', '275', '168',\n",
       "       '151', '166', '111', '325', '284', '252', '3353', '133', '131',\n",
       "       '128', '147', '195', '132', '120', '73', '164', '315', '101', '70',\n",
       "       '162', '123', '237'], dtype=object)"
      ]
     },
     "execution_count": 20,
     "metadata": {},
     "output_type": "execute_result"
    }
   ],
   "source": [
    "#check to make sure it worked\n",
    "df['TOTAL NUMBER OF HIV DIAGNOSES'].unique()"
   ]
  },
  {
   "cell_type": "code",
   "execution_count": 21,
   "metadata": {},
   "outputs": [
    {
     "data": {
      "text/plain": [
       "array(['5', '0', '14', '33', '12', nan, '1', '4', '11', '2', '55', '13',\n",
       "       '46', '20', '3', '15', '59', '35', '81', '68', '40', '24', '31',\n",
       "       '9', '28', '27', '10', '30', '56', '16', '7', '6', '17', '71', '75',\n",
       "       '64', '50', '21', '19', '8', '1784', '43', '60', '18', '36', '25',\n",
       "       '99', '42', '102', '22', '38', '144', '51', '26', '45', '37', '69',\n",
       "       '67', '96', '23', '73', '48', '114', '58', '49', '32', '108', '100',\n",
       "       '78', '2036', '129', '61', '97', '57', '155', '70', '62', '39',\n",
       "       '63', '82', '93', '176', '79', '84', '34', '47', '41', '222', '29',\n",
       "       '122', '66', '54', '128', '89', '74', '72', '120', '87', '124',\n",
       "       '106', '2292', '53', '77', '203', '180', '118', '44', '52', '132',\n",
       "       '101', '229', '201', '159', '2611', '110', '90', '83', '91', '88',\n",
       "       '98', '65', '86', '221', '104', '85', '168', '193'], dtype=object)"
      ]
     },
     "execution_count": 21,
     "metadata": {},
     "output_type": "execute_result"
    }
   ],
   "source": [
    "df['TOTAL NUMBER OF AIDS DIAGNOSES'].unique()"
   ]
  },
  {
   "cell_type": "code",
   "execution_count": 22,
   "metadata": {},
   "outputs": [],
   "source": [
    "#now to look at the ones that seems out of range after graphing the first time"
   ]
  },
  {
   "cell_type": "code",
   "execution_count": 23,
   "metadata": {},
   "outputs": [
    {
     "name": "stderr",
     "output_type": "stream",
     "text": [
      "/usr/local/Anaconda3-5.0.0-Linux-x86_64/envs/PUI2016_Python3/lib/python3.5/site-packages/ipykernel/__main__.py:1: UserWarning: Boolean Series key will be reindexed to match DataFrame index.\n",
      "  if __name__ == '__main__':\n"
     ]
    },
    {
     "data": {
      "text/html": [
       "<div>\n",
       "<table border=\"1\" class=\"dataframe\">\n",
       "  <thead>\n",
       "    <tr style=\"text-align: right;\">\n",
       "      <th></th>\n",
       "      <th>YEAR</th>\n",
       "      <th>Neighborhood (U.H.F)</th>\n",
       "      <th>SEX</th>\n",
       "      <th>RACE/ETHNICITY</th>\n",
       "      <th>TOTAL NUMBER OF HIV DIAGNOSES</th>\n",
       "      <th>HIV DIAGNOSES PER 100,000 POPULATION</th>\n",
       "      <th>TOTAL NUMBER OF CONCURRENT HIV/AIDS DIAGNOSES</th>\n",
       "      <th>PROPORTION OF CONCURRENT HIV/AIDS DIAGNOSES AMONG ALL HIV DIAGNOSES</th>\n",
       "      <th>TOTAL NUMBER OF AIDS DIAGNOSES</th>\n",
       "      <th>AIDS DIAGNOSES PER 100,000 POPULATION</th>\n",
       "    </tr>\n",
       "  </thead>\n",
       "  <tbody>\n",
       "    <tr>\n",
       "      <th>9</th>\n",
       "      <td>2010</td>\n",
       "      <td>Flushing - Clearview</td>\n",
       "      <td>All</td>\n",
       "      <td>All</td>\n",
       "      <td>14</td>\n",
       "      <td>5.4</td>\n",
       "      <td>5</td>\n",
       "      <td>35.7</td>\n",
       "      <td>12</td>\n",
       "      <td>4.6</td>\n",
       "    </tr>\n",
       "    <tr>\n",
       "      <th>23</th>\n",
       "      <td>2011</td>\n",
       "      <td>South Beach - Tottenville</td>\n",
       "      <td>All</td>\n",
       "      <td>All</td>\n",
       "      <td>4</td>\n",
       "      <td>2.1</td>\n",
       "      <td>2</td>\n",
       "      <td>50</td>\n",
       "      <td>4</td>\n",
       "      <td>2.1</td>\n",
       "    </tr>\n",
       "    <tr>\n",
       "      <th>69</th>\n",
       "      <td>2013</td>\n",
       "      <td>Washington Heights - Inwood</td>\n",
       "      <td>All</td>\n",
       "      <td>All</td>\n",
       "      <td>135</td>\n",
       "      <td>52.9</td>\n",
       "      <td>23</td>\n",
       "      <td>17</td>\n",
       "      <td>68</td>\n",
       "      <td>26.6</td>\n",
       "    </tr>\n",
       "    <tr>\n",
       "      <th>89</th>\n",
       "      <td>2013</td>\n",
       "      <td>Southeast Queens</td>\n",
       "      <td>All</td>\n",
       "      <td>All</td>\n",
       "      <td>34</td>\n",
       "      <td>17.1</td>\n",
       "      <td>7</td>\n",
       "      <td>20.6</td>\n",
       "      <td>27</td>\n",
       "      <td>13.6</td>\n",
       "    </tr>\n",
       "    <tr>\n",
       "      <th>96</th>\n",
       "      <td>2013</td>\n",
       "      <td>Sunset Park</td>\n",
       "      <td>All</td>\n",
       "      <td>All</td>\n",
       "      <td>17</td>\n",
       "      <td>12.7</td>\n",
       "      <td>2</td>\n",
       "      <td>11.8</td>\n",
       "      <td>12</td>\n",
       "      <td>8.9</td>\n",
       "    </tr>\n",
       "  </tbody>\n",
       "</table>\n",
       "</div>"
      ],
      "text/plain": [
       "    YEAR         Neighborhood (U.H.F)  SEX RACE/ETHNICITY  \\\n",
       "9   2010         Flushing - Clearview  All            All   \n",
       "23  2011    South Beach - Tottenville  All            All   \n",
       "69  2013  Washington Heights - Inwood  All            All   \n",
       "89  2013             Southeast Queens  All            All   \n",
       "96  2013                  Sunset Park  All            All   \n",
       "\n",
       "   TOTAL NUMBER OF HIV DIAGNOSES HIV DIAGNOSES PER 100,000 POPULATION  \\\n",
       "9                             14                                  5.4   \n",
       "23                             4                                  2.1   \n",
       "69                           135                                 52.9   \n",
       "89                            34                                 17.1   \n",
       "96                            17                                 12.7   \n",
       "\n",
       "   TOTAL NUMBER OF CONCURRENT HIV/AIDS DIAGNOSES  \\\n",
       "9                                              5   \n",
       "23                                             2   \n",
       "69                                            23   \n",
       "89                                             7   \n",
       "96                                             2   \n",
       "\n",
       "   PROPORTION OF CONCURRENT HIV/AIDS DIAGNOSES AMONG ALL HIV DIAGNOSES  \\\n",
       "9                                                35.7                    \n",
       "23                                                 50                    \n",
       "69                                                 17                    \n",
       "89                                               20.6                    \n",
       "96                                               11.8                    \n",
       "\n",
       "   TOTAL NUMBER OF AIDS DIAGNOSES AIDS DIAGNOSES PER 100,000 POPULATION  \n",
       "9                              12                                   4.6  \n",
       "23                              4                                   2.1  \n",
       "69                             68                                  26.6  \n",
       "89                             27                                  13.6  \n",
       "96                             12                                   8.9  "
      ]
     },
     "execution_count": 23,
     "metadata": {},
     "output_type": "execute_result"
    }
   ],
   "source": [
    "df[df['SEX'] == 'All'][df['RACE/ETHNICITY'] == 'All'].head()"
   ]
  },
  {
   "cell_type": "code",
   "execution_count": 24,
   "metadata": {},
   "outputs": [
    {
     "name": "stderr",
     "output_type": "stream",
     "text": [
      "/usr/local/Anaconda3-5.0.0-Linux-x86_64/envs/PUI2016_Python3/lib/python3.5/site-packages/ipykernel/__main__.py:2: UserWarning: Boolean Series key will be reindexed to match DataFrame index.\n",
      "  from ipykernel import kernelapp as app\n"
     ]
    }
   ],
   "source": [
    "#since these are summary data, will remove those so the graphing makes sense\n",
    "df = df[df['SEX'] != 'All'][df['RACE/ETHNICITY'] != 'All']"
   ]
  },
  {
   "cell_type": "code",
   "execution_count": 25,
   "metadata": {},
   "outputs": [
    {
     "data": {
      "text/html": [
       "<div>\n",
       "<table border=\"1\" class=\"dataframe\">\n",
       "  <thead>\n",
       "    <tr style=\"text-align: right;\">\n",
       "      <th></th>\n",
       "      <th>YEAR</th>\n",
       "      <th>Neighborhood (U.H.F)</th>\n",
       "      <th>SEX</th>\n",
       "      <th>RACE/ETHNICITY</th>\n",
       "      <th>TOTAL NUMBER OF HIV DIAGNOSES</th>\n",
       "      <th>HIV DIAGNOSES PER 100,000 POPULATION</th>\n",
       "      <th>TOTAL NUMBER OF CONCURRENT HIV/AIDS DIAGNOSES</th>\n",
       "      <th>PROPORTION OF CONCURRENT HIV/AIDS DIAGNOSES AMONG ALL HIV DIAGNOSES</th>\n",
       "      <th>TOTAL NUMBER OF AIDS DIAGNOSES</th>\n",
       "      <th>AIDS DIAGNOSES PER 100,000 POPULATION</th>\n",
       "    </tr>\n",
       "  </thead>\n",
       "  <tbody>\n",
       "    <tr>\n",
       "      <th>0</th>\n",
       "      <td>2010</td>\n",
       "      <td>Greenpoint</td>\n",
       "      <td>Male</td>\n",
       "      <td>Black</td>\n",
       "      <td>6</td>\n",
       "      <td>330.4</td>\n",
       "      <td>0</td>\n",
       "      <td>0</td>\n",
       "      <td>5</td>\n",
       "      <td>275.3</td>\n",
       "    </tr>\n",
       "    <tr>\n",
       "      <th>1</th>\n",
       "      <td>2011</td>\n",
       "      <td>Stapleton - St. George</td>\n",
       "      <td>Female</td>\n",
       "      <td>Native American</td>\n",
       "      <td>0</td>\n",
       "      <td>0</td>\n",
       "      <td>0</td>\n",
       "      <td>0</td>\n",
       "      <td>0</td>\n",
       "      <td>0</td>\n",
       "    </tr>\n",
       "    <tr>\n",
       "      <th>3</th>\n",
       "      <td>2012</td>\n",
       "      <td>Upper Westside</td>\n",
       "      <td>Female</td>\n",
       "      <td>Unknown</td>\n",
       "      <td>0</td>\n",
       "      <td>0</td>\n",
       "      <td>0</td>\n",
       "      <td>0</td>\n",
       "      <td>0</td>\n",
       "      <td>0</td>\n",
       "    </tr>\n",
       "    <tr>\n",
       "      <th>4</th>\n",
       "      <td>2013</td>\n",
       "      <td>Willowbrook</td>\n",
       "      <td>Male</td>\n",
       "      <td>Unknown</td>\n",
       "      <td>0</td>\n",
       "      <td>0</td>\n",
       "      <td>0</td>\n",
       "      <td>0</td>\n",
       "      <td>0</td>\n",
       "      <td>0</td>\n",
       "    </tr>\n",
       "    <tr>\n",
       "      <th>5</th>\n",
       "      <td>2013</td>\n",
       "      <td>East Flatbush - Flatbush</td>\n",
       "      <td>Male</td>\n",
       "      <td>Black</td>\n",
       "      <td>54</td>\n",
       "      <td>56.5</td>\n",
       "      <td>8</td>\n",
       "      <td>14.8</td>\n",
       "      <td>33</td>\n",
       "      <td>34.5</td>\n",
       "    </tr>\n",
       "  </tbody>\n",
       "</table>\n",
       "</div>"
      ],
      "text/plain": [
       "   YEAR      Neighborhood (U.H.F)     SEX   RACE/ETHNICITY  \\\n",
       "0  2010                Greenpoint    Male            Black   \n",
       "1  2011    Stapleton - St. George  Female  Native American   \n",
       "3  2012            Upper Westside  Female          Unknown   \n",
       "4  2013               Willowbrook    Male          Unknown   \n",
       "5  2013  East Flatbush - Flatbush    Male            Black   \n",
       "\n",
       "  TOTAL NUMBER OF HIV DIAGNOSES HIV DIAGNOSES PER 100,000 POPULATION  \\\n",
       "0                             6                                330.4   \n",
       "1                             0                                    0   \n",
       "3                             0                                    0   \n",
       "4                             0                                    0   \n",
       "5                            54                                 56.5   \n",
       "\n",
       "  TOTAL NUMBER OF CONCURRENT HIV/AIDS DIAGNOSES  \\\n",
       "0                                             0   \n",
       "1                                             0   \n",
       "3                                             0   \n",
       "4                                             0   \n",
       "5                                             8   \n",
       "\n",
       "  PROPORTION OF CONCURRENT HIV/AIDS DIAGNOSES AMONG ALL HIV DIAGNOSES  \\\n",
       "0                                                  0                    \n",
       "1                                                  0                    \n",
       "3                                                  0                    \n",
       "4                                                  0                    \n",
       "5                                               14.8                    \n",
       "\n",
       "  TOTAL NUMBER OF AIDS DIAGNOSES AIDS DIAGNOSES PER 100,000 POPULATION  \n",
       "0                              5                                 275.3  \n",
       "1                              0                                     0  \n",
       "3                              0                                     0  \n",
       "4                              0                                     0  \n",
       "5                             33                                  34.5  "
      ]
     },
     "execution_count": 25,
     "metadata": {},
     "output_type": "execute_result"
    }
   ],
   "source": [
    "#check the data quickly\n",
    "df.head()"
   ]
  },
  {
   "cell_type": "code",
   "execution_count": 26,
   "metadata": {},
   "outputs": [
    {
     "data": {
      "text/plain": [
       "YEAR                                                                    int64\n",
       "Neighborhood (U.H.F)                                                   object\n",
       "SEX                                                                    object\n",
       "RACE/ETHNICITY                                                         object\n",
       "TOTAL NUMBER OF HIV DIAGNOSES                                          object\n",
       "HIV DIAGNOSES PER 100,000 POPULATION                                   object\n",
       "TOTAL NUMBER OF CONCURRENT HIV/AIDS DIAGNOSES                          object\n",
       "PROPORTION OF CONCURRENT HIV/AIDS DIAGNOSES AMONG ALL HIV DIAGNOSES    object\n",
       "TOTAL NUMBER OF AIDS DIAGNOSES                                         object\n",
       "AIDS DIAGNOSES PER 100,000 POPULATION                                  object\n",
       "dtype: object"
      ]
     },
     "execution_count": 26,
     "metadata": {},
     "output_type": "execute_result"
    }
   ],
   "source": [
    "#we need numerics to graph\n",
    "df.dtypes"
   ]
  },
  {
   "cell_type": "code",
   "execution_count": 27,
   "metadata": {},
   "outputs": [],
   "source": [
    "#changing the graphed data to numerics\n",
    "df['TOTAL NUMBER OF AIDS DIAGNOSES'] = df['TOTAL NUMBER OF AIDS DIAGNOSES'].apply(pd.to_numeric, errors='coerce')\n",
    "df['TOTAL NUMBER OF HIV DIAGNOSES'] = df['TOTAL NUMBER OF HIV DIAGNOSES'].apply(pd.to_numeric, errors='coerce')"
   ]
  },
  {
   "cell_type": "code",
   "execution_count": 28,
   "metadata": {},
   "outputs": [],
   "source": [
    "#select 2 columns only for plotting\n",
    "df2 = df[['TOTAL NUMBER OF HIV DIAGNOSES', 'TOTAL NUMBER OF AIDS DIAGNOSES']]"
   ]
  },
  {
   "cell_type": "code",
   "execution_count": 29,
   "metadata": {},
   "outputs": [
    {
     "data": {
      "text/html": [
       "<div>\n",
       "<table border=\"1\" class=\"dataframe\">\n",
       "  <thead>\n",
       "    <tr style=\"text-align: right;\">\n",
       "      <th></th>\n",
       "      <th>TOTAL NUMBER OF HIV DIAGNOSES</th>\n",
       "      <th>TOTAL NUMBER OF AIDS DIAGNOSES</th>\n",
       "    </tr>\n",
       "  </thead>\n",
       "  <tbody>\n",
       "    <tr>\n",
       "      <th>0</th>\n",
       "      <td>6.0</td>\n",
       "      <td>5.0</td>\n",
       "    </tr>\n",
       "    <tr>\n",
       "      <th>1</th>\n",
       "      <td>0.0</td>\n",
       "      <td>0.0</td>\n",
       "    </tr>\n",
       "    <tr>\n",
       "      <th>3</th>\n",
       "      <td>0.0</td>\n",
       "      <td>0.0</td>\n",
       "    </tr>\n",
       "    <tr>\n",
       "      <th>4</th>\n",
       "      <td>0.0</td>\n",
       "      <td>0.0</td>\n",
       "    </tr>\n",
       "    <tr>\n",
       "      <th>5</th>\n",
       "      <td>54.0</td>\n",
       "      <td>33.0</td>\n",
       "    </tr>\n",
       "  </tbody>\n",
       "</table>\n",
       "</div>"
      ],
      "text/plain": [
       "   TOTAL NUMBER OF HIV DIAGNOSES  TOTAL NUMBER OF AIDS DIAGNOSES\n",
       "0                            6.0                             5.0\n",
       "1                            0.0                             0.0\n",
       "3                            0.0                             0.0\n",
       "4                            0.0                             0.0\n",
       "5                           54.0                            33.0"
      ]
     },
     "execution_count": 29,
     "metadata": {},
     "output_type": "execute_result"
    }
   ],
   "source": [
    "#check it out\n",
    "df2.head()"
   ]
  },
  {
   "cell_type": "code",
   "execution_count": 30,
   "metadata": {},
   "outputs": [
    {
     "data": {
      "text/plain": [
       "TOTAL NUMBER OF HIV DIAGNOSES     float64\n",
       "TOTAL NUMBER OF AIDS DIAGNOSES    float64\n",
       "dtype: object"
      ]
     },
     "execution_count": 30,
     "metadata": {},
     "output_type": "execute_result"
    }
   ],
   "source": [
    "#make sure they are the right type\n",
    "df2.dtypes"
   ]
  },
  {
   "cell_type": "markdown",
   "metadata": {},
   "source": [
    "## plot the data"
   ]
  },
  {
   "cell_type": "code",
   "execution_count": 31,
   "metadata": {},
   "outputs": [
    {
     "data": {
      "text/plain": [
       "<matplotlib.axes._subplots.AxesSubplot at 0x7f35d7dfe780>"
      ]
     },
     "execution_count": 31,
     "metadata": {},
     "output_type": "execute_result"
    }
   ],
   "source": [
    "df2.plot(kind='scatter', x='TOTAL NUMBER OF HIV DIAGNOSES', y='TOTAL NUMBER OF AIDS DIAGNOSES')"
   ]
  },
  {
   "cell_type": "code",
   "execution_count": 32,
   "metadata": {},
   "outputs": [],
   "source": [
    "# wont show anything if i do not use the magic command to show plots in the notebook \n",
    "#(or use pl.show to pop up a window, but for the homework plots have to be embedded)"
   ]
  },
  {
   "cell_type": "code",
   "execution_count": 33,
   "metadata": {},
   "outputs": [
    {
     "name": "stdout",
     "output_type": "stream",
     "text": [
      "Populating the interactive namespace from numpy and matplotlib\n"
     ]
    }
   ],
   "source": [
    "%pylab inline"
   ]
  },
  {
   "cell_type": "code",
   "execution_count": 34,
   "metadata": {},
   "outputs": [
    {
     "data": {
      "text/plain": [
       "<matplotlib.axes._subplots.AxesSubplot at 0x7f35d7ce3e80>"
      ]
     },
     "execution_count": 34,
     "metadata": {},
     "output_type": "execute_result"
    },
    {
     "data": {
      "image/png": "[encoded data removed]",
      "text/plain": [
       "<matplotlib.figure.Figure at 0x7f35d7ce3198>"
      ]
     },
     "metadata": {},
     "output_type": "display_data"
    }
   ],
   "source": [
    "df2.plot(kind='scatter', x='TOTAL NUMBER OF HIV DIAGNOSES', y='TOTAL NUMBER OF AIDS DIAGNOSES', figsize=(10,10), title = 'Scatter Plot of HIV and AIDS Diagnoses')\n",
    "\n",
    "# every plot needs a caption that explains to the reader \n",
    "# 1) WHAT what the reader is loooking at and \n",
    "# 2) WHY why the reader is looking at it here in the analysis \n",
    "#      (in this case there is no why cause this plot is not part of an analysis)\n",
    "# 3) TAKE HOME what is the take home point for the plot in the analysis \n",
    "#      (also there is no take home point here cause we are not doind an analysis but you can point out interesting features)"
   ]
  },
  {
   "cell_type": "markdown",
   "metadata": {},
   "source": [
    "Figure 1: This is a scatter plot of the number of HIV Diagnoses and AIDS Diagnoses. Each dot represents a unique combination of year, neighborhood, sex, and race/ethnicity. This data suggests there is a correlation between AIDS and HIV diagnoses, which would support the clinical nature of the disease. \n"
   ]
  },
  {
   "cell_type": "markdown",
   "metadata": {},
   "source": [
    "# solution 2: Use API and download a json file"
   ]
  },
  {
   "cell_type": "markdown",
   "metadata": {},
   "source": [
    "from the dataset export link now go to -> SODA API and the the endpoint"
   ]
  },
  {
   "cell_type": "code",
   "execution_count": 35,
   "metadata": {},
   "outputs": [],
   "source": [
    "url = \"https://data.cityofnewyork.us/resource/6fha-ajet.json\""
   ]
  },
  {
   "cell_type": "code",
   "execution_count": 36,
   "metadata": {},
   "outputs": [],
   "source": [
    "#use the appropriatepandas function to read in the json file\n",
    "df = pd.read_json(url)"
   ]
  },
  {
   "cell_type": "code",
   "execution_count": 37,
   "metadata": {},
   "outputs": [
    {
     "data": {
      "text/html": [
       "<div>\n",
       "<table border=\"1\" class=\"dataframe\">\n",
       "  <thead>\n",
       "    <tr style=\"text-align: right;\">\n",
       "      <th></th>\n",
       "      <th>aids_diagnoses_num</th>\n",
       "      <th>aids_diagnoses_num_per_100k</th>\n",
       "      <th>concurrent_hiv_aids_among_all</th>\n",
       "      <th>hiv_aids_concurrent_num</th>\n",
       "      <th>hiv_diagnoses_num</th>\n",
       "      <th>hiv_diagnoses_num_per_100k</th>\n",
       "      <th>neighborhood</th>\n",
       "      <th>race</th>\n",
       "      <th>sex</th>\n",
       "      <th>year</th>\n",
       "    </tr>\n",
       "  </thead>\n",
       "  <tbody>\n",
       "    <tr>\n",
       "      <th>0</th>\n",
       "      <td>1</td>\n",
       "      <td>15.2</td>\n",
       "      <td>0</td>\n",
       "      <td>0</td>\n",
       "      <td>2</td>\n",
       "      <td>30.3</td>\n",
       "      <td>Fresh Meadows</td>\n",
       "      <td>Hispanic</td>\n",
       "      <td>Male</td>\n",
       "      <td>2013</td>\n",
       "    </tr>\n",
       "    <tr>\n",
       "      <th>1</th>\n",
       "      <td>0</td>\n",
       "      <td>0</td>\n",
       "      <td>0</td>\n",
       "      <td>0</td>\n",
       "      <td>3</td>\n",
       "      <td>113.1</td>\n",
       "      <td>Bedford Stuyvesant - Crown Heights</td>\n",
       "      <td>Multiracial</td>\n",
       "      <td>Male</td>\n",
       "      <td>2013</td>\n",
       "    </tr>\n",
       "    <tr>\n",
       "      <th>2</th>\n",
       "      <td>71</td>\n",
       "      <td>43</td>\n",
       "      <td>15.4</td>\n",
       "      <td>22</td>\n",
       "      <td>143</td>\n",
       "      <td>86.6</td>\n",
       "      <td>Central Harlem - Morningside Heights</td>\n",
       "      <td>All</td>\n",
       "      <td>All</td>\n",
       "      <td>2012</td>\n",
       "    </tr>\n",
       "    <tr>\n",
       "      <th>3</th>\n",
       "      <td>0</td>\n",
       "      <td>0</td>\n",
       "      <td>0</td>\n",
       "      <td>0</td>\n",
       "      <td>0</td>\n",
       "      <td>0</td>\n",
       "      <td>Ridgewood - Forest Hills</td>\n",
       "      <td>Multiracial</td>\n",
       "      <td>Female</td>\n",
       "      <td>2010</td>\n",
       "    </tr>\n",
       "    <tr>\n",
       "      <th>4</th>\n",
       "      <td>86</td>\n",
       "      <td>63.7</td>\n",
       "      <td>25</td>\n",
       "      <td>24</td>\n",
       "      <td>96</td>\n",
       "      <td>71.1</td>\n",
       "      <td>East Flatbush - Flatbush</td>\n",
       "      <td>All</td>\n",
       "      <td>Male</td>\n",
       "      <td>2012</td>\n",
       "    </tr>\n",
       "  </tbody>\n",
       "</table>\n",
       "</div>"
      ],
      "text/plain": [
       "  aids_diagnoses_num aids_diagnoses_num_per_100k  \\\n",
       "0                  1                        15.2   \n",
       "1                  0                           0   \n",
       "2                 71                          43   \n",
       "3                  0                           0   \n",
       "4                 86                        63.7   \n",
       "\n",
       "  concurrent_hiv_aids_among_all hiv_aids_concurrent_num hiv_diagnoses_num  \\\n",
       "0                             0                       0                 2   \n",
       "1                             0                       0                 3   \n",
       "2                          15.4                      22               143   \n",
       "3                             0                       0                 0   \n",
       "4                            25                      24                96   \n",
       "\n",
       "  hiv_diagnoses_num_per_100k                          neighborhood  \\\n",
       "0                       30.3                         Fresh Meadows   \n",
       "1                      113.1    Bedford Stuyvesant - Crown Heights   \n",
       "2                       86.6  Central Harlem - Morningside Heights   \n",
       "3                          0              Ridgewood - Forest Hills   \n",
       "4                       71.1              East Flatbush - Flatbush   \n",
       "\n",
       "          race     sex  year  \n",
       "0     Hispanic    Male  2013  \n",
       "1  Multiracial    Male  2013  \n",
       "2          All     All  2012  \n",
       "3  Multiracial  Female  2010  \n",
       "4          All    Male  2012  "
      ]
     },
     "execution_count": 37,
     "metadata": {},
     "output_type": "execute_result"
    }
   ],
   "source": [
    "# print it out\n",
    "df.head()"
   ]
  },
  {
   "cell_type": "code",
   "execution_count": 38,
   "metadata": {},
   "outputs": [],
   "source": [
    "##apply same filters as above"
   ]
  },
  {
   "cell_type": "code",
   "execution_count": 39,
   "metadata": {},
   "outputs": [],
   "source": [
    "df['hiv_diagnoses_num'].replace('*', np.nan, inplace=True)"
   ]
  },
  {
   "cell_type": "code",
   "execution_count": 40,
   "metadata": {},
   "outputs": [],
   "source": [
    "df['aids_diagnoses_num'].replace('*', np.nan, inplace=True)"
   ]
  },
  {
   "cell_type": "code",
   "execution_count": 41,
   "metadata": {},
   "outputs": [],
   "source": [
    "df['aids_diagnoses_num'] = df['aids_diagnoses_num'].apply(pd.to_numeric, errors='coerce')\n",
    "df['hiv_diagnoses_num'] = df['hiv_diagnoses_num'].apply(pd.to_numeric, errors='coerce')"
   ]
  },
  {
   "cell_type": "code",
   "execution_count": 42,
   "metadata": {},
   "outputs": [
    {
     "name": "stderr",
     "output_type": "stream",
     "text": [
      "/usr/local/Anaconda3-5.0.0-Linux-x86_64/envs/PUI2016_Python3/lib/python3.5/site-packages/ipykernel/__main__.py:1: UserWarning: Boolean Series key will be reindexed to match DataFrame index.\n",
      "  if __name__ == '__main__':\n"
     ]
    }
   ],
   "source": [
    "df = df[df['sex'] != 'All'][df['race'] != 'All']"
   ]
  },
  {
   "cell_type": "code",
   "execution_count": 43,
   "metadata": {},
   "outputs": [],
   "source": [
    "#now select a date and 2 variables\n",
    "df_year_graph = df[['year','hiv_diagnoses_num', 'aids_diagnoses_num']]"
   ]
  },
  {
   "cell_type": "markdown",
   "metadata": {},
   "source": [
    "for consistency with the data above, I will change the names of the columns (variables) to be the same as before. This way the plots will come out with the same labels and legends"
   ]
  },
  {
   "cell_type": "code",
   "execution_count": 44,
   "metadata": {},
   "outputs": [
    {
     "name": "stderr",
     "output_type": "stream",
     "text": [
      "/usr/local/Anaconda3-5.0.0-Linux-x86_64/envs/PUI2016_Python3/lib/python3.5/site-packages/pandas/core/frame.py:2754: SettingWithCopyWarning: \n",
      "A value is trying to be set on a copy of a slice from a DataFrame\n",
      "\n",
      "See the caveats in the documentation: http://pandas.pydata.org/pandas-docs/stable/indexing.html#indexing-view-versus-copy\n",
      "  **kwargs)\n"
     ]
    }
   ],
   "source": [
    "df_year_graph.rename(columns = {'year':'Year', \n",
    "               'hiv_diagnoses_num':'TOTAL NUMBER OF HIV DIAGNOSES', \n",
    "               'aids_diagnoses_num': 'TOTAL NUMBER OF AIDS DIAGNOSES'}, inplace=True)"
   ]
  },
  {
   "cell_type": "code",
   "execution_count": 45,
   "metadata": {},
   "outputs": [
    {
     "data": {
      "text/html": [
       "<div>\n",
       "<table border=\"1\" class=\"dataframe\">\n",
       "  <thead>\n",
       "    <tr style=\"text-align: right;\">\n",
       "      <th></th>\n",
       "      <th>Year</th>\n",
       "      <th>TOTAL NUMBER OF HIV DIAGNOSES</th>\n",
       "      <th>TOTAL NUMBER OF AIDS DIAGNOSES</th>\n",
       "    </tr>\n",
       "  </thead>\n",
       "  <tbody>\n",
       "    <tr>\n",
       "      <th>0</th>\n",
       "      <td>2013</td>\n",
       "      <td>2.0</td>\n",
       "      <td>1.0</td>\n",
       "    </tr>\n",
       "    <tr>\n",
       "      <th>1</th>\n",
       "      <td>2013</td>\n",
       "      <td>3.0</td>\n",
       "      <td>0.0</td>\n",
       "    </tr>\n",
       "    <tr>\n",
       "      <th>3</th>\n",
       "      <td>2010</td>\n",
       "      <td>0.0</td>\n",
       "      <td>0.0</td>\n",
       "    </tr>\n",
       "    <tr>\n",
       "      <th>5</th>\n",
       "      <td>2010</td>\n",
       "      <td>0.0</td>\n",
       "      <td>0.0</td>\n",
       "    </tr>\n",
       "    <tr>\n",
       "      <th>6</th>\n",
       "      <td>2010</td>\n",
       "      <td>0.0</td>\n",
       "      <td>0.0</td>\n",
       "    </tr>\n",
       "  </tbody>\n",
       "</table>\n",
       "</div>"
      ],
      "text/plain": [
       "   Year  TOTAL NUMBER OF HIV DIAGNOSES  TOTAL NUMBER OF AIDS DIAGNOSES\n",
       "0  2013                            2.0                             1.0\n",
       "1  2013                            3.0                             0.0\n",
       "3  2010                            0.0                             0.0\n",
       "5  2010                            0.0                             0.0\n",
       "6  2010                            0.0                             0.0"
      ]
     },
     "execution_count": 45,
     "metadata": {},
     "output_type": "execute_result"
    }
   ],
   "source": [
    "df_year_graph.head()"
   ]
  },
  {
   "cell_type": "code",
   "execution_count": 46,
   "metadata": {},
   "outputs": [
    {
     "data": {
      "text/plain": [
       "Year                                int64\n",
       "TOTAL NUMBER OF HIV DIAGNOSES     float64\n",
       "TOTAL NUMBER OF AIDS DIAGNOSES    float64\n",
       "dtype: object"
      ]
     },
     "execution_count": 46,
     "metadata": {},
     "output_type": "execute_result"
    }
   ],
   "source": [
    "df_year_graph.dtypes"
   ]
  },
  {
   "cell_type": "code",
   "execution_count": 47,
   "metadata": {},
   "outputs": [
    {
     "data": {
      "text/plain": [
       "<matplotlib.axes._subplots.AxesSubplot at 0x7f35d318a518>"
      ]
     },
     "execution_count": 47,
     "metadata": {},
     "output_type": "execute_result"
    },
    {
     "data": {
      "image/png": "[encoded data removed]",
      "text/plain": [
       "<matplotlib.figure.Figure at 0x7f35d7d09e48>"
      ]
     },
     "metadata": {},
     "output_type": "display_data"
    }
   ],
   "source": [
    "#as a default this plot wont have a y label, but all plots must have axis labels!\n",
    "df_year_graph.plot(kind= 'Scatter', x='Year', y='TOTAL NUMBER OF HIV DIAGNOSES', figsize= (10,10), xticks=range(2010,2014), title='HIV Diagnoses by Year')"
   ]
  },
  {
   "cell_type": "markdown",
   "metadata": {},
   "source": [
    "Figure 2:This roughly shows the distribution of hiv diagnoses per year. Each dot represents a unique combination of year, neighborhood, sex, and race/ethnicity. This data suggests the standard deviation for 2011 was smaller than other years and would be interesting to look into. "
   ]
  },
  {
   "cell_type": "code",
   "execution_count": 48,
   "metadata": {},
   "outputs": [
    {
     "data": {
      "text/plain": [
       "<matplotlib.axes._subplots.AxesSubplot at 0x7f35d7d097b8>"
      ]
     },
     "execution_count": 48,
     "metadata": {},
     "output_type": "execute_result"
    },
    {
     "data": {
      "image/png": "[encoded data removed]",
      "text/plain": [
       "<matplotlib.figure.Figure at 0x7f35d312ff60>"
      ]
     },
     "metadata": {},
     "output_type": "display_data"
    }
   ],
   "source": [
    "#plot the other columns\n",
    "df_year_graph.plot(kind= 'Scatter', x='Year', y='TOTAL NUMBER OF AIDS DIAGNOSES', \\\n",
    "                   figsize= (10,10), xticks=range(2010,2014), title='AIDS Diagnoses by Year')"
   ]
  },
  {
   "cell_type": "markdown",
   "metadata": {},
   "source": [
    "Figure 3: This roughly shows the distribution of AIDS diagnoses per year. Each dot represents a unique combination of year, neighborhood, sex, and race/ethnicity. This data suggests the standard deviation for 2011 was smaller than other years and would be interesting to look into. it further supports an idea that the correlation from the previous graph."
   ]
  },
  {
   "cell_type": "code",
   "execution_count": null,
   "metadata": {},
   "outputs": [],
   "source": []
  }
 ],
 "metadata": {
  "kernelspec": {
   "display_name": "PUI2016_Python3",
   "language": "python",
   "name": "pui2016_python3"
  },
  "language_info": {
   "codemirror_mode": {
    "name": "ipython",
    "version": 3
   },
   "file_extension": ".py",
   "mimetype": "text/x-python",
   "name": "python",
   "nbconvert_exporter": "python",
   "pygments_lexer": "ipython3",
   "version": "3.5.4"
  }
 },
 "nbformat": 4,
 "nbformat_minor": 2
}
