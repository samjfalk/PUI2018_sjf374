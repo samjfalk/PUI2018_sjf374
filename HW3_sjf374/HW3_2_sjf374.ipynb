{
 "cells": [
  {
   "cell_type": "code",
   "execution_count": 1,
   "metadata": {},
   "outputs": [],
   "source": [
    "# example of gathering, reading, and plotting data\n",
    "# developed by FBB for PUI in 2018\n",
    "# uses NYC data portal NYC OPEN DATA https://data.cityofnewyork.us/"
   ]
  },
  {
   "cell_type": "code",
   "execution_count": 13,
   "metadata": {},
   "outputs": [],
   "source": [
    "#select 2 columns only for plotting\n",
    "df2 = df[['YEAR', 'Adult Families in Shelter']]"
   ]
  },
  {
   "cell_type": "code",
   "execution_count": 2,
   "metadata": {},
   "outputs": [],
   "source": [
    "from __future__ import print_function #for compatibility beteen python2 and python3\n",
    "\n",
    "# all other needed modules will be imported as they are needed. \n",
    "# I will leave them in the cell where they become relevant BUT  \n",
    "# PEP8 standards require to move them at the top cell, \n",
    "# so you must move your imports in this cell for the homework"
   ]
  },
  {
   "cell_type": "code",
   "execution_count": 102,
   "metadata": {},
   "outputs": [],
   "source": [
    "import numpy as np"
   ]
  },
  {
   "cell_type": "code",
   "execution_count": null,
   "metadata": {},
   "outputs": [],
   "source": [
    "#worked with mei"
   ]
  },
  {
   "cell_type": "markdown",
   "metadata": {},
   "source": [
    "# Find data on the portal"
   ]
  },
  {
   "cell_type": "markdown",
   "metadata": {},
   "source": [
    " Using NYC DOHMH data on new diagnoses of HIV and AIDS in NYC\n",
    "obtained with the following steps from the website\n",
    "\n",
    "https://opendata.cityofnewyork.us/ -> Data\n",
    "https://opendata.cityofnewyork.us/data/ -> Department of Health and Mental Hygiene (DOHMH)\n",
    "https://data.cityofnewyork.us/browse?Dataset-Information_Agency=Department+of+Health+and+Mental+Hygiene+%28DOHMH%29 ->  HIV/AIDS Diagnoses by Neighborhood, Sex, and Race/Ethnicity\n",
    "\n",
    "https://data.cityofnewyork.us/Health/HIV-AIDS-Diagnoses-by-Neighborhood-Sex-and-Race-Et/ykvb-493p ->  View Data\n",
    "\n",
    "https://data.cityofnewyork.us/Health/HIV-AIDS-Diagnoses-by-Neighborhood-Sex-and-Race-Et/ykvb-493p -> Export\n",
    "\n",
    "this gives me various links. I copy and paste below the CSV link\n",
    "\n",
    "https://data.cityofnewyork.us/api/views/ykvb-493p/rows.csv?accessType=DOWNLOAD"
   ]
  },
  {
   "cell_type": "markdown",
   "metadata": {},
   "source": [
    "# solution 1: download from the portal \n"
   ]
  },
  {
   "cell_type": "code",
   "execution_count": 91,
   "metadata": {},
   "outputs": [
    {
     "name": "stdout",
     "output_type": "stream",
     "text": [
      "  % Total    % Received % Xferd  Average Speed   Time    Time     Time  Current\n",
      "                                 Dload  Upload   Total   Spent    Left  Speed\n",
      "100  164k    0  164k    0     0   602k      0 --:--:-- --:--:-- --:--:--  602k\n"
     ]
    }
   ],
   "source": [
    "!curl https://data.cityofnewyork.us/api/views/ykvb-493p/rows.csv?accessType=DOWNLOAD > HIVAIDsdata.csv"
   ]
  },
  {
   "cell_type": "code",
   "execution_count": 92,
   "metadata": {},
   "outputs": [
    {
     "name": "stdout",
     "output_type": "stream",
     "text": [
      "PUIdata None\n"
     ]
    }
   ],
   "source": [
    "# ove the downloaded data to PUI data\n",
    "import os\n",
    "print(\"PUIdata\", os.getenv(\"puidata\"))"
   ]
  },
  {
   "cell_type": "code",
   "execution_count": 93,
   "metadata": {},
   "outputs": [
    {
     "name": "stdout",
     "output_type": "stream",
     "text": [
      "PUIdata /nfshome/sjf374/PUI2018/PUIdata\n"
     ]
    }
   ],
   "source": [
    "#create the env variable if missing\n",
    "#added PUI2018 to path \n",
    "os.environ[\"PUIDATA\"] = \"%s/PUI2018/PUIdata\"%os.getenv(\"HOME\")\n",
    "\n",
    "print(\"PUIdata\", os.getenv(\"PUIDATA\"))"
   ]
  },
  {
   "cell_type": "code",
   "execution_count": 94,
   "metadata": {},
   "outputs": [],
   "source": [
    "# move the data\n",
    "!mv HIVAIDsdata.csv $PUIDATA"
   ]
  },
  {
   "cell_type": "code",
   "execution_count": 95,
   "metadata": {},
   "outputs": [
    {
     "name": "stdout",
     "output_type": "stream",
     "text": [
      "HIVAIDsdata.csv\n"
     ]
    }
   ],
   "source": [
    "#test if the data is there\n",
    "!ls $PUIDATA"
   ]
  },
  {
   "cell_type": "markdown",
   "metadata": {},
   "source": [
    "## read in the data with pandas"
   ]
  },
  {
   "cell_type": "code",
   "execution_count": 96,
   "metadata": {},
   "outputs": [],
   "source": [
    "#read in the data with pandas\n",
    "import pandas as pd\n",
    "df = pd.read_csv(\"%s/HIVAIDsdata.csv\"%os.getenv(\"PUIDATA\"))"
   ]
  },
  {
   "cell_type": "code",
   "execution_count": 97,
   "metadata": {},
   "outputs": [
    {
     "data": {
      "text/html": [
       "<div>\n",
       "<table border=\"1\" class=\"dataframe\">\n",
       "  <thead>\n",
       "    <tr style=\"text-align: right;\">\n",
       "      <th></th>\n",
       "      <th>YEAR</th>\n",
       "      <th>Neighborhood (U.H.F)</th>\n",
       "      <th>SEX</th>\n",
       "      <th>RACE/ETHNICITY</th>\n",
       "      <th>TOTAL NUMBER OF HIV DIAGNOSES</th>\n",
       "      <th>HIV DIAGNOSES PER 100,000 POPULATION</th>\n",
       "      <th>TOTAL NUMBER OF CONCURRENT HIV/AIDS DIAGNOSES</th>\n",
       "      <th>PROPORTION OF CONCURRENT HIV/AIDS DIAGNOSES AMONG ALL HIV DIAGNOSES</th>\n",
       "      <th>TOTAL NUMBER OF AIDS DIAGNOSES</th>\n",
       "      <th>AIDS DIAGNOSES PER 100,000 POPULATION</th>\n",
       "    </tr>\n",
       "  </thead>\n",
       "  <tbody>\n",
       "    <tr>\n",
       "      <th>0</th>\n",
       "      <td>2010</td>\n",
       "      <td>Greenpoint</td>\n",
       "      <td>Male</td>\n",
       "      <td>Black</td>\n",
       "      <td>6</td>\n",
       "      <td>330.4</td>\n",
       "      <td>0</td>\n",
       "      <td>0</td>\n",
       "      <td>5</td>\n",
       "      <td>275.3</td>\n",
       "    </tr>\n",
       "    <tr>\n",
       "      <th>1</th>\n",
       "      <td>2011</td>\n",
       "      <td>Stapleton - St. George</td>\n",
       "      <td>Female</td>\n",
       "      <td>Native American</td>\n",
       "      <td>0</td>\n",
       "      <td>0</td>\n",
       "      <td>0</td>\n",
       "      <td>0</td>\n",
       "      <td>0</td>\n",
       "      <td>0</td>\n",
       "    </tr>\n",
       "    <tr>\n",
       "      <th>2</th>\n",
       "      <td>2010</td>\n",
       "      <td>Southeast Queens</td>\n",
       "      <td>Male</td>\n",
       "      <td>All</td>\n",
       "      <td>23</td>\n",
       "      <td>25.4</td>\n",
       "      <td>5</td>\n",
       "      <td>21.7</td>\n",
       "      <td>14</td>\n",
       "      <td>15.4</td>\n",
       "    </tr>\n",
       "    <tr>\n",
       "      <th>3</th>\n",
       "      <td>2012</td>\n",
       "      <td>Upper Westside</td>\n",
       "      <td>Female</td>\n",
       "      <td>Unknown</td>\n",
       "      <td>0</td>\n",
       "      <td>0</td>\n",
       "      <td>0</td>\n",
       "      <td>0</td>\n",
       "      <td>0</td>\n",
       "      <td>0</td>\n",
       "    </tr>\n",
       "    <tr>\n",
       "      <th>4</th>\n",
       "      <td>2013</td>\n",
       "      <td>Willowbrook</td>\n",
       "      <td>Male</td>\n",
       "      <td>Unknown</td>\n",
       "      <td>0</td>\n",
       "      <td>0</td>\n",
       "      <td>0</td>\n",
       "      <td>0</td>\n",
       "      <td>0</td>\n",
       "      <td>0</td>\n",
       "    </tr>\n",
       "    <tr>\n",
       "      <th>5</th>\n",
       "      <td>2013</td>\n",
       "      <td>East Flatbush - Flatbush</td>\n",
       "      <td>Male</td>\n",
       "      <td>Black</td>\n",
       "      <td>54</td>\n",
       "      <td>56.5</td>\n",
       "      <td>8</td>\n",
       "      <td>14.8</td>\n",
       "      <td>33</td>\n",
       "      <td>34.5</td>\n",
       "    </tr>\n",
       "    <tr>\n",
       "      <th>6</th>\n",
       "      <td>2013</td>\n",
       "      <td>East Flatbush - Flatbush</td>\n",
       "      <td>Female</td>\n",
       "      <td>Native American</td>\n",
       "      <td>0</td>\n",
       "      <td>0</td>\n",
       "      <td>0</td>\n",
       "      <td>0</td>\n",
       "      <td>0</td>\n",
       "      <td>0</td>\n",
       "    </tr>\n",
       "    <tr>\n",
       "      <th>7</th>\n",
       "      <td>2013</td>\n",
       "      <td>Southwest Queens</td>\n",
       "      <td>Female</td>\n",
       "      <td>Unknown</td>\n",
       "      <td>0</td>\n",
       "      <td>0</td>\n",
       "      <td>0</td>\n",
       "      <td>0</td>\n",
       "      <td>0</td>\n",
       "      <td>0</td>\n",
       "    </tr>\n",
       "  </tbody>\n",
       "</table>\n",
       "</div>"
      ],
      "text/plain": [
       "   YEAR      Neighborhood (U.H.F)     SEX   RACE/ETHNICITY  \\\n",
       "0  2010                Greenpoint    Male            Black   \n",
       "1  2011    Stapleton - St. George  Female  Native American   \n",
       "2  2010          Southeast Queens    Male              All   \n",
       "3  2012            Upper Westside  Female          Unknown   \n",
       "4  2013               Willowbrook    Male          Unknown   \n",
       "5  2013  East Flatbush - Flatbush    Male            Black   \n",
       "6  2013  East Flatbush - Flatbush  Female  Native American   \n",
       "7  2013          Southwest Queens  Female          Unknown   \n",
       "\n",
       "  TOTAL NUMBER OF HIV DIAGNOSES HIV DIAGNOSES PER 100,000 POPULATION  \\\n",
       "0                             6                                330.4   \n",
       "1                             0                                    0   \n",
       "2                            23                                 25.4   \n",
       "3                             0                                    0   \n",
       "4                             0                                    0   \n",
       "5                            54                                 56.5   \n",
       "6                             0                                    0   \n",
       "7                             0                                    0   \n",
       "\n",
       "  TOTAL NUMBER OF CONCURRENT HIV/AIDS DIAGNOSES  \\\n",
       "0                                             0   \n",
       "1                                             0   \n",
       "2                                             5   \n",
       "3                                             0   \n",
       "4                                             0   \n",
       "5                                             8   \n",
       "6                                             0   \n",
       "7                                             0   \n",
       "\n",
       "  PROPORTION OF CONCURRENT HIV/AIDS DIAGNOSES AMONG ALL HIV DIAGNOSES  \\\n",
       "0                                                  0                    \n",
       "1                                                  0                    \n",
       "2                                               21.7                    \n",
       "3                                                  0                    \n",
       "4                                                  0                    \n",
       "5                                               14.8                    \n",
       "6                                                  0                    \n",
       "7                                                  0                    \n",
       "\n",
       "  TOTAL NUMBER OF AIDS DIAGNOSES AIDS DIAGNOSES PER 100,000 POPULATION  \n",
       "0                              5                                 275.3  \n",
       "1                              0                                     0  \n",
       "2                             14                                  15.4  \n",
       "3                              0                                     0  \n",
       "4                              0                                     0  \n",
       "5                             33                                  34.5  \n",
       "6                              0                                     0  \n",
       "7                              0                                     0  "
      ]
     },
     "execution_count": 97,
     "metadata": {},
     "output_type": "execute_result"
    }
   ],
   "source": [
    "#print the fist 8 lines out\n",
    "df.head(8)"
   ]
  },
  {
   "cell_type": "code",
   "execution_count": 98,
   "metadata": {},
   "outputs": [
    {
     "data": {
      "text/html": [
       "<div>\n",
       "<table border=\"1\" class=\"dataframe\">\n",
       "  <thead>\n",
       "    <tr style=\"text-align: right;\">\n",
       "      <th></th>\n",
       "      <th>YEAR</th>\n",
       "      <th>Neighborhood (U.H.F)</th>\n",
       "      <th>SEX</th>\n",
       "      <th>RACE/ETHNICITY</th>\n",
       "      <th>TOTAL NUMBER OF HIV DIAGNOSES</th>\n",
       "      <th>HIV DIAGNOSES PER 100,000 POPULATION</th>\n",
       "      <th>TOTAL NUMBER OF CONCURRENT HIV/AIDS DIAGNOSES</th>\n",
       "      <th>PROPORTION OF CONCURRENT HIV/AIDS DIAGNOSES AMONG ALL HIV DIAGNOSES</th>\n",
       "      <th>TOTAL NUMBER OF AIDS DIAGNOSES</th>\n",
       "      <th>AIDS DIAGNOSES PER 100,000 POPULATION</th>\n",
       "    </tr>\n",
       "  </thead>\n",
       "  <tbody>\n",
       "    <tr>\n",
       "      <th>2925</th>\n",
       "      <td>2010</td>\n",
       "      <td>Bedford Stuyvesant - Crown Heights</td>\n",
       "      <td>Male</td>\n",
       "      <td>Native American</td>\n",
       "      <td>0</td>\n",
       "      <td>0</td>\n",
       "      <td>0</td>\n",
       "      <td>0</td>\n",
       "      <td>0</td>\n",
       "      <td>0</td>\n",
       "    </tr>\n",
       "    <tr>\n",
       "      <th>2926</th>\n",
       "      <td>2011</td>\n",
       "      <td>Long Island City - Astoria</td>\n",
       "      <td>Male</td>\n",
       "      <td>Black</td>\n",
       "      <td>6</td>\n",
       "      <td>97.6</td>\n",
       "      <td>1</td>\n",
       "      <td>16.7</td>\n",
       "      <td>3</td>\n",
       "      <td>48.8</td>\n",
       "    </tr>\n",
       "    <tr>\n",
       "      <th>2927</th>\n",
       "      <td>2011</td>\n",
       "      <td>Bensonhurst - Bay Ridge</td>\n",
       "      <td>Female</td>\n",
       "      <td>Hispanic</td>\n",
       "      <td>0</td>\n",
       "      <td>0</td>\n",
       "      <td>0</td>\n",
       "      <td>0</td>\n",
       "      <td>0</td>\n",
       "      <td>0</td>\n",
       "    </tr>\n",
       "  </tbody>\n",
       "</table>\n",
       "</div>"
      ],
      "text/plain": [
       "      YEAR                Neighborhood (U.H.F)     SEX   RACE/ETHNICITY  \\\n",
       "2925  2010  Bedford Stuyvesant - Crown Heights    Male  Native American   \n",
       "2926  2011          Long Island City - Astoria    Male            Black   \n",
       "2927  2011             Bensonhurst - Bay Ridge  Female         Hispanic   \n",
       "\n",
       "     TOTAL NUMBER OF HIV DIAGNOSES HIV DIAGNOSES PER 100,000 POPULATION  \\\n",
       "2925                             0                                    0   \n",
       "2926                             6                                 97.6   \n",
       "2927                             0                                    0   \n",
       "\n",
       "     TOTAL NUMBER OF CONCURRENT HIV/AIDS DIAGNOSES  \\\n",
       "2925                                             0   \n",
       "2926                                             1   \n",
       "2927                                             0   \n",
       "\n",
       "     PROPORTION OF CONCURRENT HIV/AIDS DIAGNOSES AMONG ALL HIV DIAGNOSES  \\\n",
       "2925                                                  0                    \n",
       "2926                                               16.7                    \n",
       "2927                                                  0                    \n",
       "\n",
       "     TOTAL NUMBER OF AIDS DIAGNOSES AIDS DIAGNOSES PER 100,000 POPULATION  \n",
       "2925                              0                                     0  \n",
       "2926                              3                                  48.8  \n",
       "2927                              0                                     0  "
      ]
     },
     "execution_count": 98,
     "metadata": {},
     "output_type": "execute_result"
    }
   ],
   "source": [
    "#print the last 3 lines out\n",
    "df.tail(3)"
   ]
  },
  {
   "cell_type": "code",
   "execution_count": 99,
   "metadata": {},
   "outputs": [
    {
     "data": {
      "text/plain": [
       "Index(['YEAR', 'Neighborhood (U.H.F)', 'SEX', 'RACE/ETHNICITY',\n",
       "       'TOTAL NUMBER OF HIV DIAGNOSES', 'HIV DIAGNOSES PER 100,000 POPULATION',\n",
       "       'TOTAL NUMBER OF CONCURRENT HIV/AIDS DIAGNOSES',\n",
       "       'PROPORTION OF CONCURRENT HIV/AIDS DIAGNOSES AMONG ALL HIV DIAGNOSES',\n",
       "       'TOTAL NUMBER OF AIDS DIAGNOSES',\n",
       "       'AIDS DIAGNOSES PER 100,000 POPULATION'],\n",
       "      dtype='object')"
      ]
     },
     "execution_count": 99,
     "metadata": {},
     "output_type": "execute_result"
    }
   ],
   "source": [
    "#look at the columns available, those are the variables\n",
    "df.columns"
   ]
  },
  {
   "cell_type": "code",
   "execution_count": 100,
   "metadata": {},
   "outputs": [
    {
     "data": {
      "text/plain": [
       "29280"
      ]
     },
     "execution_count": 100,
     "metadata": {},
     "output_type": "execute_result"
    }
   ],
   "source": [
    "#count how many rows, those are the data points\n",
    "df.size"
   ]
  },
  {
   "cell_type": "code",
   "execution_count": 105,
   "metadata": {},
   "outputs": [],
   "source": [
    "df['TOTAL NUMBER OF AIDS DIAGNOSES'].replace('*', np.nan, inplace=True)"
   ]
  },
  {
   "cell_type": "code",
   "execution_count": 106,
   "metadata": {},
   "outputs": [
    {
     "data": {
      "text/plain": [
       "array(['5', '0', '14', '33', '12', nan, '1', '4', '11', '2', '55', '13',\n",
       "       '46', '20', '3', '15', '59', '35', '81', '68', '40', '24', '31',\n",
       "       '9', '28', '27', '10', '30', '56', '16', '7', '6', '17', '71', '75',\n",
       "       '64', '50', '21', '19', '8', '1784', '43', '60', '18', '36', '25',\n",
       "       '99', '42', '102', '22', '38', '144', '51', '26', '45', '37', '69',\n",
       "       '67', '96', '23', '73', '48', '114', '58', '49', '32', '108', '100',\n",
       "       '78', '2036', '129', '61', '97', '57', '155', '70', '62', '39',\n",
       "       '63', '82', '93', '176', '79', '84', '34', '47', '41', '222', '29',\n",
       "       '122', '66', '54', '128', '89', '74', '72', '120', '87', '124',\n",
       "       '106', '2292', '53', '77', '203', '180', '118', '44', '52', '132',\n",
       "       '101', '229', '201', '159', '2611', '110', '90', '83', '91', '88',\n",
       "       '98', '65', '86', '221', '104', '85', '168', '193'], dtype=object)"
      ]
     },
     "execution_count": 106,
     "metadata": {},
     "output_type": "execute_result"
    }
   ],
   "source": [
    "df['TOTAL NUMBER OF AIDS DIAGNOSES'].unique()"
   ]
  },
  {
   "cell_type": "code",
   "execution_count": 127,
   "metadata": {},
   "outputs": [
    {
     "data": {
      "text/plain": [
       "array(['6', '0', '54', '7', '5', '1', '14', '17', '2', '4', '34', '11',\n",
       "       '24', '38', '9', '19', '13', '25', '28', '8', '99', '3', '16', '18',\n",
       "       '15', '21', '74', '113', '55', '62', '20', '36', '75', '23', '87',\n",
       "       '10', '12', '27', '85', '26', '66', '33', '44', '*', '29', '45',\n",
       "       '22', '35', '60', '40', '58', '95', '32', '31', '90', '98', '79',\n",
       "       '80', '92', '41', '56', '94', '37', '57', '88', '39', '112', '43',\n",
       "       '102', '42', '30', '48', '96', '65', '52', '63', '131', '109', '84',\n",
       "       '50', '46', '81', '101'], dtype=object)"
      ]
     },
     "execution_count": 127,
     "metadata": {},
     "output_type": "execute_result"
    }
   ],
   "source": [
    "df['TOTAL NUMBER OF HIV DIAGNOSES'].unique()"
   ]
  },
  {
   "cell_type": "code",
   "execution_count": 128,
   "metadata": {},
   "outputs": [],
   "source": [
    "df['TOTAL NUMBER OF HIV DIAGNOSES'].replace('*', np.nan, inplace=True)"
   ]
  },
  {
   "cell_type": "code",
   "execution_count": 129,
   "metadata": {},
   "outputs": [
    {
     "data": {
      "text/plain": [
       "array(['6', '0', '54', '7', '5', '1', '14', '17', '2', '4', '34', '11',\n",
       "       '24', '38', '9', '19', '13', '25', '28', '8', '99', '3', '16', '18',\n",
       "       '15', '21', '74', '113', '55', '62', '20', '36', '75', '23', '87',\n",
       "       '10', '12', '27', '85', '26', '66', '33', '44', nan, '29', '45',\n",
       "       '22', '35', '60', '40', '58', '95', '32', '31', '90', '98', '79',\n",
       "       '80', '92', '41', '56', '94', '37', '57', '88', '39', '112', '43',\n",
       "       '102', '42', '30', '48', '96', '65', '52', '63', '131', '109', '84',\n",
       "       '50', '46', '81', '101'], dtype=object)"
      ]
     },
     "execution_count": 129,
     "metadata": {},
     "output_type": "execute_result"
    }
   ],
   "source": [
    "df['TOTAL NUMBER OF HIV DIAGNOSES'].unique()"
   ]
  },
  {
   "cell_type": "code",
   "execution_count": 111,
   "metadata": {},
   "outputs": [
    {
     "name": "stderr",
     "output_type": "stream",
     "text": [
      "/usr/local/Anaconda3-5.0.0-Linux-x86_64/envs/PUI2016_Python3/lib/python3.5/site-packages/ipykernel/__main__.py:1: UserWarning: Boolean Series key will be reindexed to match DataFrame index.\n",
      "  if __name__ == '__main__':\n"
     ]
    }
   ],
   "source": [
    "df = df[df['SEX'] != 'All'][df['RACE/ETHNICITY'] != 'All']"
   ]
  },
  {
   "cell_type": "code",
   "execution_count": 115,
   "metadata": {},
   "outputs": [
    {
     "data": {
      "text/html": [
       "<div>\n",
       "<table border=\"1\" class=\"dataframe\">\n",
       "  <thead>\n",
       "    <tr style=\"text-align: right;\">\n",
       "      <th></th>\n",
       "      <th>YEAR</th>\n",
       "      <th>Neighborhood (U.H.F)</th>\n",
       "      <th>SEX</th>\n",
       "      <th>RACE/ETHNICITY</th>\n",
       "      <th>TOTAL NUMBER OF HIV DIAGNOSES</th>\n",
       "      <th>HIV DIAGNOSES PER 100,000 POPULATION</th>\n",
       "      <th>TOTAL NUMBER OF CONCURRENT HIV/AIDS DIAGNOSES</th>\n",
       "      <th>PROPORTION OF CONCURRENT HIV/AIDS DIAGNOSES AMONG ALL HIV DIAGNOSES</th>\n",
       "      <th>TOTAL NUMBER OF AIDS DIAGNOSES</th>\n",
       "      <th>AIDS DIAGNOSES PER 100,000 POPULATION</th>\n",
       "    </tr>\n",
       "  </thead>\n",
       "  <tbody>\n",
       "    <tr>\n",
       "      <th>0</th>\n",
       "      <td>2010</td>\n",
       "      <td>Greenpoint</td>\n",
       "      <td>Male</td>\n",
       "      <td>Black</td>\n",
       "      <td>6</td>\n",
       "      <td>330.4</td>\n",
       "      <td>0</td>\n",
       "      <td>0</td>\n",
       "      <td>5</td>\n",
       "      <td>275.3</td>\n",
       "    </tr>\n",
       "    <tr>\n",
       "      <th>1</th>\n",
       "      <td>2011</td>\n",
       "      <td>Stapleton - St. George</td>\n",
       "      <td>Female</td>\n",
       "      <td>Native American</td>\n",
       "      <td>0</td>\n",
       "      <td>0</td>\n",
       "      <td>0</td>\n",
       "      <td>0</td>\n",
       "      <td>0</td>\n",
       "      <td>0</td>\n",
       "    </tr>\n",
       "    <tr>\n",
       "      <th>3</th>\n",
       "      <td>2012</td>\n",
       "      <td>Upper Westside</td>\n",
       "      <td>Female</td>\n",
       "      <td>Unknown</td>\n",
       "      <td>0</td>\n",
       "      <td>0</td>\n",
       "      <td>0</td>\n",
       "      <td>0</td>\n",
       "      <td>0</td>\n",
       "      <td>0</td>\n",
       "    </tr>\n",
       "    <tr>\n",
       "      <th>4</th>\n",
       "      <td>2013</td>\n",
       "      <td>Willowbrook</td>\n",
       "      <td>Male</td>\n",
       "      <td>Unknown</td>\n",
       "      <td>0</td>\n",
       "      <td>0</td>\n",
       "      <td>0</td>\n",
       "      <td>0</td>\n",
       "      <td>0</td>\n",
       "      <td>0</td>\n",
       "    </tr>\n",
       "    <tr>\n",
       "      <th>5</th>\n",
       "      <td>2013</td>\n",
       "      <td>East Flatbush - Flatbush</td>\n",
       "      <td>Male</td>\n",
       "      <td>Black</td>\n",
       "      <td>54</td>\n",
       "      <td>56.5</td>\n",
       "      <td>8</td>\n",
       "      <td>14.8</td>\n",
       "      <td>33</td>\n",
       "      <td>34.5</td>\n",
       "    </tr>\n",
       "  </tbody>\n",
       "</table>\n",
       "</div>"
      ],
      "text/plain": [
       "   YEAR      Neighborhood (U.H.F)     SEX   RACE/ETHNICITY  \\\n",
       "0  2010                Greenpoint    Male            Black   \n",
       "1  2011    Stapleton - St. George  Female  Native American   \n",
       "3  2012            Upper Westside  Female          Unknown   \n",
       "4  2013               Willowbrook    Male          Unknown   \n",
       "5  2013  East Flatbush - Flatbush    Male            Black   \n",
       "\n",
       "  TOTAL NUMBER OF HIV DIAGNOSES HIV DIAGNOSES PER 100,000 POPULATION  \\\n",
       "0                             6                                330.4   \n",
       "1                             0                                    0   \n",
       "3                             0                                    0   \n",
       "4                             0                                    0   \n",
       "5                            54                                 56.5   \n",
       "\n",
       "  TOTAL NUMBER OF CONCURRENT HIV/AIDS DIAGNOSES  \\\n",
       "0                                             0   \n",
       "1                                             0   \n",
       "3                                             0   \n",
       "4                                             0   \n",
       "5                                             8   \n",
       "\n",
       "  PROPORTION OF CONCURRENT HIV/AIDS DIAGNOSES AMONG ALL HIV DIAGNOSES  \\\n",
       "0                                                  0                    \n",
       "1                                                  0                    \n",
       "3                                                  0                    \n",
       "4                                                  0                    \n",
       "5                                               14.8                    \n",
       "\n",
       "  TOTAL NUMBER OF AIDS DIAGNOSES AIDS DIAGNOSES PER 100,000 POPULATION  \n",
       "0                              5                                 275.3  \n",
       "1                              0                                     0  \n",
       "3                              0                                     0  \n",
       "4                              0                                     0  \n",
       "5                             33                                  34.5  "
      ]
     },
     "execution_count": 115,
     "metadata": {},
     "output_type": "execute_result"
    }
   ],
   "source": [
    "df.head()"
   ]
  },
  {
   "cell_type": "code",
   "execution_count": 75,
   "metadata": {},
   "outputs": [
    {
     "data": {
      "text/plain": [
       "array(['5', '0', '14', '33', '12', '*', '1', '4', '11', '2', '55', '13',\n",
       "       '46', '20', '3', '15', '59', '35', '81', '68', '40', '24', '31',\n",
       "       '9', '28', '27', '10', '30', '56', '16', '7', '6', '17', '71', '75',\n",
       "       '64', '50', '21', '19', '8', '1784', '43', '60', '18', '36', '25',\n",
       "       '99', '42', '102', '22', '38', '144', '51', '26', '45', '37', '69',\n",
       "       '67', '96', '23', '73', '48', '114', '58', '49', '32', '108', '100',\n",
       "       '78', '2036', '129', '61', '97', '57', '155', '70', '62', '39',\n",
       "       '63', '82', '93', '176', '79', '84', '34', '47', '41', '222', '29',\n",
       "       '122', '66', '54', '128', '89', '74', '72', '120', '87', '124',\n",
       "       '106', '2292', '53', '77', '203', '180', '118', '44', '52', '132',\n",
       "       '101', '229', '201', '159', '2611', '110', '90', '83', '91', '88',\n",
       "       '98', '65', '86', '221', '104', '85', '168', '193'], dtype=object)"
      ]
     },
     "execution_count": 75,
     "metadata": {},
     "output_type": "execute_result"
    }
   ],
   "source": [
    "df['TOTAL NUMBER OF AIDS DIAGNOSES'].unique()"
   ]
  },
  {
   "cell_type": "code",
   "execution_count": 117,
   "metadata": {},
   "outputs": [
    {
     "data": {
      "text/plain": [
       "YEAR                                                                    int64\n",
       "Neighborhood (U.H.F)                                                   object\n",
       "SEX                                                                    object\n",
       "RACE/ETHNICITY                                                         object\n",
       "TOTAL NUMBER OF HIV DIAGNOSES                                          object\n",
       "HIV DIAGNOSES PER 100,000 POPULATION                                   object\n",
       "TOTAL NUMBER OF CONCURRENT HIV/AIDS DIAGNOSES                          object\n",
       "PROPORTION OF CONCURRENT HIV/AIDS DIAGNOSES AMONG ALL HIV DIAGNOSES    object\n",
       "TOTAL NUMBER OF AIDS DIAGNOSES                                         object\n",
       "AIDS DIAGNOSES PER 100,000 POPULATION                                  object\n",
       "dtype: object"
      ]
     },
     "execution_count": 117,
     "metadata": {},
     "output_type": "execute_result"
    }
   ],
   "source": [
    "df.dtypes"
   ]
  },
  {
   "cell_type": "code",
   "execution_count": 133,
   "metadata": {},
   "outputs": [],
   "source": [
    "df['TOTAL NUMBER OF AIDS DIAGNOSES'] = df['TOTAL NUMBER OF AIDS DIAGNOSES'].apply(pd.to_numeric, errors='coerce')\n",
    "df['TOTAL NUMBER OF HIV DIAGNOSES'] = df['TOTAL NUMBER OF HIV DIAGNOSES'].apply(pd.to_numeric, errors='coerce')\n"
   ]
  },
  {
   "cell_type": "code",
   "execution_count": null,
   "metadata": {},
   "outputs": [],
   "source": []
  },
  {
   "cell_type": "code",
   "execution_count": 134,
   "metadata": {},
   "outputs": [],
   "source": [
    "#select 2 columns only for plotting\n",
    "df2 = df[['TOTAL NUMBER OF HIV DIAGNOSES', 'TOTAL NUMBER OF AIDS DIAGNOSES']]"
   ]
  },
  {
   "cell_type": "code",
   "execution_count": 135,
   "metadata": {},
   "outputs": [
    {
     "data": {
      "text/html": [
       "<div>\n",
       "<table border=\"1\" class=\"dataframe\">\n",
       "  <thead>\n",
       "    <tr style=\"text-align: right;\">\n",
       "      <th></th>\n",
       "      <th>TOTAL NUMBER OF HIV DIAGNOSES</th>\n",
       "      <th>TOTAL NUMBER OF AIDS DIAGNOSES</th>\n",
       "    </tr>\n",
       "  </thead>\n",
       "  <tbody>\n",
       "    <tr>\n",
       "      <th>0</th>\n",
       "      <td>6.0</td>\n",
       "      <td>5.0</td>\n",
       "    </tr>\n",
       "    <tr>\n",
       "      <th>1</th>\n",
       "      <td>0.0</td>\n",
       "      <td>0.0</td>\n",
       "    </tr>\n",
       "    <tr>\n",
       "      <th>3</th>\n",
       "      <td>0.0</td>\n",
       "      <td>0.0</td>\n",
       "    </tr>\n",
       "    <tr>\n",
       "      <th>4</th>\n",
       "      <td>0.0</td>\n",
       "      <td>0.0</td>\n",
       "    </tr>\n",
       "    <tr>\n",
       "      <th>5</th>\n",
       "      <td>54.0</td>\n",
       "      <td>33.0</td>\n",
       "    </tr>\n",
       "  </tbody>\n",
       "</table>\n",
       "</div>"
      ],
      "text/plain": [
       "   TOTAL NUMBER OF HIV DIAGNOSES  TOTAL NUMBER OF AIDS DIAGNOSES\n",
       "0                            6.0                             5.0\n",
       "1                            0.0                             0.0\n",
       "3                            0.0                             0.0\n",
       "4                            0.0                             0.0\n",
       "5                           54.0                            33.0"
      ]
     },
     "execution_count": 135,
     "metadata": {},
     "output_type": "execute_result"
    }
   ],
   "source": [
    "df2.head()"
   ]
  },
  {
   "cell_type": "code",
   "execution_count": 136,
   "metadata": {},
   "outputs": [
    {
     "data": {
      "text/plain": [
       "TOTAL NUMBER OF HIV DIAGNOSES     float64\n",
       "TOTAL NUMBER OF AIDS DIAGNOSES    float64\n",
       "dtype: object"
      ]
     },
     "execution_count": 136,
     "metadata": {},
     "output_type": "execute_result"
    }
   ],
   "source": [
    "df2.dtypes"
   ]
  },
  {
   "cell_type": "markdown",
   "metadata": {},
   "source": [
    "## plot the data"
   ]
  },
  {
   "cell_type": "code",
   "execution_count": 137,
   "metadata": {},
   "outputs": [
    {
     "data": {
      "text/plain": [
       "<matplotlib.axes._subplots.AxesSubplot at 0x7fbfc3f3d8d0>"
      ]
     },
     "execution_count": 137,
     "metadata": {},
     "output_type": "execute_result"
    },
    {
     "data": {
      "image/png": "[encoded data removed]",
      "text/plain": [
       "<matplotlib.figure.Figure at 0x7fbfc3ff1898>"
      ]
     },
     "metadata": {},
     "output_type": "display_data"
    }
   ],
   "source": [
    "df2.plot(kind='scatter', x='TOTAL NUMBER OF HIV DIAGNOSES', y='TOTAL NUMBER OF AIDS DIAGNOSES')"
   ]
  },
  {
   "cell_type": "code",
   "execution_count": 16,
   "metadata": {},
   "outputs": [],
   "source": [
    "# wont show anything if i do not use the magic command to show plots in the notebook \n",
    "#(or use pl.show to pop up a window, but for the homework plots have to be embedded)"
   ]
  },
  {
   "cell_type": "code",
   "execution_count": 61,
   "metadata": {},
   "outputs": [
    {
     "name": "stdout",
     "output_type": "stream",
     "text": [
      "Populating the interactive namespace from numpy and matplotlib\n"
     ]
    }
   ],
   "source": [
    "%pylab inline"
   ]
  },
  {
   "cell_type": "code",
   "execution_count": 140,
   "metadata": {},
   "outputs": [
    {
     "data": {
      "text/plain": [
       "<matplotlib.axes._subplots.AxesSubplot at 0x7fbfc3ec87b8>"
      ]
     },
     "execution_count": 140,
     "metadata": {},
     "output_type": "execute_result"
    },
    {
     "data": {
      "image/png": "[encoded data removed]",
      "text/plain": [
       "<matplotlib.figure.Figure at 0x7fbfc3f33d30>"
      ]
     },
     "metadata": {},
     "output_type": "display_data"
    }
   ],
   "source": [
    "df2.plot(kind='scatter', x='TOTAL NUMBER OF HIV DIAGNOSES', y='TOTAL NUMBER OF AIDS DIAGNOSES', figsize=(10,20))\n",
    "\n",
    "# every plot needs a caption that explains to the reader \n",
    "# 1) WHAT what the reader is loooking at and \n",
    "# 2) WHY why the reader is looking at it here in the analysis \n",
    "#      (in this case there is no why cause this plot is not part of an analysis)\n",
    "# 3) TAKE HOME what is the take home point for the plot in the analysis \n",
    "#      (also there is no take home point here cause we are not doind an analysis but you can point out interesting features)"
   ]
  },
  {
   "cell_type": "markdown",
   "metadata": {},
   "source": [
    "Figure 1: #### TODO"
   ]
  },
  {
   "cell_type": "markdown",
   "metadata": {},
   "source": [
    "# solution 2: Use API and download a json file"
   ]
  },
  {
   "cell_type": "markdown",
   "metadata": {},
   "source": [
    "from the dataset export link now go to -> SODA API and the the endpoint"
   ]
  },
  {
   "cell_type": "code",
   "execution_count": 19,
   "metadata": {},
   "outputs": [],
   "source": [
    "url = \"https://data.cityofnewyork.us/resource/wece-v9d7.json\""
   ]
  },
  {
   "cell_type": "code",
   "execution_count": 20,
   "metadata": {},
   "outputs": [],
   "source": [
    "#use the appropriatepandas function to read in the json file\n",
    "df = pd.read_json(url)"
   ]
  },
  {
   "cell_type": "code",
   "execution_count": 21,
   "metadata": {},
   "outputs": [
    {
     "data": {
      "text/html": [
       "<div>\n",
       "<table border=\"1\" class=\"dataframe\">\n",
       "  <thead>\n",
       "    <tr style=\"text-align: right;\">\n",
       "      <th></th>\n",
       "      <th>adult_families_in_shelter</th>\n",
       "      <th>adults_in_families_with_children_in_shelter</th>\n",
       "      <th>children_in_families_with_children_in_shelter</th>\n",
       "      <th>date_of_census</th>\n",
       "      <th>families_with_children_in_shelter</th>\n",
       "      <th>individuals_in_adult_families_in_shelter</th>\n",
       "      <th>single_adult_men_in_shelter</th>\n",
       "      <th>single_adult_women_in_shelter</th>\n",
       "      <th>total_adults_in_shelter</th>\n",
       "      <th>total_children_in_shelter</th>\n",
       "      <th>total_individuals_in_families_with_children_in_shelter_</th>\n",
       "      <th>total_individuals_in_shelter</th>\n",
       "      <th>total_single_adults_in_shelter</th>\n",
       "    </tr>\n",
       "  </thead>\n",
       "  <tbody>\n",
       "    <tr>\n",
       "      <th>0</th>\n",
       "      <td>1796</td>\n",
       "      <td>14607</td>\n",
       "      <td>21314</td>\n",
       "      <td>2013-08-21T00:00:00.000</td>\n",
       "      <td>10261</td>\n",
       "      <td>3811</td>\n",
       "      <td>7231</td>\n",
       "      <td>2710</td>\n",
       "      <td>28359</td>\n",
       "      <td>21314</td>\n",
       "      <td>35921</td>\n",
       "      <td>49673</td>\n",
       "      <td>9941</td>\n",
       "    </tr>\n",
       "    <tr>\n",
       "      <th>1</th>\n",
       "      <td>1803</td>\n",
       "      <td>14622</td>\n",
       "      <td>21324</td>\n",
       "      <td>2013-08-22T00:00:00.000</td>\n",
       "      <td>10274</td>\n",
       "      <td>3827</td>\n",
       "      <td>7201</td>\n",
       "      <td>2716</td>\n",
       "      <td>28366</td>\n",
       "      <td>21324</td>\n",
       "      <td>35946</td>\n",
       "      <td>49690</td>\n",
       "      <td>9917</td>\n",
       "    </tr>\n",
       "    <tr>\n",
       "      <th>2</th>\n",
       "      <td>1802</td>\n",
       "      <td>14611</td>\n",
       "      <td>21291</td>\n",
       "      <td>2013-08-23T00:00:00.000</td>\n",
       "      <td>10266</td>\n",
       "      <td>3826</td>\n",
       "      <td>7149</td>\n",
       "      <td>2671</td>\n",
       "      <td>28257</td>\n",
       "      <td>21291</td>\n",
       "      <td>35902</td>\n",
       "      <td>49548</td>\n",
       "      <td>9820</td>\n",
       "    </tr>\n",
       "  </tbody>\n",
       "</table>\n",
       "</div>"
      ],
      "text/plain": [
       "   adult_families_in_shelter  adults_in_families_with_children_in_shelter  \\\n",
       "0                       1796                                        14607   \n",
       "1                       1803                                        14622   \n",
       "2                       1802                                        14611   \n",
       "\n",
       "   children_in_families_with_children_in_shelter           date_of_census  \\\n",
       "0                                          21314  2013-08-21T00:00:00.000   \n",
       "1                                          21324  2013-08-22T00:00:00.000   \n",
       "2                                          21291  2013-08-23T00:00:00.000   \n",
       "\n",
       "   families_with_children_in_shelter  \\\n",
       "0                              10261   \n",
       "1                              10274   \n",
       "2                              10266   \n",
       "\n",
       "   individuals_in_adult_families_in_shelter  single_adult_men_in_shelter  \\\n",
       "0                                      3811                         7231   \n",
       "1                                      3827                         7201   \n",
       "2                                      3826                         7149   \n",
       "\n",
       "   single_adult_women_in_shelter  total_adults_in_shelter  \\\n",
       "0                           2710                    28359   \n",
       "1                           2716                    28366   \n",
       "2                           2671                    28257   \n",
       "\n",
       "   total_children_in_shelter  \\\n",
       "0                      21314   \n",
       "1                      21324   \n",
       "2                      21291   \n",
       "\n",
       "   total_individuals_in_families_with_children_in_shelter_  \\\n",
       "0                                              35921         \n",
       "1                                              35946         \n",
       "2                                              35902         \n",
       "\n",
       "   total_individuals_in_shelter  total_single_adults_in_shelter  \n",
       "0                         49673                            9941  \n",
       "1                         49690                            9917  \n",
       "2                         49548                            9820  "
      ]
     },
     "execution_count": 21,
     "metadata": {},
     "output_type": "execute_result"
    }
   ],
   "source": [
    "# print it out\n",
    "df.head(3)"
   ]
  },
  {
   "cell_type": "code",
   "execution_count": 22,
   "metadata": {},
   "outputs": [],
   "source": [
    "#now select a date and 2 variables\n",
    "dhs_3c = df[['date_of_census', 'total_children_in_shelter', 'adult_families_in_shelter']]"
   ]
  },
  {
   "cell_type": "markdown",
   "metadata": {},
   "source": [
    "for consistency with the data above, I will change the names of the columns (variables) to be the same as before. This way the plots will come out with the same labels and legends"
   ]
  },
  {
   "cell_type": "code",
   "execution_count": 23,
   "metadata": {},
   "outputs": [
    {
     "name": "stderr",
     "output_type": "stream",
     "text": [
      "/usr/local/Anaconda3-5.0.0-Linux-x86_64/envs/PUI2016_Python3/lib/python3.5/site-packages/pandas/core/frame.py:2754: SettingWithCopyWarning: \n",
      "A value is trying to be set on a copy of a slice from a DataFrame\n",
      "\n",
      "See the caveats in the documentation: http://pandas.pydata.org/pandas-docs/stable/indexing.html#indexing-view-versus-copy\n",
      "  **kwargs)\n"
     ]
    }
   ],
   "source": [
    "dhs_3c.rename(columns = {'date_of_census':'Date of Census', \n",
    "               'total_children_in_shelter':'Total Children in Shelter', \n",
    "               'adult_families_in_shelter': 'Adult Families in Shelter'}, inplace=True)"
   ]
  },
  {
   "cell_type": "code",
   "execution_count": 24,
   "metadata": {},
   "outputs": [
    {
     "data": {
      "image/png": "[encoded data removed]",
      "text/plain": [
       "<matplotlib.figure.Figure at 0x7fe4c2203d30>"
      ]
     },
     "metadata": {},
     "output_type": "display_data"
    }
   ],
   "source": [
    "#as a default this plot wont have a y label, but all plots must have axis labels!\n",
    "ax = dhs_3c.plot(x='Date of Census', y='Total Children in Shelter');\n",
    "ax.set_ylabel(\"Number\");"
   ]
  },
  {
   "cell_type": "markdown",
   "metadata": {},
   "source": [
    "i do not like the formatting of those dates so I will drom the timestamp overwriting the original column. \n",
    "for more info on baisc timestamp manipulation \n",
    "( no capation cause I am remaking this figure)\n"
   ]
  },
  {
   "cell_type": "code",
   "execution_count": 25,
   "metadata": {},
   "outputs": [
    {
     "name": "stderr",
     "output_type": "stream",
     "text": [
      "/usr/local/Anaconda3-5.0.0-Linux-x86_64/envs/PUI2016_Python3/lib/python3.5/site-packages/ipykernel/__main__.py:1: SettingWithCopyWarning: \n",
      "A value is trying to be set on a copy of a slice from a DataFrame.\n",
      "Try using .loc[row_indexer,col_indexer] = value instead\n",
      "\n",
      "See the caveats in the documentation: http://pandas.pydata.org/pandas-docs/stable/indexing.html#indexing-view-versus-copy\n",
      "  if __name__ == '__main__':\n"
     ]
    }
   ],
   "source": [
    "dhs_3c[\"Date of Census\"] = dhs_3c[\"Date of Census\"].apply(lambda x: pd.Timestamp(x))"
   ]
  },
  {
   "cell_type": "markdown",
   "metadata": {},
   "source": [
    "now that I am using timestamps (instead of strings as the data got read in form the json file) Pandas know to rotate the labels appropriately so I can drop rot=90"
   ]
  },
  {
   "cell_type": "code",
   "execution_count": 26,
   "metadata": {},
   "outputs": [
    {
     "data": {
      "image/png": "[encoded data removed]",
      "text/plain": [
       "<matplotlib.figure.Figure at 0x7fe4c2149908>"
      ]
     },
     "metadata": {},
     "output_type": "display_data"
    }
   ],
   "source": [
    "ax = dhs_3c.plot(x='Date of Census', y='Total Children in Shelter')\n",
    "ax.set_ylabel(\"Number\");"
   ]
  },
  {
   "cell_type": "markdown",
   "metadata": {},
   "source": [
    "Figure 2: number of adult families in NYC shelters as a function of time between 8/21/2013 and 9/16/2018. The number peaks in early 2015. there is no single trend, but seasonal trends can be spotted"
   ]
  },
  {
   "cell_type": "code",
   "execution_count": 27,
   "metadata": {},
   "outputs": [
    {
     "data": {
      "image/png": "[encoded data removed]",
      "text/plain": [
       "<matplotlib.figure.Figure at 0x7fe4c2215f60>"
      ]
     },
     "metadata": {},
     "output_type": "display_data"
    }
   ],
   "source": [
    "#plot the other columns\n",
    "ax = dhs_3c.plot(x='Date of Census', y='Adult Families in Shelter')\n",
    "ax.set_ylabel(\"Number\");"
   ]
  },
  {
   "cell_type": "markdown",
   "metadata": {},
   "source": [
    "Figure 3: number of adult families NYC shelters against total number of children in shelters as reported by the Department of Homeless Services between 8/21/2013 and 9/16/2018. Unlike fo the number of adult families, there is a steady increasing trend in the children shelter population which grows from 1800 by about 30% "
   ]
  },
  {
   "cell_type": "code",
   "execution_count": null,
   "metadata": {},
   "outputs": [],
   "source": []
  }
 ],
 "metadata": {
  "kernelspec": {
   "display_name": "PUI2016_Python3",
   "language": "python",
   "name": "pui2016_python3"
  },
  "language_info": {
   "codemirror_mode": {
    "name": "ipython",
    "version": 3
   },
   "file_extension": ".py",
   "mimetype": "text/x-python",
   "name": "python",
   "nbconvert_exporter": "python",
   "pygments_lexer": "ipython3",
   "version": "3.5.4"
  }
 },
 "nbformat": 4,
 "nbformat_minor": 2
}
