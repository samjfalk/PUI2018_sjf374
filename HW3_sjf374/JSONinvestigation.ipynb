{
 "cells": [
  {
   "cell_type": "code",
   "execution_count": null,
   "metadata": {},
   "outputs": [],
   "source": [
    "# the bus name,\n",
    "# the number of vehicles\n",
    "# their current position"
   ]
  },
  {
   "cell_type": "code",
   "execution_count": 28,
   "metadata": {},
   "outputs": [],
   "source": [
    "#testing\n",
    "import sys\n",
    "import json\n",
    "try:\n",
    "    import urllib2 as urllib\n",
    "except ImportError:\n",
    "    import urllib.request as urllib\n",
    "\n",
    "key = \n",
    "bus = 'b52'\n",
    "\n",
    "bus = bus.upper()\n",
    "\n",
    "full_url = \\\n",
    "'http://bustime.mta.info/api/siri/vehicle-monitoring.json?key=%s&VehicleMonitoringDetailLevel=calls&LineRef=%s'\\\n",
    "% (key, bus)\n",
    "\n",
    "#seen in class notes\n",
    "response = urllib.urlopen(full_url)\n",
    "data = response.read().decode(\"utf-8\")\n",
    "parsedjson = json.loads(data, parse_constant= True)"
   ]
  },
  {
   "cell_type": "code",
   "execution_count": 39,
   "metadata": {},
   "outputs": [
    {
     "data": {
      "text/plain": [
       "dict_keys(['Siri'])"
      ]
     },
     "execution_count": 39,
     "metadata": {},
     "output_type": "execute_result"
    }
   ],
   "source": [
    "parsedjson.keys()"
   ]
  },
  {
   "cell_type": "code",
   "execution_count": 63,
   "metadata": {},
   "outputs": [
    {
     "name": "stdout",
     "output_type": "stream",
     "text": [
      "Bus Line : B52\n",
      "Number of Active Buses : 3\n",
      "Bus 0 is at latitude 40.685562 and longitude -73.956557\n",
      "Bus 1 is at latitude 40.687998 and longitude -73.934955\n",
      "Bus 2 is at latitude 40.696225 and longitude -73.991054\n"
     ]
    }
   ],
   "source": [
    "busactivity = parsedjson['Siri']['ServiceDelivery']['VehicleMonitoringDelivery'][0]['VehicleActivity']\n",
    "\n",
    "print ('Bus Line : ' + bus)\n",
    "\n",
    "print ('Number of Active Buses : ' + str(len(busactivity)))\n",
    "\n",
    "i = 0\n",
    "for x in busactivity:\n",
    "    print ('Bus %s is at latitude %s and longitude %s' % (i, str(x['MonitoredVehicleJourney']['VehicleLocation']['Latitude']), str(x['MonitoredVehicleJourney']['VehicleLocation']['Longitude'])))\n",
    "    i+=1"
   ]
  },
  {
   "cell_type": "code",
   "execution_count": null,
   "metadata": {},
   "outputs": [],
   "source": []
  },
  {
   "cell_type": "code",
   "execution_count": null,
   "metadata": {},
   "outputs": [],
   "source": []
  },
  {
   "cell_type": "code",
   "execution_count": null,
   "metadata": {},
   "outputs": [],
   "source": []
  }
 ],
 "metadata": {
  "kernelspec": {
   "display_name": "Python 3",
   "language": "python",
   "name": "python3"
  },
  "language_info": {
   "codemirror_mode": {
    "name": "ipython",
    "version": 3
   },
   "file_extension": ".py",
   "mimetype": "text/x-python",
   "name": "python",
   "nbconvert_exporter": "python",
   "pygments_lexer": "ipython3",
   "version": "3.6.4"
  }
 },
 "nbformat": 4,
 "nbformat_minor": 2
}
