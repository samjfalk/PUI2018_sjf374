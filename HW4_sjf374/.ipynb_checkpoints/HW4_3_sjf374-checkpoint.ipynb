{
 "cells": [
  {
   "cell_type": "code",
   "execution_count": 7,
   "metadata": {},
   "outputs": [],
   "source": [
    "import pandas as pd"
   ]
  },
  {
   "cell_type": "code",
   "execution_count": 9,
   "metadata": {},
   "outputs": [],
   "source": [
    "from __future__ import print_function "
   ]
  },
  {
   "cell_type": "code",
   "execution_count": 8,
   "metadata": {},
   "outputs": [],
   "source": [
    "import numpy as np"
   ]
  },
  {
   "cell_type": "code",
   "execution_count": null,
   "metadata": {},
   "outputs": [],
   "source": [
    "#worked with MEi and QY"
   ]
  },
  {
   "cell_type": "markdown",
   "metadata": {},
   "source": [
    "Follow the instructions on the slides as discussed in class. You are using the Z test to understand if a (fictitious) implementation of an alternative bus route for (fictitious) bus line X8 improves circulation. You know that the priginal bus rout for X8 took 36 +- 6 minutes (mean and standard deviation parameters of the population) and you have a table for the duration of a number of trips with the new bus routes. You do not need to import packages or run a pre-written Z test. The test is simply the formula below. What I am looking for here is: seeing a good Null/alternative hypothesis statement and treatment, with a clear Null and Alternative spelled out AND written out as a formula (spometihing - something >=0 for example), and a good interpretation of the Z value you obtain in terms of ability or inability to reject the Null Hypothesis.\n",
    "\n",
    "Here is the forumla\n",
    "\n",
    "Z = \\frac{\\mu_{pop} - \\mu_{sample}}{\\sigma / \\sqrt{N}}\n",
    "\n",
    "This is also in the slides attached (in a more readable format).\n",
    "\n",
    "Acquire the data as needed, measure the statistics for the distribution (the mean of the sample and sample size) and plug them in the formula. The number you get, the Z statistics is the number of standard deviations away from the mean of your sample. Have you set a significance level ahead of time as you should have? Then you can compare that probability threshold with the probability of getting a result at least as extreme as the one you got for your Z test. Remember that the Z test is returning multiples of the standard deviation of a Normal distribution, so 1sigma corresponds to 68% inclusion, 2sigma 95%, 3sigma 99.7%\n",
    "\n",
    "The chapter of Statistics In a Nutshell that covers these topics is called Inferential statistics, including the Z test. It is chapter 3 in the hard copies of the book in the CUSP library, but it was moved to chapter 7 in the online book version which is in the link. Same content more or less."
   ]
  },
  {
   "cell_type": "markdown",
   "metadata": {},
   "source": [
    "Question: is the new Bus route improving commute?\n",
    "A new bus route for line X8 is implemented. MTA wants to\n",
    "know if it improves commute time (travel time at peak hours).\n",
    "They know what the mean travel time used to be, and measure\n",
    "the new travel time 100 times. The data is in\n",
    "https://raw.githubusercontent.com/fedhere/PUI2018_fb55/\n",
    "master/Lab3_fb55/times.txt\n",
    "Told ~ N(μ=36, σ=6)"
   ]
  },
  {
   "cell_type": "markdown",
   "metadata": {},
   "source": [
    "H0: the commute time is on average the same or longer\n",
    "with the new bus route as it was before: Tnew >= Told"
   ]
  },
  {
   "cell_type": "markdown",
   "metadata": {},
   "source": [
    "## DEFINE hypothesis\n",
    "\n",
    "Null hypothesis: The average time it takes for X8 to complete it's bus route will be the same or longer than the prior mean of 36 minutes during peak hours, with a significance level of p = .05. \n",
    "\n",
    "Alternative hypothesis: The average time it takes for X8 to complete it's bus route will be shorter than the prior mean of 36 minutes during peak hours, with a significance level of p = .05. \n",
    "\n",
    "\n",
    "formula: \n",
    "H0: P1 - P0 => 0\n",
    "H1: P1 - P0 < 0\n",
    "α=0.05\n",
    "\n",
    "if z score is  > 2 => we are farther than 2 sigmas\n",
    "away from the old mean and can reject the NULL hypothesis\n"
   ]
  },
  {
   "cell_type": "code",
   "execution_count": null,
   "metadata": {},
   "outputs": [],
   "source": []
  },
  {
   "cell_type": "code",
   "execution_count": 1,
   "metadata": {},
   "outputs": [
    {
     "name": "stdout",
     "output_type": "stream",
     "text": [
      "  % Total    % Received % Xferd  Average Speed   Time    Time     Time  Current\n",
      "                                 Dload  Upload   Total   Spent    Left  Speed\n",
      "100  1179  100  1179    0     0   9844      0 --:--:-- --:--:-- --:--:--  9907\n"
     ]
    }
   ],
   "source": [
    "!curl https://raw.githubusercontent.com/fedhere/PUI2018_fb55/master/Lab4_fb55/times.txt?accessType=DOWNLOAD > bustimes.txt"
   ]
  },
  {
   "cell_type": "code",
   "execution_count": 2,
   "metadata": {},
   "outputs": [
    {
     "name": "stdout",
     "output_type": "stream",
     "text": [
      "PUIdata /nfshome/sjf374/PUIdata\n"
     ]
    }
   ],
   "source": [
    "# ove the downloaded data to PUI data\n",
    "import os\n",
    "print(\"PUIdata\", os.getenv(\"PUIDATA\"))\n",
    "#this works in the command line, but is not working in the jupyter notebook when putting data in place"
   ]
  },
  {
   "cell_type": "code",
   "execution_count": 3,
   "metadata": {},
   "outputs": [
    {
     "name": "stdout",
     "output_type": "stream",
     "text": [
      "PUIdata /nfshome/sjf374/PUI2018/PUIdata\n"
     ]
    }
   ],
   "source": [
    "#create the env variable if missing-- needed to create\n",
    "#added PUI2018 to path \n",
    "os.environ[\"PUIDATA\"] = \"%s/PUI2018/PUIdata\"%os.getenv(\"HOME\")\n",
    "\n",
    "print(\"PUIdata\", os.getenv(\"PUIDATA\"))"
   ]
  },
  {
   "cell_type": "code",
   "execution_count": 4,
   "metadata": {},
   "outputs": [],
   "source": [
    "# move the data\n",
    "!mv bustimes.txt $PUIDATA"
   ]
  },
  {
   "cell_type": "code",
   "execution_count": null,
   "metadata": {},
   "outputs": [],
   "source": []
  },
  {
   "cell_type": "code",
   "execution_count": 17,
   "metadata": {},
   "outputs": [],
   "source": [
    "#pulled FB55 repo\n",
    "#bring in data \n",
    "bustimesdf = pd.read_fwf(\"%s/bustimes.txt\"%os.getenv(\"PUIDATA\"), header=None)\n",
    "bustimesdf.columns = ['bustimes']\n"
   ]
  },
  {
   "cell_type": "code",
   "execution_count": 18,
   "metadata": {},
   "outputs": [
    {
     "data": {
      "text/html": [
       "<div>\n",
       "<table border=\"1\" class=\"dataframe\">\n",
       "  <thead>\n",
       "    <tr style=\"text-align: right;\">\n",
       "      <th></th>\n",
       "      <th>bustimes</th>\n",
       "    </tr>\n",
       "  </thead>\n",
       "  <tbody>\n",
       "    <tr>\n",
       "      <th>0</th>\n",
       "      <td>31.622239</td>\n",
       "    </tr>\n",
       "    <tr>\n",
       "      <th>1</th>\n",
       "      <td>32.821376</td>\n",
       "    </tr>\n",
       "    <tr>\n",
       "      <th>2</th>\n",
       "      <td>30.229101</td>\n",
       "    </tr>\n",
       "    <tr>\n",
       "      <th>3</th>\n",
       "      <td>31.413766</td>\n",
       "    </tr>\n",
       "    <tr>\n",
       "      <th>4</th>\n",
       "      <td>39.010550</td>\n",
       "    </tr>\n",
       "  </tbody>\n",
       "</table>\n",
       "</div>"
      ],
      "text/plain": [
       "    bustimes\n",
       "0  31.622239\n",
       "1  32.821376\n",
       "2  30.229101\n",
       "3  31.413766\n",
       "4  39.010550"
      ]
     },
     "execution_count": 18,
     "metadata": {},
     "output_type": "execute_result"
    }
   ],
   "source": [
    "bustimesdf.head()"
   ]
  },
  {
   "cell_type": "code",
   "execution_count": 23,
   "metadata": {},
   "outputs": [],
   "source": [
    "#mean of the sample\n",
    "sampmean = bustimesdf['bustimes'].mean()\n",
    "sampsize = len(bustimesdf['bustimes'])\n",
    "sampstd = bustimesdf['bustimes'].std()"
   ]
  },
  {
   "cell_type": "code",
   "execution_count": 25,
   "metadata": {},
   "outputs": [],
   "source": [
    "popmean = 36"
   ]
  },
  {
   "cell_type": "code",
   "execution_count": 26,
   "metadata": {},
   "outputs": [],
   "source": [
    "popstd = 6 "
   ]
  },
  {
   "cell_type": "code",
   "execution_count": 24,
   "metadata": {},
   "outputs": [
    {
     "data": {
      "text/plain": [
       "34.466161688299998"
      ]
     },
     "execution_count": 24,
     "metadata": {},
     "output_type": "execute_result"
    }
   ],
   "source": [
    "sampmean"
   ]
  },
  {
   "cell_type": "markdown",
   "metadata": {},
   "source": [
    "the mean of the sample (34.5) is less than the mean of the original bus root (36).... now time to test the significance "
   ]
  },
  {
   "cell_type": "markdown",
   "metadata": {},
   "source": []
  },
  {
   "cell_type": "code",
   "execution_count": null,
   "metadata": {},
   "outputs": [],
   "source": [
    "Z = \\frac{\\mu_{pop} - \\mu_{sample}}{\\sigma / \\sqrt{N}}"
   ]
  },
  {
   "cell_type": "code",
   "execution_count": 27,
   "metadata": {},
   "outputs": [],
   "source": [
    "z = (popmean -sampmean)/(popstd/(sampsize**.5))"
   ]
  },
  {
   "cell_type": "code",
   "execution_count": 28,
   "metadata": {},
   "outputs": [
    {
     "data": {
      "text/plain": [
       "2.5563971861666701"
      ]
     },
     "execution_count": 28,
     "metadata": {},
     "output_type": "execute_result"
    }
   ],
   "source": [
    "z"
   ]
  },
  {
   "cell_type": "code",
   "execution_count": null,
   "metadata": {},
   "outputs": [],
   "source": [
    "#reject the null hypothesis since the z score is greater than 2 sigmas"
   ]
  }
 ],
 "metadata": {
  "kernelspec": {
   "display_name": "PUI2016_Python3",
   "language": "python",
   "name": "pui2016_python3"
  },
  "language_info": {
   "codemirror_mode": {
    "name": "ipython",
    "version": 3
   },
   "file_extension": ".py",
   "mimetype": "text/x-python",
   "name": "python",
   "nbconvert_exporter": "python",
   "pygments_lexer": "ipython3",
   "version": "3.5.4"
  }
 },
 "nbformat": 4,
 "nbformat_minor": 2
}
