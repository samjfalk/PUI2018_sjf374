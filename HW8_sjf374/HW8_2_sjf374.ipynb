{
 "cells": [
  {
   "cell_type": "markdown",
   "metadata": {},
   "source": [
    "## Assignment 2 : Finish Citibikes Mini Project\n",
    "sjf374, qg412, yg833\n",
    "\n",
    "Worked with Mei Guan and QY Goh for the initial beginning of this project in HW4. So we worked together to finish the project. We began by reviewing what we had done initially, comparing our notebooks and the comments from our reviewers. We discussed the scope of the assignment."
   ]
  },
  {
   "cell_type": "code",
   "execution_count": 1,
   "metadata": {},
   "outputs": [
    {
     "name": "stdout",
     "output_type": "stream",
     "text": [
      "Populating the interactive namespace from numpy and matplotlib\n"
     ]
    }
   ],
   "source": [
    "\n",
    "from __future__  import print_function, division\n",
    "import pylab as pl\n",
    "import pandas as pd\n",
    "import numpy as np\n",
    "import datetime as dt\n",
    "\n",
    "\n",
    "%pylab inline\n",
    "\n"
   ]
  },
  {
   "cell_type": "code",
   "execution_count": 2,
   "metadata": {},
   "outputs": [],
   "source": [
    "from scipy import stats"
   ]
  },
  {
   "cell_type": "code",
   "execution_count": 3,
   "metadata": {},
   "outputs": [],
   "source": [
    "#Worked with Mei Guan and QY Goh"
   ]
  },
  {
   "cell_type": "code",
   "execution_count": 4,
   "metadata": {},
   "outputs": [
    {
     "name": "stdout",
     "output_type": "stream",
     "text": [
      "PUIdata /nfshome/sjf374/PUIdata\n",
      "PUIdata /nfshome/sjf374/PUI2018/PUIdata\n"
     ]
    }
   ],
   "source": [
    "# ove the downloaded data to PUI data\n",
    "import os\n",
    "print(\"PUIdata\", os.getenv(\"PUIDATA\"))\n",
    "#this works in the command line, but is not working in the jupyter notebook when putting data in place\n",
    "\n",
    "#create the env variable if missing-- needed to create\n",
    "#added PUI2018 to path \n",
    "os.environ[\"PUIDATA\"] = \"%s/PUI2018/PUIdata\"%os.getenv(\"HOME\")\n",
    "\n",
    "print(\"PUIdata\", os.getenv(\"PUIDATA\"))\n",
    "\n",
    "\n",
    "# # move the data\n",
    "# !mv bustimes.txt $PUIDATA"
   ]
  },
  {
   "cell_type": "code",
   "execution_count": 5,
   "metadata": {},
   "outputs": [],
   "source": [
    "#from homework 4 citibikes example-- adapted from to adjust for environment variables\n",
    "\n",
    "def getCitiBikeCSV(datestring):\n",
    "    print (\"Downloading\", datestring)\n",
    "    ### First I will check that it is not already there\n",
    "    if not os.path.isfile(os.getenv(\"PUIDATA\") + \"/\" + datestring + \"-citibike-tripdata.csv\"):\n",
    "        if os.path.isfile(datestring + \"-citibike-tripdata.csv\"):\n",
    "            # if in the current dir just move it\n",
    "            if os.system(\"mv \" + datestring + \"-citibike-tripdata.csv \" + os.getenv(\"PUIDATA\")):\n",
    "                print (\"Error moving file!, Please check!\")\n",
    "        #otherwise start looking for the zip file\n",
    "        else:\n",
    "            if not os.path.isfile(os.getenv(\"PUIDATA\") + \"/\" + datestring + \"-citibike-tripdata.zip\"):\n",
    "                if not os.path.isfile(datestring + \"-citibike-tripdata.zip\"):\n",
    "                    os.system(\"curl -O https://s3.amazonaws.com/tripdata/\" + datestring + \"-citibike-tripdata.zip\")\n",
    "                ###  To move it I use the os.system() functions to run bash commands with arguments\n",
    "                os.system(\"mv \" + datestring + \"-citibike-tripdata.zip \" + os.getenv(\"PUIDATA\"))\n",
    "            ### unzip the csv \n",
    "            os.system(\"unzip \" + os.getenv(\"PUIDATA\") + \"/\" + datestring + \"-citibike-tripdata.zip\")\n",
    "            ## NOTE: old csv citibike data had a different name structure. \n",
    "            if '2014' in datestring:\n",
    "                os.system(\"mv \" + datestring[:4] + '-' +  datestring[4:] + \n",
    "                          \"\\ -\\ Citi\\ Bike\\ trip\\ data.csv \" + datestring + \"-citibike-tripdata.csv\")\n",
    "            os.system(\"mv \" + datestring + \"-citibike-tripdata.csv \" + os.getenv(\"PUIDATA\"))\n",
    "    ### One final check:\n",
    "    if not os.path.isfile(os.getenv(\"PUIDATA\") + \"/\" + datestring + \"-citibike-tripdata.csv\"):\n",
    "        print (\"WARNING!!! something is wrong: the file is not there!\")\n",
    "\n",
    "    else:\n",
    "        print (\"file in place, you can continue\")"
   ]
  },
  {
   "cell_type": "code",
   "execution_count": 6,
   "metadata": {},
   "outputs": [],
   "source": [
    "# may, august, November, february 2017"
   ]
  },
  {
   "cell_type": "code",
   "execution_count": 7,
   "metadata": {},
   "outputs": [
    {
     "name": "stdout",
     "output_type": "stream",
     "text": [
      "Downloading 201602\n",
      "file in place, you can continue\n",
      "Downloading 201605\n",
      "file in place, you can continue\n",
      "Downloading 201608\n",
      "file in place, you can continue\n",
      "Downloading 201611\n",
      "file in place, you can continue\n"
     ]
    }
   ],
   "source": [
    "months = ['201602','201605','201608', '201611']\n",
    "for x in months: \n",
    "    getCitiBikeCSV(x)"
   ]
  },
  {
   "cell_type": "markdown",
   "metadata": {},
   "source": []
  },
  {
   "cell_type": "code",
   "execution_count": 8,
   "metadata": {},
   "outputs": [],
   "source": [
    "##Our groups hypothesis varied slightly, so we made sure to merge "
   ]
  },
  {
   "cell_type": "markdown",
   "metadata": {},
   "source": [
    "### Define Hypothesis\n",
    "\n",
    "IDEA: more people bike on sundays than saturdays\n",
    "\n",
    "Null hypothesis: \n",
    "The average of bike trips on Saturdays are the same or less than the average of bike trips on Sundays per week. \n",
    "\n",
    "Alternative hypothesis:  \n",
    "The average of bike trips on Saturdays are greater than the average of bike trips on Sundays per week. \n",
    "\n",
    "p = .05"
   ]
  },
  {
   "cell_type": "markdown",
   "metadata": {},
   "source": [
    "#### Equation\n",
    "_$H_0$ : $\\frac{sat_{\\mathrm{tripquantity}}}{sat_{\\mathrm{totalsaturdays}}} <= \\frac{sun_{\\mathrm{tripquantity}}}{sun_{\\mathrm{totalsaturdays}}}$\n",
    "\n",
    "_$H_1$ : $\\frac{sat_{\\mathrm{tripquantity}}}{sat_{\\mathrm{totalsaturdays}}} > \\frac{sun_{\\mathrm{tripquantity}}}{sun_{\\mathrm{totalsaturdays}}}$"
   ]
  },
  {
   "cell_type": "code",
   "execution_count": 9,
   "metadata": {},
   "outputs": [],
   "source": [
    "# load the data in"
   ]
  },
  {
   "cell_type": "code",
   "execution_count": 10,
   "metadata": {},
   "outputs": [],
   "source": [
    "cbdf = {}\n",
    "for x in months:\n",
    "    cbdf[x] = pd.read_csv(\"%s/%s-citibike-tripdata.csv\" % (os.getenv(\"PUIDATA\"), x))"
   ]
  },
  {
   "cell_type": "code",
   "execution_count": 11,
   "metadata": {},
   "outputs": [
    {
     "name": "stdout",
     "output_type": "stream",
     "text": [
      "201602\n",
      "Index(['tripduration', 'starttime', 'stoptime', 'start station id',\n",
      "       'start station name', 'start station latitude',\n",
      "       'start station longitude', 'end station id', 'end station name',\n",
      "       'end station latitude', 'end station longitude', 'bikeid', 'usertype',\n",
      "       'birth year', 'gender'],\n",
      "      dtype='object')\n",
      "201611\n",
      "Index(['Trip Duration', 'Start Time', 'Stop Time', 'Start Station ID',\n",
      "       'Start Station Name', 'Start Station Latitude',\n",
      "       'Start Station Longitude', 'End Station ID', 'End Station Name',\n",
      "       'End Station Latitude', 'End Station Longitude', 'Bike ID', 'User Type',\n",
      "       'Birth Year', 'Gender'],\n",
      "      dtype='object')\n",
      "201608\n",
      "Index(['tripduration', 'starttime', 'stoptime', 'start station id',\n",
      "       'start station name', 'start station latitude',\n",
      "       'start station longitude', 'end station id', 'end station name',\n",
      "       'end station latitude', 'end station longitude', 'bikeid', 'usertype',\n",
      "       'birth year', 'gender'],\n",
      "      dtype='object')\n",
      "201605\n",
      "Index(['tripduration', 'starttime', 'stoptime', 'start station id',\n",
      "       'start station name', 'start station latitude',\n",
      "       'start station longitude', 'end station id', 'end station name',\n",
      "       'end station latitude', 'end station longitude', 'bikeid', 'usertype',\n",
      "       'birth year', 'gender'],\n",
      "      dtype='object')\n"
     ]
    }
   ],
   "source": [
    "#check the column names\n",
    "for key, value in cbdf.items():\n",
    "    print (key)\n",
    "    print (value.columns)"
   ]
  },
  {
   "cell_type": "code",
   "execution_count": 12,
   "metadata": {},
   "outputs": [],
   "source": [
    "#the column names are not the same, must set them to be equal\n",
    "cbdf['201611'].columns = cbdf['201602'].columns"
   ]
  },
  {
   "cell_type": "code",
   "execution_count": 13,
   "metadata": {},
   "outputs": [
    {
     "name": "stdout",
     "output_type": "stream",
     "text": [
      "201602\n",
      "Index(['tripduration', 'starttime', 'stoptime', 'start station id',\n",
      "       'start station name', 'start station latitude',\n",
      "       'start station longitude', 'end station id', 'end station name',\n",
      "       'end station latitude', 'end station longitude', 'bikeid', 'usertype',\n",
      "       'birth year', 'gender'],\n",
      "      dtype='object')\n",
      "201611\n",
      "Index(['tripduration', 'starttime', 'stoptime', 'start station id',\n",
      "       'start station name', 'start station latitude',\n",
      "       'start station longitude', 'end station id', 'end station name',\n",
      "       'end station latitude', 'end station longitude', 'bikeid', 'usertype',\n",
      "       'birth year', 'gender'],\n",
      "      dtype='object')\n",
      "201608\n",
      "Index(['tripduration', 'starttime', 'stoptime', 'start station id',\n",
      "       'start station name', 'start station latitude',\n",
      "       'start station longitude', 'end station id', 'end station name',\n",
      "       'end station latitude', 'end station longitude', 'bikeid', 'usertype',\n",
      "       'birth year', 'gender'],\n",
      "      dtype='object')\n",
      "201605\n",
      "Index(['tripduration', 'starttime', 'stoptime', 'start station id',\n",
      "       'start station name', 'start station latitude',\n",
      "       'start station longitude', 'end station id', 'end station name',\n",
      "       'end station latitude', 'end station longitude', 'bikeid', 'usertype',\n",
      "       'birth year', 'gender'],\n",
      "      dtype='object')\n"
     ]
    }
   ],
   "source": [
    "#its all the same now\n",
    "for key, value in cbdf.items():\n",
    "    print (key)\n",
    "    print (value.columns)"
   ]
  },
  {
   "cell_type": "code",
   "execution_count": 14,
   "metadata": {},
   "outputs": [],
   "source": [
    "#concat all the dataframes together\n",
    "citibikedf = pd.concat(cbdf.values())"
   ]
  },
  {
   "cell_type": "code",
   "execution_count": 15,
   "metadata": {},
   "outputs": [
    {
     "data": {
      "text/html": [
       "<div>\n",
       "<table border=\"1\" class=\"dataframe\">\n",
       "  <thead>\n",
       "    <tr style=\"text-align: right;\">\n",
       "      <th></th>\n",
       "      <th>tripduration</th>\n",
       "      <th>starttime</th>\n",
       "      <th>stoptime</th>\n",
       "      <th>start station id</th>\n",
       "      <th>start station name</th>\n",
       "      <th>start station latitude</th>\n",
       "      <th>start station longitude</th>\n",
       "      <th>end station id</th>\n",
       "      <th>end station name</th>\n",
       "      <th>end station latitude</th>\n",
       "      <th>end station longitude</th>\n",
       "      <th>bikeid</th>\n",
       "      <th>usertype</th>\n",
       "      <th>birth year</th>\n",
       "      <th>gender</th>\n",
       "    </tr>\n",
       "  </thead>\n",
       "  <tbody>\n",
       "    <tr>\n",
       "      <th>0</th>\n",
       "      <td>461</td>\n",
       "      <td>2/1/2016 00:00:08</td>\n",
       "      <td>2/1/2016 00:07:49</td>\n",
       "      <td>480</td>\n",
       "      <td>W 53 St &amp; 10 Ave</td>\n",
       "      <td>40.766697</td>\n",
       "      <td>-73.990617</td>\n",
       "      <td>524</td>\n",
       "      <td>W 43 St &amp; 6 Ave</td>\n",
       "      <td>40.755273</td>\n",
       "      <td>-73.983169</td>\n",
       "      <td>23292</td>\n",
       "      <td>Subscriber</td>\n",
       "      <td>1966.0</td>\n",
       "      <td>1</td>\n",
       "    </tr>\n",
       "    <tr>\n",
       "      <th>1</th>\n",
       "      <td>297</td>\n",
       "      <td>2/1/2016 00:00:56</td>\n",
       "      <td>2/1/2016 00:05:53</td>\n",
       "      <td>463</td>\n",
       "      <td>9 Ave &amp; W 16 St</td>\n",
       "      <td>40.742065</td>\n",
       "      <td>-74.004432</td>\n",
       "      <td>380</td>\n",
       "      <td>W 4 St &amp; 7 Ave S</td>\n",
       "      <td>40.734011</td>\n",
       "      <td>-74.002939</td>\n",
       "      <td>15329</td>\n",
       "      <td>Subscriber</td>\n",
       "      <td>1977.0</td>\n",
       "      <td>1</td>\n",
       "    </tr>\n",
       "    <tr>\n",
       "      <th>2</th>\n",
       "      <td>280</td>\n",
       "      <td>2/1/2016 00:01:00</td>\n",
       "      <td>2/1/2016 00:05:40</td>\n",
       "      <td>3134</td>\n",
       "      <td>3 Ave &amp; E 62 St</td>\n",
       "      <td>40.763126</td>\n",
       "      <td>-73.965269</td>\n",
       "      <td>3141</td>\n",
       "      <td>1 Ave &amp; E 68 St</td>\n",
       "      <td>40.765005</td>\n",
       "      <td>-73.958185</td>\n",
       "      <td>22927</td>\n",
       "      <td>Subscriber</td>\n",
       "      <td>1987.0</td>\n",
       "      <td>1</td>\n",
       "    </tr>\n",
       "    <tr>\n",
       "      <th>3</th>\n",
       "      <td>662</td>\n",
       "      <td>2/1/2016 00:01:00</td>\n",
       "      <td>2/1/2016 00:12:02</td>\n",
       "      <td>537</td>\n",
       "      <td>Lexington Ave &amp; E 24 St</td>\n",
       "      <td>40.740259</td>\n",
       "      <td>-73.984092</td>\n",
       "      <td>428</td>\n",
       "      <td>E 3 St &amp; 1 Ave</td>\n",
       "      <td>40.724677</td>\n",
       "      <td>-73.987834</td>\n",
       "      <td>20903</td>\n",
       "      <td>Subscriber</td>\n",
       "      <td>1983.0</td>\n",
       "      <td>2</td>\n",
       "    </tr>\n",
       "    <tr>\n",
       "      <th>4</th>\n",
       "      <td>355</td>\n",
       "      <td>2/1/2016 00:01:41</td>\n",
       "      <td>2/1/2016 00:07:36</td>\n",
       "      <td>284</td>\n",
       "      <td>Greenwich Ave &amp; 8 Ave</td>\n",
       "      <td>40.739017</td>\n",
       "      <td>-74.002638</td>\n",
       "      <td>521</td>\n",
       "      <td>8 Ave &amp; W 31 St</td>\n",
       "      <td>40.750967</td>\n",
       "      <td>-73.994442</td>\n",
       "      <td>23228</td>\n",
       "      <td>Subscriber</td>\n",
       "      <td>1978.0</td>\n",
       "      <td>1</td>\n",
       "    </tr>\n",
       "  </tbody>\n",
       "</table>\n",
       "</div>"
      ],
      "text/plain": [
       "   tripduration          starttime           stoptime  start station id  \\\n",
       "0           461  2/1/2016 00:00:08  2/1/2016 00:07:49               480   \n",
       "1           297  2/1/2016 00:00:56  2/1/2016 00:05:53               463   \n",
       "2           280  2/1/2016 00:01:00  2/1/2016 00:05:40              3134   \n",
       "3           662  2/1/2016 00:01:00  2/1/2016 00:12:02               537   \n",
       "4           355  2/1/2016 00:01:41  2/1/2016 00:07:36               284   \n",
       "\n",
       "        start station name  start station latitude  start station longitude  \\\n",
       "0         W 53 St & 10 Ave               40.766697               -73.990617   \n",
       "1          9 Ave & W 16 St               40.742065               -74.004432   \n",
       "2          3 Ave & E 62 St               40.763126               -73.965269   \n",
       "3  Lexington Ave & E 24 St               40.740259               -73.984092   \n",
       "4    Greenwich Ave & 8 Ave               40.739017               -74.002638   \n",
       "\n",
       "   end station id  end station name  end station latitude  \\\n",
       "0             524   W 43 St & 6 Ave             40.755273   \n",
       "1             380  W 4 St & 7 Ave S             40.734011   \n",
       "2            3141   1 Ave & E 68 St             40.765005   \n",
       "3             428    E 3 St & 1 Ave             40.724677   \n",
       "4             521   8 Ave & W 31 St             40.750967   \n",
       "\n",
       "   end station longitude  bikeid    usertype  birth year  gender  \n",
       "0             -73.983169   23292  Subscriber      1966.0       1  \n",
       "1             -74.002939   15329  Subscriber      1977.0       1  \n",
       "2             -73.958185   22927  Subscriber      1987.0       1  \n",
       "3             -73.987834   20903  Subscriber      1983.0       2  \n",
       "4             -73.994442   23228  Subscriber      1978.0       1  "
      ]
     },
     "execution_count": 15,
     "metadata": {},
     "output_type": "execute_result"
    }
   ],
   "source": [
    "citibikedf.head()"
   ]
  },
  {
   "cell_type": "code",
   "execution_count": 16,
   "metadata": {},
   "outputs": [
    {
     "data": {
      "text/plain": [
       "(4527759, 15)"
      ]
     },
     "execution_count": 16,
     "metadata": {},
     "output_type": "execute_result"
    }
   ],
   "source": [
    "citibikedf.shape"
   ]
  },
  {
   "cell_type": "code",
   "execution_count": 17,
   "metadata": {},
   "outputs": [],
   "source": [
    "#need to reset the index\n",
    "citibikedf.reset_index(drop=True, inplace=True)"
   ]
  },
  {
   "cell_type": "code",
   "execution_count": 18,
   "metadata": {},
   "outputs": [
    {
     "data": {
      "text/plain": [
       "['201602', '201605', '201608', '201611']"
      ]
     },
     "execution_count": 18,
     "metadata": {},
     "output_type": "execute_result"
    }
   ],
   "source": [
    "#reminder of months used\n",
    "months"
   ]
  },
  {
   "cell_type": "code",
   "execution_count": 19,
   "metadata": {},
   "outputs": [
    {
     "data": {
      "text/html": [
       "<div>\n",
       "<table border=\"1\" class=\"dataframe\">\n",
       "  <thead>\n",
       "    <tr style=\"text-align: right;\">\n",
       "      <th></th>\n",
       "      <th>tripduration</th>\n",
       "      <th>starttime</th>\n",
       "      <th>stoptime</th>\n",
       "      <th>start station id</th>\n",
       "      <th>start station name</th>\n",
       "      <th>start station latitude</th>\n",
       "      <th>start station longitude</th>\n",
       "      <th>end station id</th>\n",
       "      <th>end station name</th>\n",
       "      <th>end station latitude</th>\n",
       "      <th>end station longitude</th>\n",
       "      <th>bikeid</th>\n",
       "      <th>usertype</th>\n",
       "      <th>birth year</th>\n",
       "      <th>gender</th>\n",
       "    </tr>\n",
       "  </thead>\n",
       "  <tbody>\n",
       "    <tr>\n",
       "      <th>0</th>\n",
       "      <td>461</td>\n",
       "      <td>2/1/2016 00:00:08</td>\n",
       "      <td>2/1/2016 00:07:49</td>\n",
       "      <td>480</td>\n",
       "      <td>W 53 St &amp; 10 Ave</td>\n",
       "      <td>40.766697</td>\n",
       "      <td>-73.990617</td>\n",
       "      <td>524</td>\n",
       "      <td>W 43 St &amp; 6 Ave</td>\n",
       "      <td>40.755273</td>\n",
       "      <td>-73.983169</td>\n",
       "      <td>23292</td>\n",
       "      <td>Subscriber</td>\n",
       "      <td>1966.0</td>\n",
       "      <td>1</td>\n",
       "    </tr>\n",
       "    <tr>\n",
       "      <th>1</th>\n",
       "      <td>297</td>\n",
       "      <td>2/1/2016 00:00:56</td>\n",
       "      <td>2/1/2016 00:05:53</td>\n",
       "      <td>463</td>\n",
       "      <td>9 Ave &amp; W 16 St</td>\n",
       "      <td>40.742065</td>\n",
       "      <td>-74.004432</td>\n",
       "      <td>380</td>\n",
       "      <td>W 4 St &amp; 7 Ave S</td>\n",
       "      <td>40.734011</td>\n",
       "      <td>-74.002939</td>\n",
       "      <td>15329</td>\n",
       "      <td>Subscriber</td>\n",
       "      <td>1977.0</td>\n",
       "      <td>1</td>\n",
       "    </tr>\n",
       "    <tr>\n",
       "      <th>2</th>\n",
       "      <td>280</td>\n",
       "      <td>2/1/2016 00:01:00</td>\n",
       "      <td>2/1/2016 00:05:40</td>\n",
       "      <td>3134</td>\n",
       "      <td>3 Ave &amp; E 62 St</td>\n",
       "      <td>40.763126</td>\n",
       "      <td>-73.965269</td>\n",
       "      <td>3141</td>\n",
       "      <td>1 Ave &amp; E 68 St</td>\n",
       "      <td>40.765005</td>\n",
       "      <td>-73.958185</td>\n",
       "      <td>22927</td>\n",
       "      <td>Subscriber</td>\n",
       "      <td>1987.0</td>\n",
       "      <td>1</td>\n",
       "    </tr>\n",
       "    <tr>\n",
       "      <th>3</th>\n",
       "      <td>662</td>\n",
       "      <td>2/1/2016 00:01:00</td>\n",
       "      <td>2/1/2016 00:12:02</td>\n",
       "      <td>537</td>\n",
       "      <td>Lexington Ave &amp; E 24 St</td>\n",
       "      <td>40.740259</td>\n",
       "      <td>-73.984092</td>\n",
       "      <td>428</td>\n",
       "      <td>E 3 St &amp; 1 Ave</td>\n",
       "      <td>40.724677</td>\n",
       "      <td>-73.987834</td>\n",
       "      <td>20903</td>\n",
       "      <td>Subscriber</td>\n",
       "      <td>1983.0</td>\n",
       "      <td>2</td>\n",
       "    </tr>\n",
       "    <tr>\n",
       "      <th>4</th>\n",
       "      <td>355</td>\n",
       "      <td>2/1/2016 00:01:41</td>\n",
       "      <td>2/1/2016 00:07:36</td>\n",
       "      <td>284</td>\n",
       "      <td>Greenwich Ave &amp; 8 Ave</td>\n",
       "      <td>40.739017</td>\n",
       "      <td>-74.002638</td>\n",
       "      <td>521</td>\n",
       "      <td>8 Ave &amp; W 31 St</td>\n",
       "      <td>40.750967</td>\n",
       "      <td>-73.994442</td>\n",
       "      <td>23228</td>\n",
       "      <td>Subscriber</td>\n",
       "      <td>1978.0</td>\n",
       "      <td>1</td>\n",
       "    </tr>\n",
       "  </tbody>\n",
       "</table>\n",
       "</div>"
      ],
      "text/plain": [
       "   tripduration          starttime           stoptime  start station id  \\\n",
       "0           461  2/1/2016 00:00:08  2/1/2016 00:07:49               480   \n",
       "1           297  2/1/2016 00:00:56  2/1/2016 00:05:53               463   \n",
       "2           280  2/1/2016 00:01:00  2/1/2016 00:05:40              3134   \n",
       "3           662  2/1/2016 00:01:00  2/1/2016 00:12:02               537   \n",
       "4           355  2/1/2016 00:01:41  2/1/2016 00:07:36               284   \n",
       "\n",
       "        start station name  start station latitude  start station longitude  \\\n",
       "0         W 53 St & 10 Ave               40.766697               -73.990617   \n",
       "1          9 Ave & W 16 St               40.742065               -74.004432   \n",
       "2          3 Ave & E 62 St               40.763126               -73.965269   \n",
       "3  Lexington Ave & E 24 St               40.740259               -73.984092   \n",
       "4    Greenwich Ave & 8 Ave               40.739017               -74.002638   \n",
       "\n",
       "   end station id  end station name  end station latitude  \\\n",
       "0             524   W 43 St & 6 Ave             40.755273   \n",
       "1             380  W 4 St & 7 Ave S             40.734011   \n",
       "2            3141   1 Ave & E 68 St             40.765005   \n",
       "3             428    E 3 St & 1 Ave             40.724677   \n",
       "4             521   8 Ave & W 31 St             40.750967   \n",
       "\n",
       "   end station longitude  bikeid    usertype  birth year  gender  \n",
       "0             -73.983169   23292  Subscriber      1966.0       1  \n",
       "1             -74.002939   15329  Subscriber      1977.0       1  \n",
       "2             -73.958185   22927  Subscriber      1987.0       1  \n",
       "3             -73.987834   20903  Subscriber      1983.0       2  \n",
       "4             -73.994442   23228  Subscriber      1978.0       1  "
      ]
     },
     "execution_count": 19,
     "metadata": {},
     "output_type": "execute_result"
    }
   ],
   "source": [
    "citibikedf.head()"
   ]
  },
  {
   "cell_type": "code",
   "execution_count": 20,
   "metadata": {},
   "outputs": [
    {
     "data": {
      "text/plain": [
       "4527759"
      ]
     },
     "execution_count": 20,
     "metadata": {},
     "output_type": "execute_result"
    }
   ],
   "source": [
    "len(citibikedf.index)"
   ]
  },
  {
   "cell_type": "code",
   "execution_count": 21,
   "metadata": {},
   "outputs": [
    {
     "data": {
      "text/plain": [
       "Subscriber    4021206\n",
       "Customer       494019\n",
       "Name: usertype, dtype: int64"
      ]
     },
     "execution_count": 21,
     "metadata": {},
     "output_type": "execute_result"
    }
   ],
   "source": [
    "citibikedf['usertype'].value_counts()"
   ]
  },
  {
   "cell_type": "code",
   "execution_count": 22,
   "metadata": {},
   "outputs": [
    {
     "data": {
      "text/plain": [
       "array([ 1966.,  1977.,  1987.,  1983.,  1978.,  1990.,  1991.,  1969.,\n",
       "          nan,  1986.,  1982.,  1985.,  1960.,  1981.,  1959.,  1984.,\n",
       "        1979.,  1957.,  1988.,  1992.,  1974.,  1998.,  1972.,  1971.,\n",
       "        1955.,  1976.,  1970.,  1980.,  1961.,  1996.,  1962.,  1975.,\n",
       "        1995.,  1973.,  1994.,  1963.,  1954.,  1967.,  1964.,  1993.,\n",
       "        1989.,  1958.,  1997.,  1956.,  1952.,  1968.,  1953.,  1951.,\n",
       "        1965.,  1949.,  1999.,  1948.,  1950.,  1941.,  1946.,  1942.,\n",
       "        1947.,  1885.,  1945.,  1899.,  1934.,  1900.,  1940.,  1944.,\n",
       "        1938.,  1943.,  1935.,  1939.,  2000.,  1936.,  1932.,  1937.,\n",
       "        1910.,  1920.,  1918.,  1926.,  1907.,  1917.,  1921.,  1901.,\n",
       "        1886.,  1895.,  1923.,  1912.,  1931.,  1888.,  1933.,  1893.,\n",
       "        1913.,  1894.,  1896.,  1909.,  1925.,  1930.])"
      ]
     },
     "execution_count": 22,
     "metadata": {},
     "output_type": "execute_result"
    }
   ],
   "source": [
    "citibikedf['birth year'].unique()"
   ]
  },
  {
   "cell_type": "code",
   "execution_count": 23,
   "metadata": {},
   "outputs": [
    {
     "name": "stderr",
     "output_type": "stream",
     "text": [
      "/usr/local/Anaconda3-5.0.0-Linux-x86_64/envs/PUI2016_Python3/lib/python3.5/site-packages/numpy/lib/function_base.py:3403: RuntimeWarning: Invalid value encountered in median\n",
      "  RuntimeWarning)\n"
     ]
    },
    {
     "data": {
      "text/html": [
       "<div>\n",
       "<table border=\"1\" class=\"dataframe\">\n",
       "  <thead>\n",
       "    <tr style=\"text-align: right;\">\n",
       "      <th></th>\n",
       "      <th>tripduration</th>\n",
       "      <th>start station id</th>\n",
       "      <th>start station latitude</th>\n",
       "      <th>start station longitude</th>\n",
       "      <th>end station id</th>\n",
       "      <th>end station latitude</th>\n",
       "      <th>end station longitude</th>\n",
       "      <th>bikeid</th>\n",
       "      <th>birth year</th>\n",
       "      <th>gender</th>\n",
       "    </tr>\n",
       "  </thead>\n",
       "  <tbody>\n",
       "    <tr>\n",
       "      <th>count</th>\n",
       "      <td>4.527759e+06</td>\n",
       "      <td>4.527759e+06</td>\n",
       "      <td>4.527759e+06</td>\n",
       "      <td>4.527759e+06</td>\n",
       "      <td>4.527759e+06</td>\n",
       "      <td>4.527759e+06</td>\n",
       "      <td>4.527759e+06</td>\n",
       "      <td>4.527759e+06</td>\n",
       "      <td>4.010622e+06</td>\n",
       "      <td>4.527759e+06</td>\n",
       "    </tr>\n",
       "    <tr>\n",
       "      <th>mean</th>\n",
       "      <td>9.599626e+02</td>\n",
       "      <td>1.060971e+03</td>\n",
       "      <td>4.073798e+01</td>\n",
       "      <td>-7.398613e+01</td>\n",
       "      <td>1.044602e+03</td>\n",
       "      <td>4.073720e+01</td>\n",
       "      <td>-7.398556e+01</td>\n",
       "      <td>2.103537e+04</td>\n",
       "      <td>1.977745e+03</td>\n",
       "      <td>1.097628e+00</td>\n",
       "    </tr>\n",
       "    <tr>\n",
       "      <th>std</th>\n",
       "      <td>8.656379e+03</td>\n",
       "      <td>1.180844e+03</td>\n",
       "      <td>2.434534e-02</td>\n",
       "      <td>1.633715e-02</td>\n",
       "      <td>1.170762e+03</td>\n",
       "      <td>1.348342e-01</td>\n",
       "      <td>2.414511e-01</td>\n",
       "      <td>3.561853e+03</td>\n",
       "      <td>1.168295e+01</td>\n",
       "      <td>5.671039e-01</td>\n",
       "    </tr>\n",
       "    <tr>\n",
       "      <th>min</th>\n",
       "      <td>6.100000e+01</td>\n",
       "      <td>7.200000e+01</td>\n",
       "      <td>4.064668e+01</td>\n",
       "      <td>-7.401713e+01</td>\n",
       "      <td>7.200000e+01</td>\n",
       "      <td>0.000000e+00</td>\n",
       "      <td>-7.406419e+01</td>\n",
       "      <td>1.452900e+04</td>\n",
       "      <td>1.885000e+03</td>\n",
       "      <td>0.000000e+00</td>\n",
       "    </tr>\n",
       "    <tr>\n",
       "      <th>25%</th>\n",
       "      <td>3.810000e+02</td>\n",
       "      <td>3.400000e+02</td>\n",
       "      <td>4.072110e+01</td>\n",
       "      <td>-7.399725e+01</td>\n",
       "      <td>3.360000e+02</td>\n",
       "      <td>4.072083e+01</td>\n",
       "      <td>-7.399790e+01</td>\n",
       "      <td>1.793400e+04</td>\n",
       "      <td>NaN</td>\n",
       "      <td>1.000000e+00</td>\n",
       "    </tr>\n",
       "    <tr>\n",
       "      <th>50%</th>\n",
       "      <td>6.310000e+02</td>\n",
       "      <td>4.650000e+02</td>\n",
       "      <td>4.073913e+01</td>\n",
       "      <td>-7.398802e+01</td>\n",
       "      <td>4.620000e+02</td>\n",
       "      <td>4.073902e+01</td>\n",
       "      <td>-7.398848e+01</td>\n",
       "      <td>2.139200e+04</td>\n",
       "      <td>NaN</td>\n",
       "      <td>1.000000e+00</td>\n",
       "    </tr>\n",
       "    <tr>\n",
       "      <th>75%</th>\n",
       "      <td>1.074000e+03</td>\n",
       "      <td>2.003000e+03</td>\n",
       "      <td>4.075510e+01</td>\n",
       "      <td>-7.397711e+01</td>\n",
       "      <td>5.460000e+02</td>\n",
       "      <td>4.075467e+01</td>\n",
       "      <td>-7.397722e+01</td>\n",
       "      <td>2.394700e+04</td>\n",
       "      <td>NaN</td>\n",
       "      <td>1.000000e+00</td>\n",
       "    </tr>\n",
       "    <tr>\n",
       "      <th>max</th>\n",
       "      <td>4.319753e+06</td>\n",
       "      <td>3.440000e+03</td>\n",
       "      <td>4.080421e+01</td>\n",
       "      <td>-7.392989e+01</td>\n",
       "      <td>3.440000e+03</td>\n",
       "      <td>4.080421e+01</td>\n",
       "      <td>0.000000e+00</td>\n",
       "      <td>2.734200e+04</td>\n",
       "      <td>2.000000e+03</td>\n",
       "      <td>2.000000e+00</td>\n",
       "    </tr>\n",
       "  </tbody>\n",
       "</table>\n",
       "</div>"
      ],
      "text/plain": [
       "       tripduration  start station id  start station latitude  \\\n",
       "count  4.527759e+06      4.527759e+06            4.527759e+06   \n",
       "mean   9.599626e+02      1.060971e+03            4.073798e+01   \n",
       "std    8.656379e+03      1.180844e+03            2.434534e-02   \n",
       "min    6.100000e+01      7.200000e+01            4.064668e+01   \n",
       "25%    3.810000e+02      3.400000e+02            4.072110e+01   \n",
       "50%    6.310000e+02      4.650000e+02            4.073913e+01   \n",
       "75%    1.074000e+03      2.003000e+03            4.075510e+01   \n",
       "max    4.319753e+06      3.440000e+03            4.080421e+01   \n",
       "\n",
       "       start station longitude  end station id  end station latitude  \\\n",
       "count             4.527759e+06    4.527759e+06          4.527759e+06   \n",
       "mean             -7.398613e+01    1.044602e+03          4.073720e+01   \n",
       "std               1.633715e-02    1.170762e+03          1.348342e-01   \n",
       "min              -7.401713e+01    7.200000e+01          0.000000e+00   \n",
       "25%              -7.399725e+01    3.360000e+02          4.072083e+01   \n",
       "50%              -7.398802e+01    4.620000e+02          4.073902e+01   \n",
       "75%              -7.397711e+01    5.460000e+02          4.075467e+01   \n",
       "max              -7.392989e+01    3.440000e+03          4.080421e+01   \n",
       "\n",
       "       end station longitude        bikeid    birth year        gender  \n",
       "count           4.527759e+06  4.527759e+06  4.010622e+06  4.527759e+06  \n",
       "mean           -7.398556e+01  2.103537e+04  1.977745e+03  1.097628e+00  \n",
       "std             2.414511e-01  3.561853e+03  1.168295e+01  5.671039e-01  \n",
       "min            -7.406419e+01  1.452900e+04  1.885000e+03  0.000000e+00  \n",
       "25%            -7.399790e+01  1.793400e+04           NaN  1.000000e+00  \n",
       "50%            -7.398848e+01  2.139200e+04           NaN  1.000000e+00  \n",
       "75%            -7.397722e+01  2.394700e+04           NaN  1.000000e+00  \n",
       "max             0.000000e+00  2.734200e+04  2.000000e+03  2.000000e+00  "
      ]
     },
     "execution_count": 23,
     "metadata": {},
     "output_type": "execute_result"
    }
   ],
   "source": [
    "citibikedf.describe()"
   ]
  },
  {
   "cell_type": "code",
   "execution_count": null,
   "metadata": {},
   "outputs": [],
   "source": [
    "#citibikedf.info()"
   ]
  },
  {
   "cell_type": "code",
   "execution_count": 29,
   "metadata": {},
   "outputs": [],
   "source": [
    "#make the starttime a datetime object\n",
    "citibikedf['starttime'] = pd.to_datetime(citibikedf['starttime'])"
   ]
  },
  {
   "cell_type": "code",
   "execution_count": 30,
   "metadata": {},
   "outputs": [],
   "source": [
    "#pulls out the weekday from each of the startdates and makes them a new column\n",
    "#https://docs.python.org/2/library/datetime.html\n",
    "#Monday is 0 and Sunday is 6\n",
    "citibikedf['weekday'] = citibikedf['starttime'].apply(lambda x: x.weekday())"
   ]
  },
  {
   "cell_type": "code",
   "execution_count": 31,
   "metadata": {},
   "outputs": [
    {
     "data": {
      "text/html": [
       "<div>\n",
       "<table border=\"1\" class=\"dataframe\">\n",
       "  <thead>\n",
       "    <tr style=\"text-align: right;\">\n",
       "      <th></th>\n",
       "      <th>tripduration</th>\n",
       "      <th>starttime</th>\n",
       "      <th>stoptime</th>\n",
       "      <th>start station id</th>\n",
       "      <th>start station name</th>\n",
       "      <th>start station latitude</th>\n",
       "      <th>start station longitude</th>\n",
       "      <th>end station id</th>\n",
       "      <th>end station name</th>\n",
       "      <th>end station latitude</th>\n",
       "      <th>end station longitude</th>\n",
       "      <th>bikeid</th>\n",
       "      <th>usertype</th>\n",
       "      <th>birth year</th>\n",
       "      <th>gender</th>\n",
       "      <th>weekday</th>\n",
       "    </tr>\n",
       "  </thead>\n",
       "  <tbody>\n",
       "    <tr>\n",
       "      <th>0</th>\n",
       "      <td>461</td>\n",
       "      <td>2016-02-01 00:00:08</td>\n",
       "      <td>2/1/2016 00:07:49</td>\n",
       "      <td>480</td>\n",
       "      <td>W 53 St &amp; 10 Ave</td>\n",
       "      <td>40.766697</td>\n",
       "      <td>-73.990617</td>\n",
       "      <td>524</td>\n",
       "      <td>W 43 St &amp; 6 Ave</td>\n",
       "      <td>40.755273</td>\n",
       "      <td>-73.983169</td>\n",
       "      <td>23292</td>\n",
       "      <td>Subscriber</td>\n",
       "      <td>1966.0</td>\n",
       "      <td>1</td>\n",
       "      <td>0</td>\n",
       "    </tr>\n",
       "    <tr>\n",
       "      <th>1</th>\n",
       "      <td>297</td>\n",
       "      <td>2016-02-01 00:00:56</td>\n",
       "      <td>2/1/2016 00:05:53</td>\n",
       "      <td>463</td>\n",
       "      <td>9 Ave &amp; W 16 St</td>\n",
       "      <td>40.742065</td>\n",
       "      <td>-74.004432</td>\n",
       "      <td>380</td>\n",
       "      <td>W 4 St &amp; 7 Ave S</td>\n",
       "      <td>40.734011</td>\n",
       "      <td>-74.002939</td>\n",
       "      <td>15329</td>\n",
       "      <td>Subscriber</td>\n",
       "      <td>1977.0</td>\n",
       "      <td>1</td>\n",
       "      <td>0</td>\n",
       "    </tr>\n",
       "    <tr>\n",
       "      <th>2</th>\n",
       "      <td>280</td>\n",
       "      <td>2016-02-01 00:01:00</td>\n",
       "      <td>2/1/2016 00:05:40</td>\n",
       "      <td>3134</td>\n",
       "      <td>3 Ave &amp; E 62 St</td>\n",
       "      <td>40.763126</td>\n",
       "      <td>-73.965269</td>\n",
       "      <td>3141</td>\n",
       "      <td>1 Ave &amp; E 68 St</td>\n",
       "      <td>40.765005</td>\n",
       "      <td>-73.958185</td>\n",
       "      <td>22927</td>\n",
       "      <td>Subscriber</td>\n",
       "      <td>1987.0</td>\n",
       "      <td>1</td>\n",
       "      <td>0</td>\n",
       "    </tr>\n",
       "    <tr>\n",
       "      <th>3</th>\n",
       "      <td>662</td>\n",
       "      <td>2016-02-01 00:01:00</td>\n",
       "      <td>2/1/2016 00:12:02</td>\n",
       "      <td>537</td>\n",
       "      <td>Lexington Ave &amp; E 24 St</td>\n",
       "      <td>40.740259</td>\n",
       "      <td>-73.984092</td>\n",
       "      <td>428</td>\n",
       "      <td>E 3 St &amp; 1 Ave</td>\n",
       "      <td>40.724677</td>\n",
       "      <td>-73.987834</td>\n",
       "      <td>20903</td>\n",
       "      <td>Subscriber</td>\n",
       "      <td>1983.0</td>\n",
       "      <td>2</td>\n",
       "      <td>0</td>\n",
       "    </tr>\n",
       "    <tr>\n",
       "      <th>4</th>\n",
       "      <td>355</td>\n",
       "      <td>2016-02-01 00:01:41</td>\n",
       "      <td>2/1/2016 00:07:36</td>\n",
       "      <td>284</td>\n",
       "      <td>Greenwich Ave &amp; 8 Ave</td>\n",
       "      <td>40.739017</td>\n",
       "      <td>-74.002638</td>\n",
       "      <td>521</td>\n",
       "      <td>8 Ave &amp; W 31 St</td>\n",
       "      <td>40.750967</td>\n",
       "      <td>-73.994442</td>\n",
       "      <td>23228</td>\n",
       "      <td>Subscriber</td>\n",
       "      <td>1978.0</td>\n",
       "      <td>1</td>\n",
       "      <td>0</td>\n",
       "    </tr>\n",
       "  </tbody>\n",
       "</table>\n",
       "</div>"
      ],
      "text/plain": [
       "   tripduration           starttime           stoptime  start station id  \\\n",
       "0           461 2016-02-01 00:00:08  2/1/2016 00:07:49               480   \n",
       "1           297 2016-02-01 00:00:56  2/1/2016 00:05:53               463   \n",
       "2           280 2016-02-01 00:01:00  2/1/2016 00:05:40              3134   \n",
       "3           662 2016-02-01 00:01:00  2/1/2016 00:12:02               537   \n",
       "4           355 2016-02-01 00:01:41  2/1/2016 00:07:36               284   \n",
       "\n",
       "        start station name  start station latitude  start station longitude  \\\n",
       "0         W 53 St & 10 Ave               40.766697               -73.990617   \n",
       "1          9 Ave & W 16 St               40.742065               -74.004432   \n",
       "2          3 Ave & E 62 St               40.763126               -73.965269   \n",
       "3  Lexington Ave & E 24 St               40.740259               -73.984092   \n",
       "4    Greenwich Ave & 8 Ave               40.739017               -74.002638   \n",
       "\n",
       "   end station id  end station name  end station latitude  \\\n",
       "0             524   W 43 St & 6 Ave             40.755273   \n",
       "1             380  W 4 St & 7 Ave S             40.734011   \n",
       "2            3141   1 Ave & E 68 St             40.765005   \n",
       "3             428    E 3 St & 1 Ave             40.724677   \n",
       "4             521   8 Ave & W 31 St             40.750967   \n",
       "\n",
       "   end station longitude  bikeid    usertype  birth year  gender  weekday  \n",
       "0             -73.983169   23292  Subscriber      1966.0       1        0  \n",
       "1             -74.002939   15329  Subscriber      1977.0       1        0  \n",
       "2             -73.958185   22927  Subscriber      1987.0       1        0  \n",
       "3             -73.987834   20903  Subscriber      1983.0       2        0  \n",
       "4             -73.994442   23228  Subscriber      1978.0       1        0  "
      ]
     },
     "execution_count": 31,
     "metadata": {},
     "output_type": "execute_result"
    }
   ],
   "source": [
    "citibikedf.head()"
   ]
  },
  {
   "cell_type": "code",
   "execution_count": 32,
   "metadata": {},
   "outputs": [],
   "source": [
    "#create new column with date only\n",
    "citibikedf['date_only'] = citibikedf['starttime'].apply(lambda x: x.date())"
   ]
  },
  {
   "cell_type": "code",
   "execution_count": 33,
   "metadata": {},
   "outputs": [
    {
     "data": {
      "text/plain": [
       "0    745881\n",
       "1    743783\n",
       "2    741919\n",
       "3    674636\n",
       "4    605214\n",
       "5    526146\n",
       "6    490180\n",
       "Name: weekday, dtype: int64"
      ]
     },
     "execution_count": 33,
     "metadata": {},
     "output_type": "execute_result"
    }
   ],
   "source": [
    "#check to make sure all weekdays present\n",
    "citibikedf['weekday'].value_counts()"
   ]
  },
  {
   "cell_type": "code",
   "execution_count": 34,
   "metadata": {},
   "outputs": [
    {
     "data": {
      "text/plain": [
       "array([datetime.date(2016, 2, 1), datetime.date(2016, 2, 2),\n",
       "       datetime.date(2016, 2, 3), datetime.date(2016, 2, 4),\n",
       "       datetime.date(2016, 2, 5), datetime.date(2016, 2, 6),\n",
       "       datetime.date(2016, 2, 7), datetime.date(2016, 2, 8),\n",
       "       datetime.date(2016, 2, 9), datetime.date(2016, 2, 10),\n",
       "       datetime.date(2016, 2, 11), datetime.date(2016, 2, 12),\n",
       "       datetime.date(2016, 2, 13), datetime.date(2016, 2, 14),\n",
       "       datetime.date(2016, 2, 15), datetime.date(2016, 2, 16),\n",
       "       datetime.date(2016, 2, 17), datetime.date(2016, 2, 18),\n",
       "       datetime.date(2016, 2, 19), datetime.date(2016, 2, 20),\n",
       "       datetime.date(2016, 2, 21), datetime.date(2016, 2, 22),\n",
       "       datetime.date(2016, 2, 23), datetime.date(2016, 2, 24),\n",
       "       datetime.date(2016, 2, 25), datetime.date(2016, 2, 26),\n",
       "       datetime.date(2016, 2, 27), datetime.date(2016, 2, 28),\n",
       "       datetime.date(2016, 2, 29), datetime.date(2016, 11, 1),\n",
       "       datetime.date(2016, 11, 2), datetime.date(2016, 11, 3),\n",
       "       datetime.date(2016, 11, 4), datetime.date(2016, 11, 5),\n",
       "       datetime.date(2016, 11, 6), datetime.date(2016, 11, 7),\n",
       "       datetime.date(2016, 11, 8), datetime.date(2016, 11, 9),\n",
       "       datetime.date(2016, 11, 10), datetime.date(2016, 11, 11),\n",
       "       datetime.date(2016, 11, 12), datetime.date(2016, 11, 13),\n",
       "       datetime.date(2016, 11, 14), datetime.date(2016, 11, 15),\n",
       "       datetime.date(2016, 11, 16), datetime.date(2016, 11, 17),\n",
       "       datetime.date(2016, 11, 18), datetime.date(2016, 11, 19),\n",
       "       datetime.date(2016, 11, 20), datetime.date(2016, 11, 21),\n",
       "       datetime.date(2016, 11, 22), datetime.date(2016, 11, 23),\n",
       "       datetime.date(2016, 11, 24), datetime.date(2016, 11, 25),\n",
       "       datetime.date(2016, 11, 26), datetime.date(2016, 11, 27),\n",
       "       datetime.date(2016, 11, 28), datetime.date(2016, 11, 29),\n",
       "       datetime.date(2016, 11, 30), datetime.date(2016, 8, 1),\n",
       "       datetime.date(2016, 8, 2), datetime.date(2016, 8, 3),\n",
       "       datetime.date(2016, 8, 4), datetime.date(2016, 8, 5),\n",
       "       datetime.date(2016, 8, 6), datetime.date(2016, 8, 7),\n",
       "       datetime.date(2016, 8, 8), datetime.date(2016, 8, 9),\n",
       "       datetime.date(2016, 8, 10), datetime.date(2016, 8, 11),\n",
       "       datetime.date(2016, 8, 12), datetime.date(2016, 8, 13),\n",
       "       datetime.date(2016, 8, 14), datetime.date(2016, 8, 15),\n",
       "       datetime.date(2016, 8, 16), datetime.date(2016, 8, 17),\n",
       "       datetime.date(2016, 8, 18), datetime.date(2016, 8, 19),\n",
       "       datetime.date(2016, 8, 20), datetime.date(2016, 8, 21),\n",
       "       datetime.date(2016, 8, 22), datetime.date(2016, 8, 23),\n",
       "       datetime.date(2016, 8, 24), datetime.date(2016, 8, 25),\n",
       "       datetime.date(2016, 8, 26), datetime.date(2016, 8, 27),\n",
       "       datetime.date(2016, 8, 28), datetime.date(2016, 8, 29),\n",
       "       datetime.date(2016, 8, 30), datetime.date(2016, 8, 31),\n",
       "       datetime.date(2016, 5, 1), datetime.date(2016, 5, 2),\n",
       "       datetime.date(2016, 5, 3), datetime.date(2016, 5, 4),\n",
       "       datetime.date(2016, 5, 5), datetime.date(2016, 5, 6),\n",
       "       datetime.date(2016, 5, 7), datetime.date(2016, 5, 8),\n",
       "       datetime.date(2016, 5, 9), datetime.date(2016, 5, 10),\n",
       "       datetime.date(2016, 5, 11), datetime.date(2016, 5, 12),\n",
       "       datetime.date(2016, 5, 13), datetime.date(2016, 5, 14),\n",
       "       datetime.date(2016, 5, 15), datetime.date(2016, 5, 16),\n",
       "       datetime.date(2016, 5, 17), datetime.date(2016, 5, 18),\n",
       "       datetime.date(2016, 5, 19), datetime.date(2016, 5, 20),\n",
       "       datetime.date(2016, 5, 21), datetime.date(2016, 5, 22),\n",
       "       datetime.date(2016, 5, 23), datetime.date(2016, 5, 24),\n",
       "       datetime.date(2016, 5, 25), datetime.date(2016, 5, 26),\n",
       "       datetime.date(2016, 5, 27), datetime.date(2016, 5, 28),\n",
       "       datetime.date(2016, 5, 29), datetime.date(2016, 5, 30),\n",
       "       datetime.date(2016, 5, 31)], dtype=object)"
      ]
     },
     "execution_count": 34,
     "metadata": {},
     "output_type": "execute_result"
    }
   ],
   "source": [
    "#confirm all dates present\n",
    "citibikedf['date_only'].unique()"
   ]
  },
  {
   "cell_type": "code",
   "execution_count": 35,
   "metadata": {},
   "outputs": [
    {
     "data": {
      "text/html": [
       "<div>\n",
       "<table border=\"1\" class=\"dataframe\">\n",
       "  <thead>\n",
       "    <tr style=\"text-align: right;\">\n",
       "      <th></th>\n",
       "      <th></th>\n",
       "      <th>0</th>\n",
       "    </tr>\n",
       "    <tr>\n",
       "      <th>weekday</th>\n",
       "      <th>date_only</th>\n",
       "      <th></th>\n",
       "    </tr>\n",
       "  </thead>\n",
       "  <tbody>\n",
       "    <tr>\n",
       "      <th rowspan=\"19\" valign=\"top\">0</th>\n",
       "      <th>2016-02-01</th>\n",
       "      <td>24334</td>\n",
       "    </tr>\n",
       "    <tr>\n",
       "      <th>2016-02-08</th>\n",
       "      <td>19026</td>\n",
       "    </tr>\n",
       "    <tr>\n",
       "      <th>2016-02-15</th>\n",
       "      <td>5884</td>\n",
       "    </tr>\n",
       "    <tr>\n",
       "      <th>2016-02-22</th>\n",
       "      <td>28233</td>\n",
       "    </tr>\n",
       "    <tr>\n",
       "      <th>2016-02-29</th>\n",
       "      <td>27954</td>\n",
       "    </tr>\n",
       "    <tr>\n",
       "      <th>2016-05-02</th>\n",
       "      <td>38537</td>\n",
       "    </tr>\n",
       "    <tr>\n",
       "      <th>2016-05-09</th>\n",
       "      <td>45724</td>\n",
       "    </tr>\n",
       "    <tr>\n",
       "      <th>2016-05-16</th>\n",
       "      <td>42787</td>\n",
       "    </tr>\n",
       "    <tr>\n",
       "      <th>2016-05-23</th>\n",
       "      <td>48578</td>\n",
       "    </tr>\n",
       "    <tr>\n",
       "      <th>2016-05-30</th>\n",
       "      <td>32619</td>\n",
       "    </tr>\n",
       "    <tr>\n",
       "      <th>2016-08-01</th>\n",
       "      <td>49401</td>\n",
       "    </tr>\n",
       "    <tr>\n",
       "      <th>2016-08-08</th>\n",
       "      <td>52262</td>\n",
       "    </tr>\n",
       "    <tr>\n",
       "      <th>2016-08-15</th>\n",
       "      <td>49063</td>\n",
       "    </tr>\n",
       "    <tr>\n",
       "      <th>2016-08-22</th>\n",
       "      <td>54404</td>\n",
       "    </tr>\n",
       "    <tr>\n",
       "      <th>2016-08-29</th>\n",
       "      <td>53288</td>\n",
       "    </tr>\n",
       "    <tr>\n",
       "      <th>2016-11-07</th>\n",
       "      <td>49890</td>\n",
       "    </tr>\n",
       "    <tr>\n",
       "      <th>2016-11-14</th>\n",
       "      <td>48834</td>\n",
       "    </tr>\n",
       "    <tr>\n",
       "      <th>2016-11-21</th>\n",
       "      <td>32972</td>\n",
       "    </tr>\n",
       "    <tr>\n",
       "      <th>2016-11-28</th>\n",
       "      <td>42091</td>\n",
       "    </tr>\n",
       "    <tr>\n",
       "      <th rowspan=\"11\" valign=\"top\">1</th>\n",
       "      <th>2016-02-02</th>\n",
       "      <td>28528</td>\n",
       "    </tr>\n",
       "    <tr>\n",
       "      <th>2016-02-09</th>\n",
       "      <td>22741</td>\n",
       "    </tr>\n",
       "    <tr>\n",
       "      <th>2016-02-16</th>\n",
       "      <td>14542</td>\n",
       "    </tr>\n",
       "    <tr>\n",
       "      <th>2016-02-23</th>\n",
       "      <td>16133</td>\n",
       "    </tr>\n",
       "    <tr>\n",
       "      <th>2016-05-03</th>\n",
       "      <td>22858</td>\n",
       "    </tr>\n",
       "    <tr>\n",
       "      <th>2016-05-10</th>\n",
       "      <td>44849</td>\n",
       "    </tr>\n",
       "    <tr>\n",
       "      <th>2016-05-17</th>\n",
       "      <td>43396</td>\n",
       "    </tr>\n",
       "    <tr>\n",
       "      <th>2016-05-24</th>\n",
       "      <td>34796</td>\n",
       "    </tr>\n",
       "    <tr>\n",
       "      <th>2016-05-31</th>\n",
       "      <td>49756</td>\n",
       "    </tr>\n",
       "    <tr>\n",
       "      <th>2016-08-02</th>\n",
       "      <td>56764</td>\n",
       "    </tr>\n",
       "    <tr>\n",
       "      <th>2016-08-09</th>\n",
       "      <td>56112</td>\n",
       "    </tr>\n",
       "    <tr>\n",
       "      <th>...</th>\n",
       "      <th>...</th>\n",
       "      <td>...</td>\n",
       "    </tr>\n",
       "    <tr>\n",
       "      <th rowspan=\"13\" valign=\"top\">5</th>\n",
       "      <th>2016-02-27</th>\n",
       "      <td>17226</td>\n",
       "    </tr>\n",
       "    <tr>\n",
       "      <th>2016-05-07</th>\n",
       "      <td>31078</td>\n",
       "    </tr>\n",
       "    <tr>\n",
       "      <th>2016-05-14</th>\n",
       "      <td>42063</td>\n",
       "    </tr>\n",
       "    <tr>\n",
       "      <th>2016-05-21</th>\n",
       "      <td>30519</td>\n",
       "    </tr>\n",
       "    <tr>\n",
       "      <th>2016-05-28</th>\n",
       "      <td>34222</td>\n",
       "    </tr>\n",
       "    <tr>\n",
       "      <th>2016-08-06</th>\n",
       "      <td>44213</td>\n",
       "    </tr>\n",
       "    <tr>\n",
       "      <th>2016-08-13</th>\n",
       "      <td>38912</td>\n",
       "    </tr>\n",
       "    <tr>\n",
       "      <th>2016-08-20</th>\n",
       "      <td>45817</td>\n",
       "    </tr>\n",
       "    <tr>\n",
       "      <th>2016-08-27</th>\n",
       "      <td>45674</td>\n",
       "    </tr>\n",
       "    <tr>\n",
       "      <th>2016-11-05</th>\n",
       "      <td>48689</td>\n",
       "    </tr>\n",
       "    <tr>\n",
       "      <th>2016-11-12</th>\n",
       "      <td>34667</td>\n",
       "    </tr>\n",
       "    <tr>\n",
       "      <th>2016-11-19</th>\n",
       "      <td>41213</td>\n",
       "    </tr>\n",
       "    <tr>\n",
       "      <th>2016-11-26</th>\n",
       "      <td>23811</td>\n",
       "    </tr>\n",
       "    <tr>\n",
       "      <th rowspan=\"17\" valign=\"top\">6</th>\n",
       "      <th>2016-02-07</th>\n",
       "      <td>17605</td>\n",
       "    </tr>\n",
       "    <tr>\n",
       "      <th>2016-02-14</th>\n",
       "      <td>4653</td>\n",
       "    </tr>\n",
       "    <tr>\n",
       "      <th>2016-02-21</th>\n",
       "      <td>20052</td>\n",
       "    </tr>\n",
       "    <tr>\n",
       "      <th>2016-02-28</th>\n",
       "      <td>25437</td>\n",
       "    </tr>\n",
       "    <tr>\n",
       "      <th>2016-05-01</th>\n",
       "      <td>10697</td>\n",
       "    </tr>\n",
       "    <tr>\n",
       "      <th>2016-05-08</th>\n",
       "      <td>31197</td>\n",
       "    </tr>\n",
       "    <tr>\n",
       "      <th>2016-05-15</th>\n",
       "      <td>28661</td>\n",
       "    </tr>\n",
       "    <tr>\n",
       "      <th>2016-05-22</th>\n",
       "      <td>37802</td>\n",
       "    </tr>\n",
       "    <tr>\n",
       "      <th>2016-05-29</th>\n",
       "      <td>36877</td>\n",
       "    </tr>\n",
       "    <tr>\n",
       "      <th>2016-08-07</th>\n",
       "      <td>43631</td>\n",
       "    </tr>\n",
       "    <tr>\n",
       "      <th>2016-08-14</th>\n",
       "      <td>32961</td>\n",
       "    </tr>\n",
       "    <tr>\n",
       "      <th>2016-08-21</th>\n",
       "      <td>35051</td>\n",
       "    </tr>\n",
       "    <tr>\n",
       "      <th>2016-08-28</th>\n",
       "      <td>44639</td>\n",
       "    </tr>\n",
       "    <tr>\n",
       "      <th>2016-11-06</th>\n",
       "      <td>39413</td>\n",
       "    </tr>\n",
       "    <tr>\n",
       "      <th>2016-11-13</th>\n",
       "      <td>36810</td>\n",
       "    </tr>\n",
       "    <tr>\n",
       "      <th>2016-11-20</th>\n",
       "      <td>20617</td>\n",
       "    </tr>\n",
       "    <tr>\n",
       "      <th>2016-11-27</th>\n",
       "      <td>24077</td>\n",
       "    </tr>\n",
       "  </tbody>\n",
       "</table>\n",
       "<p>121 rows × 1 columns</p>\n",
       "</div>"
      ],
      "text/plain": [
       "                        0\n",
       "weekday date_only        \n",
       "0       2016-02-01  24334\n",
       "        2016-02-08  19026\n",
       "        2016-02-15   5884\n",
       "        2016-02-22  28233\n",
       "        2016-02-29  27954\n",
       "        2016-05-02  38537\n",
       "        2016-05-09  45724\n",
       "        2016-05-16  42787\n",
       "        2016-05-23  48578\n",
       "        2016-05-30  32619\n",
       "        2016-08-01  49401\n",
       "        2016-08-08  52262\n",
       "        2016-08-15  49063\n",
       "        2016-08-22  54404\n",
       "        2016-08-29  53288\n",
       "        2016-11-07  49890\n",
       "        2016-11-14  48834\n",
       "        2016-11-21  32972\n",
       "        2016-11-28  42091\n",
       "1       2016-02-02  28528\n",
       "        2016-02-09  22741\n",
       "        2016-02-16  14542\n",
       "        2016-02-23  16133\n",
       "        2016-05-03  22858\n",
       "        2016-05-10  44849\n",
       "        2016-05-17  43396\n",
       "        2016-05-24  34796\n",
       "        2016-05-31  49756\n",
       "        2016-08-02  56764\n",
       "        2016-08-09  56112\n",
       "...                   ...\n",
       "5       2016-02-27  17226\n",
       "        2016-05-07  31078\n",
       "        2016-05-14  42063\n",
       "        2016-05-21  30519\n",
       "        2016-05-28  34222\n",
       "        2016-08-06  44213\n",
       "        2016-08-13  38912\n",
       "        2016-08-20  45817\n",
       "        2016-08-27  45674\n",
       "        2016-11-05  48689\n",
       "        2016-11-12  34667\n",
       "        2016-11-19  41213\n",
       "        2016-11-26  23811\n",
       "6       2016-02-07  17605\n",
       "        2016-02-14   4653\n",
       "        2016-02-21  20052\n",
       "        2016-02-28  25437\n",
       "        2016-05-01  10697\n",
       "        2016-05-08  31197\n",
       "        2016-05-15  28661\n",
       "        2016-05-22  37802\n",
       "        2016-05-29  36877\n",
       "        2016-08-07  43631\n",
       "        2016-08-14  32961\n",
       "        2016-08-21  35051\n",
       "        2016-08-28  44639\n",
       "        2016-11-06  39413\n",
       "        2016-11-13  36810\n",
       "        2016-11-20  20617\n",
       "        2016-11-27  24077\n",
       "\n",
       "[121 rows x 1 columns]"
      ]
     },
     "execution_count": 35,
     "metadata": {},
     "output_type": "execute_result"
    }
   ],
   "source": [
    "#checkout the size of each date and within each weekday\n",
    "pd.DataFrame(citibikedf[['weekday', 'date_only']].groupby(['weekday', 'date_only']).size())"
   ]
  },
  {
   "cell_type": "code",
   "execution_count": 36,
   "metadata": {},
   "outputs": [],
   "source": [
    "#make into a new dataframe to graph all days"
   ]
  },
  {
   "cell_type": "code",
   "execution_count": 37,
   "metadata": {},
   "outputs": [],
   "source": [
    "graphunredacted = pd.DataFrame(citibikedf.groupby(['weekday', 'date_only']).size()).reset_index()\n",
    "graphunredacted.columns = ['weekday', 'date_only', 'count']"
   ]
  },
  {
   "cell_type": "code",
   "execution_count": 38,
   "metadata": {},
   "outputs": [
    {
     "data": {
      "text/plain": [
       "Text(0,0.5,'Trips')"
      ]
     },
     "execution_count": 38,
     "metadata": {},
     "output_type": "execute_result"
    },
    {
     "data": {
      "image/png": "[encoded data removed]",
      "text/plain": [
       "<matplotlib.figure.Figure at 0x7f0b700d2908>"
      ]
     },
     "metadata": {},
     "output_type": "display_data"
    }
   ],
   "source": [
    "#graph count of all days\n",
    "graphunredacted.plot.line(x= 'date_only', y ='count' ,rot = 45, figsize = (10,10))\n",
    "plt.title('Citibike Trips Over Time')\n",
    "plt.xlabel('Date')\n",
    "plt.ylabel('Trips')"
   ]
  },
  {
   "cell_type": "markdown",
   "metadata": {},
   "source": [
    "figure 1: The graph of total trips for each day in February, May, August, November 2016"
   ]
  },
  {
   "cell_type": "code",
   "execution_count": 39,
   "metadata": {},
   "outputs": [
    {
     "data": {
      "text/plain": [
       "['201602', '201605', '201608', '201611']"
      ]
     },
     "execution_count": 39,
     "metadata": {},
     "output_type": "execute_result"
    }
   ],
   "source": [
    "months"
   ]
  },
  {
   "cell_type": "code",
   "execution_count": 40,
   "metadata": {},
   "outputs": [
    {
     "data": {
      "text/html": [
       "<div>\n",
       "<table border=\"1\" class=\"dataframe\">\n",
       "  <thead>\n",
       "    <tr style=\"text-align: right;\">\n",
       "      <th></th>\n",
       "      <th>weekday</th>\n",
       "      <th>date_only</th>\n",
       "      <th>count</th>\n",
       "    </tr>\n",
       "  </thead>\n",
       "  <tbody>\n",
       "    <tr>\n",
       "      <th>0</th>\n",
       "      <td>0</td>\n",
       "      <td>2016-02-01</td>\n",
       "      <td>24334</td>\n",
       "    </tr>\n",
       "    <tr>\n",
       "      <th>1</th>\n",
       "      <td>0</td>\n",
       "      <td>2016-02-08</td>\n",
       "      <td>19026</td>\n",
       "    </tr>\n",
       "    <tr>\n",
       "      <th>2</th>\n",
       "      <td>0</td>\n",
       "      <td>2016-02-15</td>\n",
       "      <td>5884</td>\n",
       "    </tr>\n",
       "    <tr>\n",
       "      <th>3</th>\n",
       "      <td>0</td>\n",
       "      <td>2016-02-22</td>\n",
       "      <td>28233</td>\n",
       "    </tr>\n",
       "    <tr>\n",
       "      <th>4</th>\n",
       "      <td>0</td>\n",
       "      <td>2016-02-29</td>\n",
       "      <td>27954</td>\n",
       "    </tr>\n",
       "  </tbody>\n",
       "</table>\n",
       "</div>"
      ],
      "text/plain": [
       "   weekday   date_only  count\n",
       "0        0  2016-02-01  24334\n",
       "1        0  2016-02-08  19026\n",
       "2        0  2016-02-15   5884\n",
       "3        0  2016-02-22  28233\n",
       "4        0  2016-02-29  27954"
      ]
     },
     "execution_count": 40,
     "metadata": {},
     "output_type": "execute_result"
    }
   ],
   "source": [
    "graphunredacted.head()"
   ]
  },
  {
   "cell_type": "code",
   "execution_count": 41,
   "metadata": {},
   "outputs": [],
   "source": [
    "# Scatterplot showing average trip duration for each day of the week."
   ]
  },
  {
   "cell_type": "code",
   "execution_count": 42,
   "metadata": {},
   "outputs": [
    {
     "data": {
      "text/html": [
       "<div>\n",
       "<table border=\"1\" class=\"dataframe\">\n",
       "  <thead>\n",
       "    <tr style=\"text-align: right;\">\n",
       "      <th></th>\n",
       "      <th>weekday</th>\n",
       "      <th>count</th>\n",
       "    </tr>\n",
       "    <tr>\n",
       "      <th>date_only</th>\n",
       "      <th></th>\n",
       "      <th></th>\n",
       "    </tr>\n",
       "  </thead>\n",
       "  <tbody>\n",
       "    <tr>\n",
       "      <th>2016-02-01</th>\n",
       "      <td>0</td>\n",
       "      <td>24334</td>\n",
       "    </tr>\n",
       "    <tr>\n",
       "      <th>2016-02-08</th>\n",
       "      <td>0</td>\n",
       "      <td>19026</td>\n",
       "    </tr>\n",
       "    <tr>\n",
       "      <th>2016-02-15</th>\n",
       "      <td>0</td>\n",
       "      <td>5884</td>\n",
       "    </tr>\n",
       "    <tr>\n",
       "      <th>2016-02-22</th>\n",
       "      <td>0</td>\n",
       "      <td>28233</td>\n",
       "    </tr>\n",
       "    <tr>\n",
       "      <th>2016-02-29</th>\n",
       "      <td>0</td>\n",
       "      <td>27954</td>\n",
       "    </tr>\n",
       "  </tbody>\n",
       "</table>\n",
       "</div>"
      ],
      "text/plain": [
       "            weekday  count\n",
       "date_only                 \n",
       "2016-02-01        0  24334\n",
       "2016-02-08        0  19026\n",
       "2016-02-15        0   5884\n",
       "2016-02-22        0  28233\n",
       "2016-02-29        0  27954"
      ]
     },
     "execution_count": 42,
     "metadata": {},
     "output_type": "execute_result"
    }
   ],
   "source": [
    "graphdates = graphunredacted.set_index('date_only')\n",
    "graphdates.head()"
   ]
  },
  {
   "cell_type": "code",
   "execution_count": 43,
   "metadata": {},
   "outputs": [
    {
     "data": {
      "text/plain": [
       "array([0, 1, 2, 3, 4, 5, 6])"
      ]
     },
     "execution_count": 43,
     "metadata": {},
     "output_type": "execute_result"
    }
   ],
   "source": [
    "graphdates['weekday'].unique()"
   ]
  },
  {
   "cell_type": "code",
   "execution_count": 44,
   "metadata": {},
   "outputs": [
    {
     "data": {
      "text/plain": [
       "<matplotlib.legend.Legend at 0x7f0b664d1dd8>"
      ]
     },
     "execution_count": 44,
     "metadata": {},
     "output_type": "execute_result"
    },
    {
     "data": {
      "image/png": "[encoded data removed]",
      "text/plain": [
       "<matplotlib.figure.Figure at 0x7f0b66751ac8>"
      ]
     },
     "metadata": {},
     "output_type": "display_data"
    }
   ],
   "source": [
    "plt.figure(figsize=(10,10))\n",
    "\n",
    "#https://stackoverflow.com/questions/12236566/setting-different-color-for-each-series-in-scatter-plot-on-matplotlib/39168267\n",
    "colors = cm.rainbow(np.linspace(0, 1, len(graphdates['weekday'].unique())))\n",
    "for x in graphdates['weekday'].unique():\n",
    "\n",
    "    graphweekday = graphdates[graphdates['weekday'] == x]\n",
    "    plt.scatter(graphweekday.index, y=graphweekday['count'], color=colors[x])\n",
    "\n",
    "plt.legend(graphdates['weekday'].unique())\n",
    "plt.ylim(0)\n",
    "plt.ylabel('Count of Rides')\n",
    "plt.title('Scatter Plot Weekday by Count')\n",
    "plt.legend(['Monday', 'Tuesday', 'Wednesday', 'Thursday', 'Friday', 'Saturday', 'Sunday'])"
   ]
  },
  {
   "cell_type": "markdown",
   "metadata": {},
   "source": [
    "Figure 2: scatterplot showing each day's total trip count for all 4 months, color coded according to which day of the week it is where 0 is monday, 1 is tuesday, 2 is wednesday, 3 is thursday, 4 is friday, 5 is saturday and 6 is sunday. It can be observed that generally, Saturdays (orange) and Sundays (red) tend to have lower total trip counts than the rest of the weekday.\n"
   ]
  },
  {
   "cell_type": "code",
   "execution_count": 45,
   "metadata": {},
   "outputs": [
    {
     "data": {
      "text/html": [
       "<div>\n",
       "<table border=\"1\" class=\"dataframe\">\n",
       "  <thead>\n",
       "    <tr style=\"text-align: right;\">\n",
       "      <th></th>\n",
       "      <th>weekday</th>\n",
       "      <th>date_only</th>\n",
       "      <th>count</th>\n",
       "    </tr>\n",
       "  </thead>\n",
       "  <tbody>\n",
       "    <tr>\n",
       "      <th>0</th>\n",
       "      <td>0</td>\n",
       "      <td>2016-02-01</td>\n",
       "      <td>24334</td>\n",
       "    </tr>\n",
       "    <tr>\n",
       "      <th>1</th>\n",
       "      <td>0</td>\n",
       "      <td>2016-02-08</td>\n",
       "      <td>19026</td>\n",
       "    </tr>\n",
       "    <tr>\n",
       "      <th>2</th>\n",
       "      <td>0</td>\n",
       "      <td>2016-02-15</td>\n",
       "      <td>5884</td>\n",
       "    </tr>\n",
       "    <tr>\n",
       "      <th>3</th>\n",
       "      <td>0</td>\n",
       "      <td>2016-02-22</td>\n",
       "      <td>28233</td>\n",
       "    </tr>\n",
       "    <tr>\n",
       "      <th>4</th>\n",
       "      <td>0</td>\n",
       "      <td>2016-02-29</td>\n",
       "      <td>27954</td>\n",
       "    </tr>\n",
       "  </tbody>\n",
       "</table>\n",
       "</div>"
      ],
      "text/plain": [
       "   weekday   date_only  count\n",
       "0        0  2016-02-01  24334\n",
       "1        0  2016-02-08  19026\n",
       "2        0  2016-02-15   5884\n",
       "3        0  2016-02-22  28233\n",
       "4        0  2016-02-29  27954"
      ]
     },
     "execution_count": 45,
     "metadata": {},
     "output_type": "execute_result"
    }
   ],
   "source": [
    "graphunredacted.head()"
   ]
  },
  {
   "cell_type": "code",
   "execution_count": 46,
   "metadata": {},
   "outputs": [],
   "source": [
    "# create graph to map the means and standard dev\n"
   ]
  },
  {
   "cell_type": "code",
   "execution_count": 47,
   "metadata": {},
   "outputs": [],
   "source": [
    "errorgraph = pd.concat([pd.DataFrame(graphunredacted.groupby(['weekday'])['count'].mean()), \\\n",
    "          pd.DataFrame(graphunredacted.groupby(['weekday'])['count'].std())], axis=1).reset_index()\n",
    "errorgraph.columns = ['weekday', 'mean', 'std']"
   ]
  },
  {
   "cell_type": "code",
   "execution_count": 48,
   "metadata": {},
   "outputs": [
    {
     "data": {
      "text/html": [
       "<div>\n",
       "<table border=\"1\" class=\"dataframe\">\n",
       "  <thead>\n",
       "    <tr style=\"text-align: right;\">\n",
       "      <th></th>\n",
       "      <th>weekday</th>\n",
       "      <th>mean</th>\n",
       "      <th>std</th>\n",
       "    </tr>\n",
       "  </thead>\n",
       "  <tbody>\n",
       "    <tr>\n",
       "      <th>0</th>\n",
       "      <td>0</td>\n",
       "      <td>39256.894737</td>\n",
       "      <td>13390.667646</td>\n",
       "    </tr>\n",
       "    <tr>\n",
       "      <th>1</th>\n",
       "      <td>1</td>\n",
       "      <td>39146.473684</td>\n",
       "      <td>16440.142061</td>\n",
       "    </tr>\n",
       "    <tr>\n",
       "      <th>2</th>\n",
       "      <td>2</td>\n",
       "      <td>41217.722222</td>\n",
       "      <td>16431.444793</td>\n",
       "    </tr>\n",
       "    <tr>\n",
       "      <th>3</th>\n",
       "      <td>3</td>\n",
       "      <td>42164.750000</td>\n",
       "      <td>15506.624584</td>\n",
       "    </tr>\n",
       "    <tr>\n",
       "      <th>4</th>\n",
       "      <td>4</td>\n",
       "      <td>37825.875000</td>\n",
       "      <td>16097.188543</td>\n",
       "    </tr>\n",
       "  </tbody>\n",
       "</table>\n",
       "</div>"
      ],
      "text/plain": [
       "   weekday          mean           std\n",
       "0        0  39256.894737  13390.667646\n",
       "1        1  39146.473684  16440.142061\n",
       "2        2  41217.722222  16431.444793\n",
       "3        3  42164.750000  15506.624584\n",
       "4        4  37825.875000  16097.188543"
      ]
     },
     "execution_count": 48,
     "metadata": {},
     "output_type": "execute_result"
    }
   ],
   "source": [
    "errorgraph.head()"
   ]
  },
  {
   "cell_type": "code",
   "execution_count": 49,
   "metadata": {},
   "outputs": [],
   "source": [
    "#https://matplotlib.org/api/_as_gen/matplotlib.pyplot.errorbar.html"
   ]
  },
  {
   "cell_type": "code",
   "execution_count": 50,
   "metadata": {},
   "outputs": [],
   "source": [
    "errorgraph['weekdaynm'] = ['Monday', 'Tuesday', 'Wednesday', 'Thursday', 'Friday', 'Saturday', 'Sunday']"
   ]
  },
  {
   "cell_type": "code",
   "execution_count": 51,
   "metadata": {},
   "outputs": [
    {
     "data": {
      "text/plain": [
       "Text(0.5,1,'AVG Count of Weekday Rides and the Corresponding Error Bars')"
      ]
     },
     "execution_count": 51,
     "metadata": {},
     "output_type": "execute_result"
    },
    {
     "data": {
      "image/png": "[encoded data removed]",
      "text/plain": [
       "<matplotlib.figure.Figure at 0x7f0b664d1358>"
      ]
     },
     "metadata": {},
     "output_type": "display_data"
    }
   ],
   "source": [
    "plt.figure(figsize=(10,10))\n",
    "plt.errorbar(errorgraph['weekday'], errorgraph['mean'], errorgraph['std'], marker='s', mfc='red',\n",
    "         mec='green', ms=20, mew=4)\n",
    "plt.ylim(0)\n",
    "plt.xlabel('Weekday')\n",
    "plt.ylabel('AVG Rides')\n",
    "plt.title('AVG Count of Weekday Rides and the Corresponding Error Bars')\n"
   ]
  },
  {
   "cell_type": "code",
   "execution_count": null,
   "metadata": {},
   "outputs": [],
   "source": [
    "Figure 2: "
   ]
  },
  {
   "cell_type": "code",
   "execution_count": 52,
   "metadata": {},
   "outputs": [
    {
     "data": {
      "text/plain": [
       "0    13390.667646\n",
       "1    16440.142061\n",
       "2    16431.444793\n",
       "3    15506.624584\n",
       "4    16097.188543\n",
       "5    12260.505373\n",
       "6    11372.296602\n",
       "Name: std, dtype: float64"
      ]
     },
     "execution_count": 52,
     "metadata": {},
     "output_type": "execute_result"
    }
   ],
   "source": [
    "errorgraph['std']"
   ]
  },
  {
   "cell_type": "code",
   "execution_count": null,
   "metadata": {},
   "outputs": [],
   "source": [
    "pd.DataFrame(graphunredacted.groupby(['weekday'])['count'].var())"
   ]
  },
  {
   "cell_type": "code",
   "execution_count": null,
   "metadata": {},
   "outputs": [],
   "source": []
  },
  {
   "cell_type": "code",
   "execution_count": null,
   "metadata": {},
   "outputs": [],
   "source": [
    "graphunredacted[graphunredacted['weekday'] == 5]['count']"
   ]
  },
  {
   "cell_type": "code",
   "execution_count": null,
   "metadata": {},
   "outputs": [],
   "source": [
    "graphunredacted[graphunredacted['weekday'] == 6]['count']"
   ]
  },
  {
   "cell_type": "code",
   "execution_count": null,
   "metadata": {},
   "outputs": [],
   "source": [
    "graphunredacted['count'].mean()"
   ]
  },
  {
   "cell_type": "code",
   "execution_count": null,
   "metadata": {},
   "outputs": [],
   "source": [
    "sat = graphunredacted[graphunredacted['weekday'] == 5]['count']\n",
    "sun = graphunredacted[graphunredacted['weekday'] == 6]['count']\n"
   ]
  },
  {
   "cell_type": "code",
   "execution_count": null,
   "metadata": {},
   "outputs": [],
   "source": [
    "stats.ttest_ind(sat, sun)"
   ]
  },
  {
   "cell_type": "code",
   "execution_count": null,
   "metadata": {},
   "outputs": [],
   "source": [
    "stats.ttest_1samp(sat, sun.mean())"
   ]
  },
  {
   "cell_type": "code",
   "execution_count": null,
   "metadata": {},
   "outputs": [],
   "source": []
  },
  {
   "cell_type": "code",
   "execution_count": null,
   "metadata": {},
   "outputs": [],
   "source": []
  },
  {
   "cell_type": "code",
   "execution_count": null,
   "metadata": {},
   "outputs": [],
   "source": []
  },
  {
   "cell_type": "code",
   "execution_count": null,
   "metadata": {},
   "outputs": [],
   "source": []
  },
  {
   "cell_type": "code",
   "execution_count": null,
   "metadata": {},
   "outputs": [],
   "source": []
  },
  {
   "cell_type": "code",
   "execution_count": null,
   "metadata": {},
   "outputs": [],
   "source": [
    "###plt.bar(x=errorgraph['weekday'], height= errorgraph['mean'], yerr=errorgraph['std'])--- decided the above is better for demonstration "
   ]
  },
  {
   "cell_type": "markdown",
   "metadata": {},
   "source": [
    "citibikedf.head()"
   ]
  },
  {
   "cell_type": "markdown",
   "metadata": {},
   "source": [
    "#create a working dataframe for specific to begin testing hypothesis\n",
    "wcitidf = citibikedf[['weekday', 'date_only']]"
   ]
  },
  {
   "cell_type": "markdown",
   "metadata": {},
   "source": [
    "wcitidf = wcitidf[wcitidf['weekday'] > 4]"
   ]
  },
  {
   "cell_type": "markdown",
   "metadata": {},
   "source": [
    "wcitidf.head()"
   ]
  },
  {
   "cell_type": "markdown",
   "metadata": {},
   "source": [
    "# confirm the changes\n",
    "wcitidf['weekday'].value_counts()"
   ]
  },
  {
   "cell_type": "markdown",
   "metadata": {},
   "source": [
    "#create a new dataframe that will graph the counts of each day for sat and sunday\n",
    "tographdays = pd.DataFrame(wcitidf.groupby([ 'date_only', 'weekday']).size()).reset_index()"
   ]
  },
  {
   "cell_type": "markdown",
   "metadata": {},
   "source": [
    "tographdays.head()"
   ]
  },
  {
   "cell_type": "markdown",
   "metadata": {},
   "source": [
    "tographdays"
   ]
  },
  {
   "cell_type": "markdown",
   "metadata": {},
   "source": [
    "tographdays.columns"
   ]
  },
  {
   "cell_type": "markdown",
   "metadata": {},
   "source": [
    "#rename columns\n",
    "tographdays.columns = ['date_only', 'weekday', 'count']"
   ]
  },
  {
   "cell_type": "markdown",
   "metadata": {},
   "source": [
    "##https://python-graph-gallery.com/11-grouped-barplot/\n",
    "#used this documentation to graph\n",
    "\n",
    "#create two subsets of data (sat and sun)\n",
    "sat = tographdays[tographdays['weekday'] == 5]['count']\n",
    "sun = tographdays[tographdays['weekday'] == 6]['count']\n",
    "\n",
    "#set specific widths so bars line up\n",
    "barWidth = 0.25\n",
    "satwidth = np.arange(len(sat))\n",
    "sunwidth = [x + barWidth for x in satwidth]\n",
    "\n"
   ]
  },
  {
   "cell_type": "markdown",
   "metadata": {},
   "source": [
    "sat"
   ]
  },
  {
   "cell_type": "markdown",
   "metadata": {},
   "source": [
    "sun"
   ]
  },
  {
   "cell_type": "markdown",
   "metadata": {},
   "source": [
    "len(sat)"
   ]
  },
  {
   "cell_type": "markdown",
   "metadata": {},
   "source": [
    "len(sun)"
   ]
  },
  {
   "cell_type": "markdown",
   "metadata": {},
   "source": [
    "#plot figure\n",
    "plt.figure(figsize=(10,10))\n",
    "\n",
    "\n",
    "plt.bar(satwidth, sat, color='y', width=barWidth, label='sat')\n",
    "plt.bar(sunwidth, sun, color='b', width=barWidth, label='sun')\n",
    "\n",
    "# Add xticks on the middle of the group bars\n",
    "plt.xlabel('group', fontweight='bold')\n",
    "#plt.xticks([r + barWidth for r in range(len(sat))], ['week1', 'week2', 'week3', 'week4', 'week5'])\n",
    "\n",
    "plt.title('Citibike Trips for Every Weekend in June')\n",
    "plt.ylabel('Total Citibike Trips')\n",
    "\n",
    "plt.xlabel('Week')\n",
    "\n",
    "\n",
    "plt.legend()\n",
    "plt.show()\n"
   ]
  },
  {
   "cell_type": "markdown",
   "metadata": {},
   "source": [
    "figure 2: This shows the count of citibike trips for each week and compares saturday to sunday amounts. Though not a true test, this graph does yield me to believe the null hypothesis will be able to be rejected\n"
   ]
  },
  {
   "cell_type": "markdown",
   "metadata": {},
   "source": [
    "#changed to median since the las"
   ]
  },
  {
   "cell_type": "markdown",
   "metadata": {},
   "source": [
    "#further manipulation to compare average daily trips for saturdays and sundays in june\n",
    "avgdaydf = pd.DataFrame(tographdays.groupby(['weekday'])['count'].median()).reset_index()"
   ]
  },
  {
   "cell_type": "markdown",
   "metadata": {},
   "source": [
    "avgdaydf.head()"
   ]
  },
  {
   "cell_type": "markdown",
   "metadata": {},
   "source": [
    "#make it easier to read\n",
    "avgdaydf.replace(5, 'saturday', inplace=True)"
   ]
  },
  {
   "cell_type": "markdown",
   "metadata": {},
   "source": [
    "avgdaydf.replace(6, 'sunday', inplace= True)"
   ]
  },
  {
   "cell_type": "markdown",
   "metadata": {},
   "source": [
    "avgdaydf"
   ]
  },
  {
   "cell_type": "markdown",
   "metadata": {},
   "source": [
    "#plot the two numbers\n",
    "avgdaydf.plot.bar(x= 'weekday', y ='count' , rot= 0, figsize = (10,10))\n",
    "plt.ylabel('avg daily ridership')\n",
    "plt.title('Average Citibike Trips for Saturday and Sunday in June')\n",
    "\n"
   ]
  },
  {
   "cell_type": "markdown",
   "metadata": {},
   "source": [
    "Figure 3: this data shows that for Saturdays in June, there were more trips on average than sundays in june. Though more data might have a different result as it would comply with the central limit theorum, this sample, does not have the ability to reject the null. "
   ]
  },
  {
   "cell_type": "markdown",
   "metadata": {},
   "source": []
  }
 ],
 "metadata": {
  "kernelspec": {
   "display_name": "PUI2016_Python3",
   "language": "python",
   "name": "pui2016_python3"
  },
  "language_info": {
   "codemirror_mode": {
    "name": "ipython",
    "version": 3
   },
   "file_extension": ".py",
   "mimetype": "text/x-python",
   "name": "python",
   "nbconvert_exporter": "python",
   "pygments_lexer": "ipython3",
   "version": "3.5.4"
  }
 },
 "nbformat": 4,
 "nbformat_minor": 2
}
