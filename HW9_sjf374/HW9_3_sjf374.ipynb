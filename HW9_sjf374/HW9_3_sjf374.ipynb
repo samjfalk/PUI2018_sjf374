{
 "cells": [
  {
   "cell_type": "code",
   "execution_count": null,
   "metadata": {},
   "outputs": [],
   "source": []
  },
  {
   "cell_type": "markdown",
   "metadata": {
    "run_control": {
     "frozen": false,
     "read_only": false
    },
    "toc": "true"
   },
   "source": [
    "# Table of Contents\n",
    " <p><div class=\"lev1 toc-item\"><a href=\"#DATA:\" data-toc-modified-id=\"DATA:-1\"><span class=\"toc-item-num\">1&nbsp;&nbsp;</span>DATA:</a></div><div class=\"lev1 toc-item\"><a href=\"#exploration\" data-toc-modified-id=\"exploration-2\"><span class=\"toc-item-num\">2&nbsp;&nbsp;</span>exploration</a></div><div class=\"lev2 toc-item\"><a href=\"#plot-mass-shooting-vs-gdp-in-absolute-numbers,-and-per-person.-Show-the-errorbars-(y-errors)\" data-toc-modified-id=\"plot-mass-shooting-vs-gdp-in-absolute-numbers,-and-per-person.-Show-the-errorbars-(y-errors)-21\"><span class=\"toc-item-num\">2.1&nbsp;&nbsp;</span>plot mass shooting vs gdp in absolute numbers, and per person. Show the errorbars (y errors)</a></div><div class=\"lev2 toc-item\"><a href=\"#plot-the-average-number-of-civilian-fire-arms-per-person\" data-toc-modified-id=\"plot-the-average-number-of-civilian-fire-arms-per-person-22\"><span class=\"toc-item-num\">2.2&nbsp;&nbsp;</span>plot the average number of civilian fire arms per person</a></div><div class=\"lev2 toc-item\"><a href=\"#plot-the-average-number-of-homicide-by-fire-arms-per-person\" data-toc-modified-id=\"plot-the-average-number-of-homicide-by-fire-arms-per-person-23\"><span class=\"toc-item-num\">2.3&nbsp;&nbsp;</span>plot the average number of homicide by fire arms per person</a></div><div class=\"lev2 toc-item\"><a href=\"#plot-the-number-of--homicides-by-fire-arm-against-the-number-of-civilian-firearms.-plot-the--US-in-a-different-color\" data-toc-modified-id=\"plot-the-number-of--homicides-by-fire-arm-against-the-number-of-civilian-firearms.-plot-the--US-in-a-different-color-24\"><span class=\"toc-item-num\">2.4&nbsp;&nbsp;</span>plot the number of  homicides by fire arm against the number of civilian firearms. plot the  US in a different color</a></div><div class=\"lev2 toc-item\"><a href=\"#plot-the-number-of--mass-shootings-against-the-number-of-civilian-firearms.-plot-the--US-in-a-different-color\" data-toc-modified-id=\"plot-the-number-of--mass-shootings-against-the-number-of-civilian-firearms.-plot-the--US-in-a-different-color-25\"><span class=\"toc-item-num\">2.5&nbsp;&nbsp;</span>plot the number of  mass shootings against the number of civilian firearms. plot the  US in a different color</a></div><div class=\"lev1 toc-item\"><a href=\"#Modeling\" data-toc-modified-id=\"Modeling-3\"><span class=\"toc-item-num\">3&nbsp;&nbsp;</span>Modeling</a></div><div class=\"lev2 toc-item\"><a href=\"#fit-a-line-to-the-Number-of-mass-shootings--per-person-as-a-function-of-Average-total-all-civilian-firearms-per-person.\" data-toc-modified-id=\"fit-a-line-to-the-Number-of-mass-shootings--per-person-as-a-function-of-Average-total-all-civilian-firearms-per-person.-31\"><span class=\"toc-item-num\">3.1&nbsp;&nbsp;</span>fit a line to the Number of mass shootings  per person as a function of Average total all civilian firearms per person.</a></div><div class=\"lev2 toc-item\"><a href=\"#Outlier-removal:\" data-toc-modified-id=\"Outlier-removal:-32\"><span class=\"toc-item-num\">3.2&nbsp;&nbsp;</span>Outlier removal:</a></div><div class=\"lev2 toc-item\"><a href=\"#Extra-credit:-calculate-the-confidence-interval-by-hand-and-also-plot-them\" data-toc-modified-id=\"Extra-credit:-calculate-the-confidence-interval-by-hand-and-also-plot-them-33\"><span class=\"toc-item-num\">3.3&nbsp;&nbsp;</span>Extra credit: calculate the confidence interval by hand and also plot them</a></div><div class=\"lev2 toc-item\"><a href=\"#Use-the-stsatsmodels.gaphics-package-to-plot-the-influence-plot.\" data-toc-modified-id=\"Use-the-stsatsmodels.gaphics-package-to-plot-the-influence-plot.-34\"><span class=\"toc-item-num\">3.4&nbsp;&nbsp;</span>Use the stsatsmodels.gaphics package to plot the influence plot.</a></div><div class=\"lev2 toc-item\"><a href=\"#Extra-credit:-calculate-from-scratch-the-stanrdardized-residuals-and-the-H-leverage-for-the-WLS-model-and-discuss-if-there-are-any-differences\" data-toc-modified-id=\"Extra-credit:-calculate-from-scratch-the-stanrdardized-residuals-and-the-H-leverage-for-the-WLS-model-and-discuss-if-there-are-any-differences-35\"><span class=\"toc-item-num\">3.5&nbsp;&nbsp;</span>Extra credit: calculate from scratch the stanrdardized residuals and the H leverage for the WLS model and discuss if there are any differences</a></div><div class=\"lev2 toc-item\"><a href=\"#Discuss-your-findings\" data-toc-modified-id=\"Discuss-your-findings-36\"><span class=\"toc-item-num\">3.6&nbsp;&nbsp;</span>Discuss your findings</a></div>"
   ]
  },
  {
   "cell_type": "markdown",
   "metadata": {
    "run_control": {
     "frozen": false,
     "read_only": false
    }
   },
   "source": [
    "**regression exercise**\n",
    "\n",
    "**written by Federica B Bianco CUSP 2017**\n",
    "\n",
    "**for PUI lecture on models and linear regression**"
   ]
  },
  {
   "cell_type": "markdown",
   "metadata": {
    "run_control": {
     "frozen": false,
     "read_only": false
    }
   },
   "source": [
    "**investigate linear relationships between fire arm possession, homicides by fire arms, and mass shootings for different countries, considering also the country GDP**"
   ]
  },
  {
   "cell_type": "code",
   "execution_count": null,
   "metadata": {},
   "outputs": [],
   "source": [
    "#working with Sam Burns "
   ]
  },
  {
   "cell_type": "code",
   "execution_count": 78,
   "metadata": {},
   "outputs": [
    {
     "name": "stdout",
     "output_type": "stream",
     "text": [
      "Populating the interactive namespace from numpy and matplotlib\n"
     ]
    }
   ],
   "source": [
    "from __future__ import print_function, division\n",
    "import pylab as pl\n",
    "\n",
    "import os\n",
    "import json\n",
    "\n",
    "import statsmodels.api as sm\n",
    "import statsmodels.formula.api as smf\n",
    "import pandas as pd\n",
    "\n",
    "try:\n",
    "    import urllib2 as urllib\n",
    "except ImportError:\n",
    "    import urllib.request as urllib\n",
    "import csv\n",
    "    \n",
    "%pylab inline\n",
    "\n"
   ]
  },
  {
   "cell_type": "markdown",
   "metadata": {
    "run_control": {
     "frozen": false,
     "read_only": false
    }
   },
   "source": [
    "# DATA: \n",
    "\n",
    "The Guardian firearms murders and ownership data. The relevans sheet is uploaded in the github repository as a csv file. Download it from there. Note: this dataset is from 2012.\n",
    "\n",
    "**Extra credit**: download directly from google docs with a google API\n",
    "\n",
    "https://docs.google.com/spreadsheets/d/1chqUZHuY6cXYrRYkuE0uwXisGaYvr7durZHJhpLGycs/edit#gid=0\n",
    "\n",
    "Number of mass shootings: find the link here https://datawrapper.dwcdn.net/pvLFI/4/\n",
    "\n",
    "The world population by country find the download link here :\n",
    "https://data.worldbank.org/indicator/SP.POP.TOTL\n",
    "\n",
    "Remember that all read or downloads have to me reproducible.\n",
    "\n",
    "Merge all datasets. After throwing away the irrelevant data it should look something like this (I renamed the GDP and the population as gdp\" and \"pop\")\n",
    "\n",
    "Throughout, when I ask you to include errors in plots or models, use Poisson statistics: the error is the square root of the number you are considering (e.g. this country has N fire arms +/- square root of N, or this country has Np [= N/population +/- (square root of N) / population] fire arms per person)."
   ]
  },
  {
   "cell_type": "code",
   "execution_count": 2,
   "metadata": {},
   "outputs": [],
   "source": [
    "ms = pd.read_csv('https://serv.cusp.nyu.edu/~fbianco/PUIdata/WorldFirearmsMurdersAndOwnership.csv')"
   ]
  },
  {
   "cell_type": "code",
   "execution_count": 3,
   "metadata": {},
   "outputs": [
    {
     "data": {
      "text/html": [
       "<div>\n",
       "<table border=\"1\" class=\"dataframe\">\n",
       "  <thead>\n",
       "    <tr style=\"text-align: right;\">\n",
       "      <th></th>\n",
       "      <th>Country/Territory</th>\n",
       "      <th>ISO code</th>\n",
       "      <th>Source</th>\n",
       "      <th>% of homicides by firearm</th>\n",
       "      <th>Number of homicides by firearm</th>\n",
       "      <th>Homicide by firearm rate per 100,000 pop</th>\n",
       "      <th>Rank by rate of ownership</th>\n",
       "      <th>Average firearms per 100 people</th>\n",
       "      <th>Average total all civilian firearms</th>\n",
       "    </tr>\n",
       "  </thead>\n",
       "  <tbody>\n",
       "    <tr>\n",
       "      <th>0</th>\n",
       "      <td>Albania</td>\n",
       "      <td>AL</td>\n",
       "      <td>CTS</td>\n",
       "      <td>65.9</td>\n",
       "      <td>56.0</td>\n",
       "      <td>1.76</td>\n",
       "      <td>70.0</td>\n",
       "      <td>8.6</td>\n",
       "      <td>270000.0</td>\n",
       "    </tr>\n",
       "    <tr>\n",
       "      <th>1</th>\n",
       "      <td>Algeria</td>\n",
       "      <td>DZ</td>\n",
       "      <td>CTS</td>\n",
       "      <td>4.8</td>\n",
       "      <td>20.0</td>\n",
       "      <td>0.06</td>\n",
       "      <td>78.0</td>\n",
       "      <td>7.6</td>\n",
       "      <td>1900000.0</td>\n",
       "    </tr>\n",
       "    <tr>\n",
       "      <th>2</th>\n",
       "      <td>Angola</td>\n",
       "      <td>AO</td>\n",
       "      <td>NaN</td>\n",
       "      <td>NaN</td>\n",
       "      <td>NaN</td>\n",
       "      <td>NaN</td>\n",
       "      <td>34.0</td>\n",
       "      <td>17.3</td>\n",
       "      <td>2800000.0</td>\n",
       "    </tr>\n",
       "    <tr>\n",
       "      <th>3</th>\n",
       "      <td>Anguilla</td>\n",
       "      <td>AI</td>\n",
       "      <td>WHO-MDB</td>\n",
       "      <td>24.0</td>\n",
       "      <td>1.0</td>\n",
       "      <td>7.14</td>\n",
       "      <td>NaN</td>\n",
       "      <td>NaN</td>\n",
       "      <td>NaN</td>\n",
       "    </tr>\n",
       "    <tr>\n",
       "      <th>4</th>\n",
       "      <td>Argentina</td>\n",
       "      <td>AR</td>\n",
       "      <td>Ministry of Justice</td>\n",
       "      <td>52.0</td>\n",
       "      <td>1198.0</td>\n",
       "      <td>3.02</td>\n",
       "      <td>62.0</td>\n",
       "      <td>10.2</td>\n",
       "      <td>3950000.0</td>\n",
       "    </tr>\n",
       "  </tbody>\n",
       "</table>\n",
       "</div>"
      ],
      "text/plain": [
       "  Country/Territory ISO code               Source  % of homicides by firearm  \\\n",
       "0           Albania       AL                  CTS                       65.9   \n",
       "1           Algeria       DZ                  CTS                        4.8   \n",
       "2            Angola       AO                  NaN                        NaN   \n",
       "3          Anguilla       AI              WHO-MDB                       24.0   \n",
       "4         Argentina       AR  Ministry of Justice                       52.0   \n",
       "\n",
       "   Number of homicides by firearm  Homicide by firearm rate per 100,000 pop  \\\n",
       "0                            56.0                                      1.76   \n",
       "1                            20.0                                      0.06   \n",
       "2                             NaN                                       NaN   \n",
       "3                             1.0                                      7.14   \n",
       "4                          1198.0                                      3.02   \n",
       "\n",
       "   Rank by rate of ownership  Average firearms per 100 people  \\\n",
       "0                       70.0                              8.6   \n",
       "1                       78.0                              7.6   \n",
       "2                       34.0                             17.3   \n",
       "3                        NaN                              NaN   \n",
       "4                       62.0                             10.2   \n",
       "\n",
       "   Average total all civilian firearms  \n",
       "0                             270000.0  \n",
       "1                            1900000.0  \n",
       "2                            2800000.0  \n",
       "3                                  NaN  \n",
       "4                            3950000.0  "
      ]
     },
     "execution_count": 3,
     "metadata": {},
     "output_type": "execute_result"
    }
   ],
   "source": [
    "ms.head()"
   ]
  },
  {
   "cell_type": "code",
   "execution_count": 21,
   "metadata": {},
   "outputs": [],
   "source": [
    "ms.rename(columns={'Country/Territory':'Country'}, inplace=True)"
   ]
  },
  {
   "cell_type": "code",
   "execution_count": 4,
   "metadata": {},
   "outputs": [
    {
     "name": "stdout",
     "output_type": "stream",
     "text": [
      "  % Total    % Received % Xferd  Average Speed   Time    Time     Time  Current\n",
      "                                 Dload  Upload   Total   Spent    Left  Speed\n",
      "100 79717  100 79717    0     0   293k      0 --:--:-- --:--:-- --:--:--  292k\n"
     ]
    }
   ],
   "source": [
    "!curl 'http://api.worldbank.org/v2/en/indicator/SP.POP.TOTL?downloadformat=csv' > 'worldpop.zip'"
   ]
  },
  {
   "cell_type": "code",
   "execution_count": 38,
   "metadata": {},
   "outputs": [
    {
     "name": "stdout",
     "output_type": "stream",
     "text": [
      "  % Total    % Received % Xferd  Average Speed   Time    Time     Time  Current\n",
      "                                 Dload  Upload   Total   Spent    Left  Speed\n",
      "100  113k  100  113k    0     0   339k      0 --:--:-- --:--:-- --:--:--  340k\n"
     ]
    }
   ],
   "source": [
    "!curl 'http://api.worldbank.org/v2/en/indicator/NY.GDP.MKTP.CD?downloadformat=csv' > 'gdp.zip'"
   ]
  },
  {
   "cell_type": "code",
   "execution_count": 5,
   "metadata": {},
   "outputs": [],
   "source": [
    "# set PUI varibale"
   ]
  },
  {
   "cell_type": "code",
   "execution_count": 6,
   "metadata": {},
   "outputs": [
    {
     "name": "stdout",
     "output_type": "stream",
     "text": [
      "PUIdata /nfshome/sjf374/PUIdata\n",
      "PUIdata /nfshome/sjf374/PUI2018/PUIdata\n"
     ]
    }
   ],
   "source": [
    "\n",
    "print(\"PUIdata\", os.getenv(\"PUIDATA\"))\n",
    "os.environ[\"PUIDATA\"] = \"%s/PUI2018/PUIdata\"%os.getenv(\"HOME\")\n",
    "\n",
    "print(\"PUIdata\", os.getenv(\"PUIDATA\"))"
   ]
  },
  {
   "cell_type": "code",
   "execution_count": 7,
   "metadata": {},
   "outputs": [
    {
     "data": {
      "text/plain": [
       "0"
      ]
     },
     "execution_count": 7,
     "metadata": {},
     "output_type": "execute_result"
    }
   ],
   "source": [
    "## move the data\n",
    "os.system(\"mv worldpop.zip \" + os.getenv(\"PUIDATA\"))"
   ]
  },
  {
   "cell_type": "code",
   "execution_count": 8,
   "metadata": {},
   "outputs": [
    {
     "data": {
      "text/plain": [
       "256"
      ]
     },
     "execution_count": 8,
     "metadata": {},
     "output_type": "execute_result"
    }
   ],
   "source": [
    "### unzip the csv \n",
    "os.system(\"unzip \" + os.getenv(\"PUIDATA\") + \"/worldpop.zip -d \" + os.getenv(\"PUIDATA\"))"
   ]
  },
  {
   "cell_type": "code",
   "execution_count": 35,
   "metadata": {},
   "outputs": [],
   "source": [
    "df = pd.read_csv(\"%s/API_SP.POP.TOTL_DS2_en_csv_v2_10203548.csv\"%os.getenv(\"PUIDATA\"), skiprows=3)"
   ]
  },
  {
   "cell_type": "code",
   "execution_count": 42,
   "metadata": {},
   "outputs": [
    {
     "data": {
      "text/html": [
       "<div>\n",
       "<table border=\"1\" class=\"dataframe\">\n",
       "  <thead>\n",
       "    <tr style=\"text-align: right;\">\n",
       "      <th></th>\n",
       "      <th>Country Name</th>\n",
       "      <th>Country Code</th>\n",
       "      <th>Indicator Name</th>\n",
       "      <th>Indicator Code</th>\n",
       "      <th>1960</th>\n",
       "      <th>1961</th>\n",
       "      <th>1962</th>\n",
       "      <th>1963</th>\n",
       "      <th>1964</th>\n",
       "      <th>1965</th>\n",
       "      <th>...</th>\n",
       "      <th>2009</th>\n",
       "      <th>2010</th>\n",
       "      <th>2011</th>\n",
       "      <th>2012</th>\n",
       "      <th>2013</th>\n",
       "      <th>2014</th>\n",
       "      <th>2015</th>\n",
       "      <th>2016</th>\n",
       "      <th>2017</th>\n",
       "      <th>Unnamed: 62</th>\n",
       "    </tr>\n",
       "  </thead>\n",
       "  <tbody>\n",
       "    <tr>\n",
       "      <th>0</th>\n",
       "      <td>Aruba</td>\n",
       "      <td>ABW</td>\n",
       "      <td>Population, total</td>\n",
       "      <td>SP.POP.TOTL</td>\n",
       "      <td>54211.0</td>\n",
       "      <td>55438.0</td>\n",
       "      <td>56225.0</td>\n",
       "      <td>56695.0</td>\n",
       "      <td>57032.0</td>\n",
       "      <td>57360.0</td>\n",
       "      <td>...</td>\n",
       "      <td>101453.0</td>\n",
       "      <td>101669.0</td>\n",
       "      <td>102053.0</td>\n",
       "      <td>102577.0</td>\n",
       "      <td>103187.0</td>\n",
       "      <td>103795.0</td>\n",
       "      <td>104341.0</td>\n",
       "      <td>104822.0</td>\n",
       "      <td>105264.0</td>\n",
       "      <td>NaN</td>\n",
       "    </tr>\n",
       "    <tr>\n",
       "      <th>1</th>\n",
       "      <td>Afghanistan</td>\n",
       "      <td>AFG</td>\n",
       "      <td>Population, total</td>\n",
       "      <td>SP.POP.TOTL</td>\n",
       "      <td>8996351.0</td>\n",
       "      <td>9166764.0</td>\n",
       "      <td>9345868.0</td>\n",
       "      <td>9533954.0</td>\n",
       "      <td>9731361.0</td>\n",
       "      <td>9938414.0</td>\n",
       "      <td>...</td>\n",
       "      <td>28004331.0</td>\n",
       "      <td>28803167.0</td>\n",
       "      <td>29708599.0</td>\n",
       "      <td>30696958.0</td>\n",
       "      <td>31731688.0</td>\n",
       "      <td>32758020.0</td>\n",
       "      <td>33736494.0</td>\n",
       "      <td>34656032.0</td>\n",
       "      <td>35530081.0</td>\n",
       "      <td>NaN</td>\n",
       "    </tr>\n",
       "    <tr>\n",
       "      <th>2</th>\n",
       "      <td>Angola</td>\n",
       "      <td>AGO</td>\n",
       "      <td>Population, total</td>\n",
       "      <td>SP.POP.TOTL</td>\n",
       "      <td>5643182.0</td>\n",
       "      <td>5753024.0</td>\n",
       "      <td>5866061.0</td>\n",
       "      <td>5980417.0</td>\n",
       "      <td>6093321.0</td>\n",
       "      <td>6203299.0</td>\n",
       "      <td>...</td>\n",
       "      <td>22549547.0</td>\n",
       "      <td>23369131.0</td>\n",
       "      <td>24218565.0</td>\n",
       "      <td>25096150.0</td>\n",
       "      <td>25998340.0</td>\n",
       "      <td>26920466.0</td>\n",
       "      <td>27859305.0</td>\n",
       "      <td>28813463.0</td>\n",
       "      <td>29784193.0</td>\n",
       "      <td>NaN</td>\n",
       "    </tr>\n",
       "    <tr>\n",
       "      <th>3</th>\n",
       "      <td>Albania</td>\n",
       "      <td>ALB</td>\n",
       "      <td>Population, total</td>\n",
       "      <td>SP.POP.TOTL</td>\n",
       "      <td>1608800.0</td>\n",
       "      <td>1659800.0</td>\n",
       "      <td>1711319.0</td>\n",
       "      <td>1762621.0</td>\n",
       "      <td>1814135.0</td>\n",
       "      <td>1864791.0</td>\n",
       "      <td>...</td>\n",
       "      <td>2927519.0</td>\n",
       "      <td>2913021.0</td>\n",
       "      <td>2905195.0</td>\n",
       "      <td>2900401.0</td>\n",
       "      <td>2895092.0</td>\n",
       "      <td>2889104.0</td>\n",
       "      <td>2880703.0</td>\n",
       "      <td>2876101.0</td>\n",
       "      <td>2873457.0</td>\n",
       "      <td>NaN</td>\n",
       "    </tr>\n",
       "    <tr>\n",
       "      <th>4</th>\n",
       "      <td>Andorra</td>\n",
       "      <td>AND</td>\n",
       "      <td>Population, total</td>\n",
       "      <td>SP.POP.TOTL</td>\n",
       "      <td>13411.0</td>\n",
       "      <td>14375.0</td>\n",
       "      <td>15370.0</td>\n",
       "      <td>16412.0</td>\n",
       "      <td>17469.0</td>\n",
       "      <td>18549.0</td>\n",
       "      <td>...</td>\n",
       "      <td>84462.0</td>\n",
       "      <td>84449.0</td>\n",
       "      <td>83751.0</td>\n",
       "      <td>82431.0</td>\n",
       "      <td>80788.0</td>\n",
       "      <td>79223.0</td>\n",
       "      <td>78014.0</td>\n",
       "      <td>77281.0</td>\n",
       "      <td>76965.0</td>\n",
       "      <td>NaN</td>\n",
       "    </tr>\n",
       "  </tbody>\n",
       "</table>\n",
       "<p>5 rows × 63 columns</p>\n",
       "</div>"
      ],
      "text/plain": [
       "  Country Name Country Code     Indicator Name Indicator Code       1960  \\\n",
       "0        Aruba          ABW  Population, total    SP.POP.TOTL    54211.0   \n",
       "1  Afghanistan          AFG  Population, total    SP.POP.TOTL  8996351.0   \n",
       "2       Angola          AGO  Population, total    SP.POP.TOTL  5643182.0   \n",
       "3      Albania          ALB  Population, total    SP.POP.TOTL  1608800.0   \n",
       "4      Andorra          AND  Population, total    SP.POP.TOTL    13411.0   \n",
       "\n",
       "        1961       1962       1963       1964       1965     ...       \\\n",
       "0    55438.0    56225.0    56695.0    57032.0    57360.0     ...        \n",
       "1  9166764.0  9345868.0  9533954.0  9731361.0  9938414.0     ...        \n",
       "2  5753024.0  5866061.0  5980417.0  6093321.0  6203299.0     ...        \n",
       "3  1659800.0  1711319.0  1762621.0  1814135.0  1864791.0     ...        \n",
       "4    14375.0    15370.0    16412.0    17469.0    18549.0     ...        \n",
       "\n",
       "         2009        2010        2011        2012        2013        2014  \\\n",
       "0    101453.0    101669.0    102053.0    102577.0    103187.0    103795.0   \n",
       "1  28004331.0  28803167.0  29708599.0  30696958.0  31731688.0  32758020.0   \n",
       "2  22549547.0  23369131.0  24218565.0  25096150.0  25998340.0  26920466.0   \n",
       "3   2927519.0   2913021.0   2905195.0   2900401.0   2895092.0   2889104.0   \n",
       "4     84462.0     84449.0     83751.0     82431.0     80788.0     79223.0   \n",
       "\n",
       "         2015        2016        2017  Unnamed: 62  \n",
       "0    104341.0    104822.0    105264.0          NaN  \n",
       "1  33736494.0  34656032.0  35530081.0          NaN  \n",
       "2  27859305.0  28813463.0  29784193.0          NaN  \n",
       "3   2880703.0   2876101.0   2873457.0          NaN  \n",
       "4     78014.0     77281.0     76965.0          NaN  \n",
       "\n",
       "[5 rows x 63 columns]"
      ]
     },
     "execution_count": 42,
     "metadata": {},
     "output_type": "execute_result"
    }
   ],
   "source": [
    "df.head()"
   ]
  },
  {
   "cell_type": "code",
   "execution_count": 37,
   "metadata": {},
   "outputs": [
    {
     "data": {
      "text/plain": [
       "Index(['Country Name', 'Country Code', 'Indicator Name', 'Indicator Code',\n",
       "       '1960', '1961', '1962', '1963', '1964', '1965', '1966', '1967', '1968',\n",
       "       '1969', '1970', '1971', '1972', '1973', '1974', '1975', '1976', '1977',\n",
       "       '1978', '1979', '1980', '1981', '1982', '1983', '1984', '1985', '1986',\n",
       "       '1987', '1988', '1989', '1990', '1991', '1992', '1993', '1994', '1995',\n",
       "       '1996', '1997', '1998', '1999', '2000', '2001', '2002', '2003', '2004',\n",
       "       '2005', '2006', '2007', '2008', '2009', '2010', '2011', '2012', '2013',\n",
       "       '2014', '2015', '2016', '2017', 'Unnamed: 62'],\n",
       "      dtype='object')"
      ]
     },
     "execution_count": 37,
     "metadata": {},
     "output_type": "execute_result"
    }
   ],
   "source": [
    "df.columns"
   ]
  },
  {
   "cell_type": "code",
   "execution_count": 44,
   "metadata": {},
   "outputs": [],
   "source": [
    "popdf = df[['Country Name', '2012']]"
   ]
  },
  {
   "cell_type": "code",
   "execution_count": 47,
   "metadata": {},
   "outputs": [],
   "source": [
    "popdf.columns = ['Country Name', 'pop']"
   ]
  },
  {
   "cell_type": "code",
   "execution_count": 48,
   "metadata": {},
   "outputs": [
    {
     "data": {
      "text/html": [
       "<div>\n",
       "<table border=\"1\" class=\"dataframe\">\n",
       "  <thead>\n",
       "    <tr style=\"text-align: right;\">\n",
       "      <th></th>\n",
       "      <th>Country Name</th>\n",
       "      <th>pop</th>\n",
       "    </tr>\n",
       "  </thead>\n",
       "  <tbody>\n",
       "    <tr>\n",
       "      <th>0</th>\n",
       "      <td>Aruba</td>\n",
       "      <td>102577.0</td>\n",
       "    </tr>\n",
       "    <tr>\n",
       "      <th>1</th>\n",
       "      <td>Afghanistan</td>\n",
       "      <td>30696958.0</td>\n",
       "    </tr>\n",
       "    <tr>\n",
       "      <th>2</th>\n",
       "      <td>Angola</td>\n",
       "      <td>25096150.0</td>\n",
       "    </tr>\n",
       "    <tr>\n",
       "      <th>3</th>\n",
       "      <td>Albania</td>\n",
       "      <td>2900401.0</td>\n",
       "    </tr>\n",
       "    <tr>\n",
       "      <th>4</th>\n",
       "      <td>Andorra</td>\n",
       "      <td>82431.0</td>\n",
       "    </tr>\n",
       "  </tbody>\n",
       "</table>\n",
       "</div>"
      ],
      "text/plain": [
       "  Country Name         pop\n",
       "0        Aruba    102577.0\n",
       "1  Afghanistan  30696958.0\n",
       "2       Angola  25096150.0\n",
       "3      Albania   2900401.0\n",
       "4      Andorra     82431.0"
      ]
     },
     "execution_count": 48,
     "metadata": {},
     "output_type": "execute_result"
    }
   ],
   "source": [
    "popdf.head()"
   ]
  },
  {
   "cell_type": "code",
   "execution_count": null,
   "metadata": {},
   "outputs": [],
   "source": [
    "#now for the gdp"
   ]
  },
  {
   "cell_type": "code",
   "execution_count": 39,
   "metadata": {},
   "outputs": [
    {
     "data": {
      "text/plain": [
       "0"
      ]
     },
     "execution_count": 39,
     "metadata": {},
     "output_type": "execute_result"
    }
   ],
   "source": [
    "## move the data\n",
    "os.system(\"mv gdp.zip \" + os.getenv(\"PUIDATA\"))\n",
    "### unzip the csv \n",
    "os.system(\"unzip \" + os.getenv(\"PUIDATA\") + \"/gdp.zip -d \" + os.getenv(\"PUIDATA\"))"
   ]
  },
  {
   "cell_type": "code",
   "execution_count": 40,
   "metadata": {},
   "outputs": [],
   "source": [
    "gdpdf = pd.read_csv(\"%s/API_NY.GDP.MKTP.CD_DS2_en_csv_v2_10203569.csv\"%os.getenv(\"PUIDATA\"), skiprows=3)"
   ]
  },
  {
   "cell_type": "code",
   "execution_count": 41,
   "metadata": {},
   "outputs": [
    {
     "data": {
      "text/html": [
       "<div>\n",
       "<table border=\"1\" class=\"dataframe\">\n",
       "  <thead>\n",
       "    <tr style=\"text-align: right;\">\n",
       "      <th></th>\n",
       "      <th>Country Name</th>\n",
       "      <th>Country Code</th>\n",
       "      <th>Indicator Name</th>\n",
       "      <th>Indicator Code</th>\n",
       "      <th>1960</th>\n",
       "      <th>1961</th>\n",
       "      <th>1962</th>\n",
       "      <th>1963</th>\n",
       "      <th>1964</th>\n",
       "      <th>1965</th>\n",
       "      <th>...</th>\n",
       "      <th>2009</th>\n",
       "      <th>2010</th>\n",
       "      <th>2011</th>\n",
       "      <th>2012</th>\n",
       "      <th>2013</th>\n",
       "      <th>2014</th>\n",
       "      <th>2015</th>\n",
       "      <th>2016</th>\n",
       "      <th>2017</th>\n",
       "      <th>Unnamed: 62</th>\n",
       "    </tr>\n",
       "  </thead>\n",
       "  <tbody>\n",
       "    <tr>\n",
       "      <th>0</th>\n",
       "      <td>Aruba</td>\n",
       "      <td>ABW</td>\n",
       "      <td>GDP (current US$)</td>\n",
       "      <td>NY.GDP.MKTP.CD</td>\n",
       "      <td>NaN</td>\n",
       "      <td>NaN</td>\n",
       "      <td>NaN</td>\n",
       "      <td>NaN</td>\n",
       "      <td>NaN</td>\n",
       "      <td>NaN</td>\n",
       "      <td>...</td>\n",
       "      <td>2.498933e+09</td>\n",
       "      <td>2.467704e+09</td>\n",
       "      <td>2.584464e+09</td>\n",
       "      <td>NaN</td>\n",
       "      <td>NaN</td>\n",
       "      <td>NaN</td>\n",
       "      <td>NaN</td>\n",
       "      <td>NaN</td>\n",
       "      <td>NaN</td>\n",
       "      <td>NaN</td>\n",
       "    </tr>\n",
       "    <tr>\n",
       "      <th>1</th>\n",
       "      <td>Afghanistan</td>\n",
       "      <td>AFG</td>\n",
       "      <td>GDP (current US$)</td>\n",
       "      <td>NY.GDP.MKTP.CD</td>\n",
       "      <td>5.377778e+08</td>\n",
       "      <td>5.488889e+08</td>\n",
       "      <td>5.466667e+08</td>\n",
       "      <td>7.511112e+08</td>\n",
       "      <td>8.000000e+08</td>\n",
       "      <td>1.006667e+09</td>\n",
       "      <td>...</td>\n",
       "      <td>1.248694e+10</td>\n",
       "      <td>1.593680e+10</td>\n",
       "      <td>1.793024e+10</td>\n",
       "      <td>2.053654e+10</td>\n",
       "      <td>2.026425e+10</td>\n",
       "      <td>2.061610e+10</td>\n",
       "      <td>1.921556e+10</td>\n",
       "      <td>1.946902e+10</td>\n",
       "      <td>2.081530e+10</td>\n",
       "      <td>NaN</td>\n",
       "    </tr>\n",
       "    <tr>\n",
       "      <th>2</th>\n",
       "      <td>Angola</td>\n",
       "      <td>AGO</td>\n",
       "      <td>GDP (current US$)</td>\n",
       "      <td>NY.GDP.MKTP.CD</td>\n",
       "      <td>NaN</td>\n",
       "      <td>NaN</td>\n",
       "      <td>NaN</td>\n",
       "      <td>NaN</td>\n",
       "      <td>NaN</td>\n",
       "      <td>NaN</td>\n",
       "      <td>...</td>\n",
       "      <td>7.549239e+10</td>\n",
       "      <td>8.252614e+10</td>\n",
       "      <td>1.041158e+11</td>\n",
       "      <td>1.139232e+11</td>\n",
       "      <td>1.249125e+11</td>\n",
       "      <td>1.267302e+11</td>\n",
       "      <td>1.026212e+11</td>\n",
       "      <td>9.533720e+10</td>\n",
       "      <td>1.242094e+11</td>\n",
       "      <td>NaN</td>\n",
       "    </tr>\n",
       "    <tr>\n",
       "      <th>3</th>\n",
       "      <td>Albania</td>\n",
       "      <td>ALB</td>\n",
       "      <td>GDP (current US$)</td>\n",
       "      <td>NY.GDP.MKTP.CD</td>\n",
       "      <td>NaN</td>\n",
       "      <td>NaN</td>\n",
       "      <td>NaN</td>\n",
       "      <td>NaN</td>\n",
       "      <td>NaN</td>\n",
       "      <td>NaN</td>\n",
       "      <td>...</td>\n",
       "      <td>1.204421e+10</td>\n",
       "      <td>1.192695e+10</td>\n",
       "      <td>1.289087e+10</td>\n",
       "      <td>1.231978e+10</td>\n",
       "      <td>1.277628e+10</td>\n",
       "      <td>1.322824e+10</td>\n",
       "      <td>1.138693e+10</td>\n",
       "      <td>1.188368e+10</td>\n",
       "      <td>1.303935e+10</td>\n",
       "      <td>NaN</td>\n",
       "    </tr>\n",
       "    <tr>\n",
       "      <th>4</th>\n",
       "      <td>Andorra</td>\n",
       "      <td>AND</td>\n",
       "      <td>GDP (current US$)</td>\n",
       "      <td>NY.GDP.MKTP.CD</td>\n",
       "      <td>NaN</td>\n",
       "      <td>NaN</td>\n",
       "      <td>NaN</td>\n",
       "      <td>NaN</td>\n",
       "      <td>NaN</td>\n",
       "      <td>NaN</td>\n",
       "      <td>...</td>\n",
       "      <td>3.660531e+09</td>\n",
       "      <td>3.355695e+09</td>\n",
       "      <td>3.442063e+09</td>\n",
       "      <td>3.164615e+09</td>\n",
       "      <td>3.281585e+09</td>\n",
       "      <td>3.350736e+09</td>\n",
       "      <td>2.811489e+09</td>\n",
       "      <td>2.877312e+09</td>\n",
       "      <td>3.012914e+09</td>\n",
       "      <td>NaN</td>\n",
       "    </tr>\n",
       "  </tbody>\n",
       "</table>\n",
       "<p>5 rows × 63 columns</p>\n",
       "</div>"
      ],
      "text/plain": [
       "  Country Name Country Code     Indicator Name  Indicator Code          1960  \\\n",
       "0        Aruba          ABW  GDP (current US$)  NY.GDP.MKTP.CD           NaN   \n",
       "1  Afghanistan          AFG  GDP (current US$)  NY.GDP.MKTP.CD  5.377778e+08   \n",
       "2       Angola          AGO  GDP (current US$)  NY.GDP.MKTP.CD           NaN   \n",
       "3      Albania          ALB  GDP (current US$)  NY.GDP.MKTP.CD           NaN   \n",
       "4      Andorra          AND  GDP (current US$)  NY.GDP.MKTP.CD           NaN   \n",
       "\n",
       "           1961          1962          1963          1964          1965  \\\n",
       "0           NaN           NaN           NaN           NaN           NaN   \n",
       "1  5.488889e+08  5.466667e+08  7.511112e+08  8.000000e+08  1.006667e+09   \n",
       "2           NaN           NaN           NaN           NaN           NaN   \n",
       "3           NaN           NaN           NaN           NaN           NaN   \n",
       "4           NaN           NaN           NaN           NaN           NaN   \n",
       "\n",
       "      ...               2009          2010          2011          2012  \\\n",
       "0     ...       2.498933e+09  2.467704e+09  2.584464e+09           NaN   \n",
       "1     ...       1.248694e+10  1.593680e+10  1.793024e+10  2.053654e+10   \n",
       "2     ...       7.549239e+10  8.252614e+10  1.041158e+11  1.139232e+11   \n",
       "3     ...       1.204421e+10  1.192695e+10  1.289087e+10  1.231978e+10   \n",
       "4     ...       3.660531e+09  3.355695e+09  3.442063e+09  3.164615e+09   \n",
       "\n",
       "           2013          2014          2015          2016          2017  \\\n",
       "0           NaN           NaN           NaN           NaN           NaN   \n",
       "1  2.026425e+10  2.061610e+10  1.921556e+10  1.946902e+10  2.081530e+10   \n",
       "2  1.249125e+11  1.267302e+11  1.026212e+11  9.533720e+10  1.242094e+11   \n",
       "3  1.277628e+10  1.322824e+10  1.138693e+10  1.188368e+10  1.303935e+10   \n",
       "4  3.281585e+09  3.350736e+09  2.811489e+09  2.877312e+09  3.012914e+09   \n",
       "\n",
       "   Unnamed: 62  \n",
       "0          NaN  \n",
       "1          NaN  \n",
       "2          NaN  \n",
       "3          NaN  \n",
       "4          NaN  \n",
       "\n",
       "[5 rows x 63 columns]"
      ]
     },
     "execution_count": 41,
     "metadata": {},
     "output_type": "execute_result"
    }
   ],
   "source": [
    "gdpdf.head()"
   ]
  },
  {
   "cell_type": "code",
   "execution_count": 49,
   "metadata": {},
   "outputs": [],
   "source": [
    "gdpdf = gdpdf[['Country Name', '2012']]"
   ]
  },
  {
   "cell_type": "code",
   "execution_count": 50,
   "metadata": {},
   "outputs": [],
   "source": [
    "gdpdf.columns = ['Country Name', 'gdp']"
   ]
  },
  {
   "cell_type": "code",
   "execution_count": 51,
   "metadata": {},
   "outputs": [
    {
     "data": {
      "text/html": [
       "<div>\n",
       "<table border=\"1\" class=\"dataframe\">\n",
       "  <thead>\n",
       "    <tr style=\"text-align: right;\">\n",
       "      <th></th>\n",
       "      <th>Country Name</th>\n",
       "      <th>gdp</th>\n",
       "    </tr>\n",
       "  </thead>\n",
       "  <tbody>\n",
       "    <tr>\n",
       "      <th>0</th>\n",
       "      <td>Aruba</td>\n",
       "      <td>NaN</td>\n",
       "    </tr>\n",
       "    <tr>\n",
       "      <th>1</th>\n",
       "      <td>Afghanistan</td>\n",
       "      <td>2.053654e+10</td>\n",
       "    </tr>\n",
       "    <tr>\n",
       "      <th>2</th>\n",
       "      <td>Angola</td>\n",
       "      <td>1.139232e+11</td>\n",
       "    </tr>\n",
       "    <tr>\n",
       "      <th>3</th>\n",
       "      <td>Albania</td>\n",
       "      <td>1.231978e+10</td>\n",
       "    </tr>\n",
       "    <tr>\n",
       "      <th>4</th>\n",
       "      <td>Andorra</td>\n",
       "      <td>3.164615e+09</td>\n",
       "    </tr>\n",
       "  </tbody>\n",
       "</table>\n",
       "</div>"
      ],
      "text/plain": [
       "  Country Name           gdp\n",
       "0        Aruba           NaN\n",
       "1  Afghanistan  2.053654e+10\n",
       "2       Angola  1.139232e+11\n",
       "3      Albania  1.231978e+10\n",
       "4      Andorra  3.164615e+09"
      ]
     },
     "execution_count": 51,
     "metadata": {},
     "output_type": "execute_result"
    }
   ],
   "source": [
    "gdpdf.head()"
   ]
  },
  {
   "cell_type": "code",
   "execution_count": 53,
   "metadata": {},
   "outputs": [],
   "source": [
    "worlddf = pd.merge(popdf, gdpdf, on='Country Name')"
   ]
  },
  {
   "cell_type": "code",
   "execution_count": 54,
   "metadata": {},
   "outputs": [
    {
     "data": {
      "text/html": [
       "<div>\n",
       "<table border=\"1\" class=\"dataframe\">\n",
       "  <thead>\n",
       "    <tr style=\"text-align: right;\">\n",
       "      <th></th>\n",
       "      <th>Country Name</th>\n",
       "      <th>pop</th>\n",
       "      <th>gdp</th>\n",
       "    </tr>\n",
       "  </thead>\n",
       "  <tbody>\n",
       "    <tr>\n",
       "      <th>0</th>\n",
       "      <td>Aruba</td>\n",
       "      <td>102577.0</td>\n",
       "      <td>NaN</td>\n",
       "    </tr>\n",
       "    <tr>\n",
       "      <th>1</th>\n",
       "      <td>Afghanistan</td>\n",
       "      <td>30696958.0</td>\n",
       "      <td>2.053654e+10</td>\n",
       "    </tr>\n",
       "    <tr>\n",
       "      <th>2</th>\n",
       "      <td>Angola</td>\n",
       "      <td>25096150.0</td>\n",
       "      <td>1.139232e+11</td>\n",
       "    </tr>\n",
       "    <tr>\n",
       "      <th>3</th>\n",
       "      <td>Albania</td>\n",
       "      <td>2900401.0</td>\n",
       "      <td>1.231978e+10</td>\n",
       "    </tr>\n",
       "    <tr>\n",
       "      <th>4</th>\n",
       "      <td>Andorra</td>\n",
       "      <td>82431.0</td>\n",
       "      <td>3.164615e+09</td>\n",
       "    </tr>\n",
       "  </tbody>\n",
       "</table>\n",
       "</div>"
      ],
      "text/plain": [
       "  Country Name         pop           gdp\n",
       "0        Aruba    102577.0           NaN\n",
       "1  Afghanistan  30696958.0  2.053654e+10\n",
       "2       Angola  25096150.0  1.139232e+11\n",
       "3      Albania   2900401.0  1.231978e+10\n",
       "4      Andorra     82431.0  3.164615e+09"
      ]
     },
     "execution_count": 54,
     "metadata": {},
     "output_type": "execute_result"
    }
   ],
   "source": [
    "worlddf.head()"
   ]
  },
  {
   "cell_type": "code",
   "execution_count": 55,
   "metadata": {},
   "outputs": [
    {
     "data": {
      "text/html": [
       "<div>\n",
       "<table border=\"1\" class=\"dataframe\">\n",
       "  <thead>\n",
       "    <tr style=\"text-align: right;\">\n",
       "      <th></th>\n",
       "      <th>Country</th>\n",
       "      <th>ISO code</th>\n",
       "      <th>Source</th>\n",
       "      <th>% of homicides by firearm</th>\n",
       "      <th>Number of homicides by firearm</th>\n",
       "      <th>Homicide by firearm rate per 100,000 pop</th>\n",
       "      <th>Rank by rate of ownership</th>\n",
       "      <th>Average firearms per 100 people</th>\n",
       "      <th>Average total all civilian firearms</th>\n",
       "    </tr>\n",
       "  </thead>\n",
       "  <tbody>\n",
       "    <tr>\n",
       "      <th>0</th>\n",
       "      <td>Albania</td>\n",
       "      <td>AL</td>\n",
       "      <td>CTS</td>\n",
       "      <td>65.9</td>\n",
       "      <td>56.0</td>\n",
       "      <td>1.76</td>\n",
       "      <td>70.0</td>\n",
       "      <td>8.6</td>\n",
       "      <td>270000.0</td>\n",
       "    </tr>\n",
       "    <tr>\n",
       "      <th>1</th>\n",
       "      <td>Algeria</td>\n",
       "      <td>DZ</td>\n",
       "      <td>CTS</td>\n",
       "      <td>4.8</td>\n",
       "      <td>20.0</td>\n",
       "      <td>0.06</td>\n",
       "      <td>78.0</td>\n",
       "      <td>7.6</td>\n",
       "      <td>1900000.0</td>\n",
       "    </tr>\n",
       "    <tr>\n",
       "      <th>2</th>\n",
       "      <td>Angola</td>\n",
       "      <td>AO</td>\n",
       "      <td>NaN</td>\n",
       "      <td>NaN</td>\n",
       "      <td>NaN</td>\n",
       "      <td>NaN</td>\n",
       "      <td>34.0</td>\n",
       "      <td>17.3</td>\n",
       "      <td>2800000.0</td>\n",
       "    </tr>\n",
       "    <tr>\n",
       "      <th>3</th>\n",
       "      <td>Anguilla</td>\n",
       "      <td>AI</td>\n",
       "      <td>WHO-MDB</td>\n",
       "      <td>24.0</td>\n",
       "      <td>1.0</td>\n",
       "      <td>7.14</td>\n",
       "      <td>NaN</td>\n",
       "      <td>NaN</td>\n",
       "      <td>NaN</td>\n",
       "    </tr>\n",
       "    <tr>\n",
       "      <th>4</th>\n",
       "      <td>Argentina</td>\n",
       "      <td>AR</td>\n",
       "      <td>Ministry of Justice</td>\n",
       "      <td>52.0</td>\n",
       "      <td>1198.0</td>\n",
       "      <td>3.02</td>\n",
       "      <td>62.0</td>\n",
       "      <td>10.2</td>\n",
       "      <td>3950000.0</td>\n",
       "    </tr>\n",
       "  </tbody>\n",
       "</table>\n",
       "</div>"
      ],
      "text/plain": [
       "     Country ISO code               Source  % of homicides by firearm  \\\n",
       "0    Albania       AL                  CTS                       65.9   \n",
       "1    Algeria       DZ                  CTS                        4.8   \n",
       "2     Angola       AO                  NaN                        NaN   \n",
       "3   Anguilla       AI              WHO-MDB                       24.0   \n",
       "4  Argentina       AR  Ministry of Justice                       52.0   \n",
       "\n",
       "   Number of homicides by firearm  Homicide by firearm rate per 100,000 pop  \\\n",
       "0                            56.0                                      1.76   \n",
       "1                            20.0                                      0.06   \n",
       "2                             NaN                                       NaN   \n",
       "3                             1.0                                      7.14   \n",
       "4                          1198.0                                      3.02   \n",
       "\n",
       "   Rank by rate of ownership  Average firearms per 100 people  \\\n",
       "0                       70.0                              8.6   \n",
       "1                       78.0                              7.6   \n",
       "2                       34.0                             17.3   \n",
       "3                        NaN                              NaN   \n",
       "4                       62.0                             10.2   \n",
       "\n",
       "   Average total all civilian firearms  \n",
       "0                             270000.0  \n",
       "1                            1900000.0  \n",
       "2                            2800000.0  \n",
       "3                                  NaN  \n",
       "4                            3950000.0  "
      ]
     },
     "execution_count": 55,
     "metadata": {},
     "output_type": "execute_result"
    }
   ],
   "source": [
    "ms.head()"
   ]
  },
  {
   "cell_type": "code",
   "execution_count": 106,
   "metadata": {},
   "outputs": [
    {
     "data": {
      "text/html": [
       "<div>\n",
       "<table border=\"1\" class=\"dataframe\">\n",
       "  <thead>\n",
       "    <tr style=\"text-align: right;\">\n",
       "      <th></th>\n",
       "      <th>Country Name</th>\n",
       "      <th>pop</th>\n",
       "      <th>gdp</th>\n",
       "      <th>Country</th>\n",
       "      <th>ISO code</th>\n",
       "      <th>Source</th>\n",
       "      <th>% of homicides by firearm</th>\n",
       "      <th>Number of homicides by firearm</th>\n",
       "      <th>Homicide by firearm rate per 100,000 pop</th>\n",
       "      <th>Rank by rate of ownership</th>\n",
       "      <th>Average firearms per 100 people</th>\n",
       "      <th>Average total all civilian firearms</th>\n",
       "    </tr>\n",
       "  </thead>\n",
       "  <tbody>\n",
       "    <tr>\n",
       "      <th>0</th>\n",
       "      <td>Angola</td>\n",
       "      <td>25096150.0</td>\n",
       "      <td>1.139232e+11</td>\n",
       "      <td>Angola</td>\n",
       "      <td>AO</td>\n",
       "      <td>NaN</td>\n",
       "      <td>NaN</td>\n",
       "      <td>NaN</td>\n",
       "      <td>NaN</td>\n",
       "      <td>34.0</td>\n",
       "      <td>17.3</td>\n",
       "      <td>2800000.0</td>\n",
       "    </tr>\n",
       "    <tr>\n",
       "      <th>1</th>\n",
       "      <td>Albania</td>\n",
       "      <td>2900401.0</td>\n",
       "      <td>1.231978e+10</td>\n",
       "      <td>Albania</td>\n",
       "      <td>AL</td>\n",
       "      <td>CTS</td>\n",
       "      <td>65.9</td>\n",
       "      <td>56.0</td>\n",
       "      <td>1.76</td>\n",
       "      <td>70.0</td>\n",
       "      <td>8.6</td>\n",
       "      <td>270000.0</td>\n",
       "    </tr>\n",
       "    <tr>\n",
       "      <th>2</th>\n",
       "      <td>United Arab Emirates</td>\n",
       "      <td>8900453.0</td>\n",
       "      <td>3.745906e+11</td>\n",
       "      <td>United Arab Emirates</td>\n",
       "      <td>AE</td>\n",
       "      <td>NaN</td>\n",
       "      <td>NaN</td>\n",
       "      <td>NaN</td>\n",
       "      <td>NaN</td>\n",
       "      <td>24.0</td>\n",
       "      <td>22.1</td>\n",
       "      <td>1000000.0</td>\n",
       "    </tr>\n",
       "    <tr>\n",
       "      <th>3</th>\n",
       "      <td>Argentina</td>\n",
       "      <td>42096739.0</td>\n",
       "      <td>5.459824e+11</td>\n",
       "      <td>Argentina</td>\n",
       "      <td>AR</td>\n",
       "      <td>Ministry of Justice</td>\n",
       "      <td>52.0</td>\n",
       "      <td>1198.0</td>\n",
       "      <td>3.02</td>\n",
       "      <td>62.0</td>\n",
       "      <td>10.2</td>\n",
       "      <td>3950000.0</td>\n",
       "    </tr>\n",
       "    <tr>\n",
       "      <th>4</th>\n",
       "      <td>Armenia</td>\n",
       "      <td>2881922.0</td>\n",
       "      <td>1.061932e+10</td>\n",
       "      <td>Armenia</td>\n",
       "      <td>AM</td>\n",
       "      <td>CTS</td>\n",
       "      <td>13.0</td>\n",
       "      <td>9.0</td>\n",
       "      <td>0.29</td>\n",
       "      <td>52.0</td>\n",
       "      <td>12.5</td>\n",
       "      <td>380000.0</td>\n",
       "    </tr>\n",
       "  </tbody>\n",
       "</table>\n",
       "</div>"
      ],
      "text/plain": [
       "           Country Name         pop           gdp               Country  \\\n",
       "0                Angola  25096150.0  1.139232e+11                Angola   \n",
       "1               Albania   2900401.0  1.231978e+10               Albania   \n",
       "2  United Arab Emirates   8900453.0  3.745906e+11  United Arab Emirates   \n",
       "3             Argentina  42096739.0  5.459824e+11             Argentina   \n",
       "4               Armenia   2881922.0  1.061932e+10               Armenia   \n",
       "\n",
       "  ISO code               Source  % of homicides by firearm  \\\n",
       "0       AO                  NaN                        NaN   \n",
       "1       AL                  CTS                       65.9   \n",
       "2       AE                  NaN                        NaN   \n",
       "3       AR  Ministry of Justice                       52.0   \n",
       "4       AM                  CTS                       13.0   \n",
       "\n",
       "   Number of homicides by firearm  Homicide by firearm rate per 100,000 pop  \\\n",
       "0                             NaN                                       NaN   \n",
       "1                            56.0                                      1.76   \n",
       "2                             NaN                                       NaN   \n",
       "3                          1198.0                                      3.02   \n",
       "4                             9.0                                      0.29   \n",
       "\n",
       "   Rank by rate of ownership  Average firearms per 100 people  \\\n",
       "0                       34.0                             17.3   \n",
       "1                       70.0                              8.6   \n",
       "2                       24.0                             22.1   \n",
       "3                       62.0                             10.2   \n",
       "4                       52.0                             12.5   \n",
       "\n",
       "   Average total all civilian firearms  \n",
       "0                            2800000.0  \n",
       "1                             270000.0  \n",
       "2                            1000000.0  \n",
       "3                            3950000.0  \n",
       "4                             380000.0  "
      ]
     },
     "execution_count": 106,
     "metadata": {},
     "output_type": "execute_result"
    }
   ],
   "source": [
    "wdf = worlddf.merge(ms, left_on=\"Country Name\", right_on=\"Country\")\n",
    "wdf.head()"
   ]
  },
  {
   "cell_type": "code",
   "execution_count": 107,
   "metadata": {},
   "outputs": [
    {
     "data": {
      "text/plain": [
       "Index(['Country Name', 'pop', 'gdp', 'Country', 'ISO code', 'Source',\n",
       "       '% of homicides by firearm', 'Number of homicides by firearm',\n",
       "       'Homicide by firearm rate per 100,000 pop', 'Rank by rate of ownership',\n",
       "       'Average firearms per 100 people',\n",
       "       'Average total all civilian firearms'],\n",
       "      dtype='object')"
      ]
     },
     "execution_count": 107,
     "metadata": {},
     "output_type": "execute_result"
    }
   ],
   "source": [
    "wdf.columns"
   ]
  },
  {
   "cell_type": "code",
   "execution_count": 108,
   "metadata": {},
   "outputs": [],
   "source": [
    "wdf = wdf[['Country Name', 'pop', 'gdp', 'Country',\n",
    "        'Number of homicides by firearm',\n",
    "       'Homicide by firearm rate per 100,000 pop',\n",
    "       'Average firearms per 100 people',\n",
    "       'Average total all civilian firearms']]"
   ]
  },
  {
   "cell_type": "code",
   "execution_count": 109,
   "metadata": {},
   "outputs": [
    {
     "data": {
      "text/html": [
       "<div>\n",
       "<table border=\"1\" class=\"dataframe\">\n",
       "  <thead>\n",
       "    <tr style=\"text-align: right;\">\n",
       "      <th></th>\n",
       "      <th>Country Name</th>\n",
       "      <th>pop</th>\n",
       "      <th>gdp</th>\n",
       "      <th>Country</th>\n",
       "      <th>Number of homicides by firearm</th>\n",
       "      <th>Homicide by firearm rate per 100,000 pop</th>\n",
       "      <th>Average firearms per 100 people</th>\n",
       "      <th>Average total all civilian firearms</th>\n",
       "    </tr>\n",
       "  </thead>\n",
       "  <tbody>\n",
       "    <tr>\n",
       "      <th>0</th>\n",
       "      <td>Angola</td>\n",
       "      <td>25096150.0</td>\n",
       "      <td>1.139232e+11</td>\n",
       "      <td>Angola</td>\n",
       "      <td>NaN</td>\n",
       "      <td>NaN</td>\n",
       "      <td>17.3</td>\n",
       "      <td>2800000.0</td>\n",
       "    </tr>\n",
       "    <tr>\n",
       "      <th>1</th>\n",
       "      <td>Albania</td>\n",
       "      <td>2900401.0</td>\n",
       "      <td>1.231978e+10</td>\n",
       "      <td>Albania</td>\n",
       "      <td>56.0</td>\n",
       "      <td>1.76</td>\n",
       "      <td>8.6</td>\n",
       "      <td>270000.0</td>\n",
       "    </tr>\n",
       "    <tr>\n",
       "      <th>2</th>\n",
       "      <td>United Arab Emirates</td>\n",
       "      <td>8900453.0</td>\n",
       "      <td>3.745906e+11</td>\n",
       "      <td>United Arab Emirates</td>\n",
       "      <td>NaN</td>\n",
       "      <td>NaN</td>\n",
       "      <td>22.1</td>\n",
       "      <td>1000000.0</td>\n",
       "    </tr>\n",
       "    <tr>\n",
       "      <th>3</th>\n",
       "      <td>Argentina</td>\n",
       "      <td>42096739.0</td>\n",
       "      <td>5.459824e+11</td>\n",
       "      <td>Argentina</td>\n",
       "      <td>1198.0</td>\n",
       "      <td>3.02</td>\n",
       "      <td>10.2</td>\n",
       "      <td>3950000.0</td>\n",
       "    </tr>\n",
       "    <tr>\n",
       "      <th>4</th>\n",
       "      <td>Armenia</td>\n",
       "      <td>2881922.0</td>\n",
       "      <td>1.061932e+10</td>\n",
       "      <td>Armenia</td>\n",
       "      <td>9.0</td>\n",
       "      <td>0.29</td>\n",
       "      <td>12.5</td>\n",
       "      <td>380000.0</td>\n",
       "    </tr>\n",
       "  </tbody>\n",
       "</table>\n",
       "</div>"
      ],
      "text/plain": [
       "           Country Name         pop           gdp               Country  \\\n",
       "0                Angola  25096150.0  1.139232e+11                Angola   \n",
       "1               Albania   2900401.0  1.231978e+10               Albania   \n",
       "2  United Arab Emirates   8900453.0  3.745906e+11  United Arab Emirates   \n",
       "3             Argentina  42096739.0  5.459824e+11             Argentina   \n",
       "4               Armenia   2881922.0  1.061932e+10               Armenia   \n",
       "\n",
       "   Number of homicides by firearm  Homicide by firearm rate per 100,000 pop  \\\n",
       "0                             NaN                                       NaN   \n",
       "1                            56.0                                      1.76   \n",
       "2                             NaN                                       NaN   \n",
       "3                          1198.0                                      3.02   \n",
       "4                             9.0                                      0.29   \n",
       "\n",
       "   Average firearms per 100 people  Average total all civilian firearms  \n",
       "0                             17.3                            2800000.0  \n",
       "1                              8.6                             270000.0  \n",
       "2                             22.1                            1000000.0  \n",
       "3                             10.2                            3950000.0  \n",
       "4                             12.5                             380000.0  "
      ]
     },
     "execution_count": 109,
     "metadata": {},
     "output_type": "execute_result"
    }
   ],
   "source": [
    "wdf.head()"
   ]
  },
  {
   "cell_type": "code",
   "execution_count": 110,
   "metadata": {},
   "outputs": [
    {
     "data": {
      "text/plain": [
       "(155, 8)"
      ]
     },
     "execution_count": 110,
     "metadata": {},
     "output_type": "execute_result"
    }
   ],
   "source": [
    "wdf.shape"
   ]
  },
  {
   "cell_type": "code",
   "execution_count": 111,
   "metadata": {},
   "outputs": [],
   "source": [
    "url = 'data:application/octet-stream;charset=utf-8,Country%2CGuns%20per%20100%20inhabitants%2CNumber%20of%20mass%20shootings%20(1983-2013)%0AAustralia%2C15%2C4%0AAustria%2C30.4%2C1%0ABelgium%2C17.2%2C2%0ACanada%2C30.8%2C4%0ADenmark%2C12%2C0%0AFinland%2C45.3%2C2%0AFrance%2C31.2%2C6%0AGermany%2C30.3%2C7%0AGreece%2C22.5%2C0%0AHolland%2C3.9%2C2%0AHungary%2C5.5%2C0%0AIceland%2C30.3%2C0%0AIreland%2C8.6%2C0%0AItaly%2C11.9%2C0%0AJapan%2C0.6%2C0%0ALuxembourg%2C15.3%2C0%0ANew%20Zealand%2C22.6%2C3%0ANorway%2C31.3%2C1%0APoland%2C1.3%2C0%0APortugal%2C8.5%2C1%0ASpain%2C10.4%2C1%0ASweden%2C31.6%2C2%0ASwitzerland%2C45.7%2C2%0AUnited%20Kingdom%2C6.2%2C3%0AUnited%20States%2C88.8%2C78'"
   ]
  },
  {
   "cell_type": "code",
   "execution_count": 112,
   "metadata": {},
   "outputs": [],
   "source": [
    "response = urllib.urlopen(url)\n",
    "cr = csv.reader(response)\n",
    "msdf = pd.read_csv(response)"
   ]
  },
  {
   "cell_type": "code",
   "execution_count": 84,
   "metadata": {},
   "outputs": [
    {
     "data": {
      "text/plain": [
       "<addinfourl at 139723021570848 whose fp = <_io.BytesIO object at 0x7f13cd0f7af0>>"
      ]
     },
     "execution_count": 84,
     "metadata": {},
     "output_type": "execute_result"
    }
   ],
   "source": [
    "response"
   ]
  },
  {
   "cell_type": "code",
   "execution_count": 113,
   "metadata": {},
   "outputs": [],
   "source": [
    "wdf = wdf.merge(msdf, right_on=\"Country\", left_on=\"Country Name\")"
   ]
  },
  {
   "cell_type": "code",
   "execution_count": 114,
   "metadata": {},
   "outputs": [
    {
     "data": {
      "text/html": [
       "<div>\n",
       "<table border=\"1\" class=\"dataframe\">\n",
       "  <thead>\n",
       "    <tr style=\"text-align: right;\">\n",
       "      <th></th>\n",
       "      <th>Country Name</th>\n",
       "      <th>pop</th>\n",
       "      <th>gdp</th>\n",
       "      <th>Country_x</th>\n",
       "      <th>Number of homicides by firearm</th>\n",
       "      <th>Homicide by firearm rate per 100,000 pop</th>\n",
       "      <th>Average firearms per 100 people</th>\n",
       "      <th>Average total all civilian firearms</th>\n",
       "      <th>Country_y</th>\n",
       "      <th>Guns per 100 inhabitants</th>\n",
       "      <th>Number of mass shootings (1983-2013)</th>\n",
       "    </tr>\n",
       "  </thead>\n",
       "  <tbody>\n",
       "    <tr>\n",
       "      <th>0</th>\n",
       "      <td>Australia</td>\n",
       "      <td>22742475.0</td>\n",
       "      <td>1.543411e+12</td>\n",
       "      <td>Australia</td>\n",
       "      <td>30.0</td>\n",
       "      <td>0.14</td>\n",
       "      <td>15.0</td>\n",
       "      <td>3050000.0</td>\n",
       "      <td>Australia</td>\n",
       "      <td>15.0</td>\n",
       "      <td>4</td>\n",
       "    </tr>\n",
       "    <tr>\n",
       "      <th>1</th>\n",
       "      <td>Austria</td>\n",
       "      <td>8429991.0</td>\n",
       "      <td>4.094252e+11</td>\n",
       "      <td>Austria</td>\n",
       "      <td>18.0</td>\n",
       "      <td>0.22</td>\n",
       "      <td>30.4</td>\n",
       "      <td>2500000.0</td>\n",
       "      <td>Austria</td>\n",
       "      <td>30.4</td>\n",
       "      <td>1</td>\n",
       "    </tr>\n",
       "    <tr>\n",
       "      <th>2</th>\n",
       "      <td>Belgium</td>\n",
       "      <td>11128246.0</td>\n",
       "      <td>4.978842e+11</td>\n",
       "      <td>Belgium</td>\n",
       "      <td>70.0</td>\n",
       "      <td>0.68</td>\n",
       "      <td>17.2</td>\n",
       "      <td>1800000.0</td>\n",
       "      <td>Belgium</td>\n",
       "      <td>17.2</td>\n",
       "      <td>2</td>\n",
       "    </tr>\n",
       "    <tr>\n",
       "      <th>3</th>\n",
       "      <td>Canada</td>\n",
       "      <td>34750545.0</td>\n",
       "      <td>1.824289e+12</td>\n",
       "      <td>Canada</td>\n",
       "      <td>173.0</td>\n",
       "      <td>0.51</td>\n",
       "      <td>30.8</td>\n",
       "      <td>9950000.0</td>\n",
       "      <td>Canada</td>\n",
       "      <td>30.8</td>\n",
       "      <td>4</td>\n",
       "    </tr>\n",
       "    <tr>\n",
       "      <th>4</th>\n",
       "      <td>Switzerland</td>\n",
       "      <td>7996861.0</td>\n",
       "      <td>6.680436e+11</td>\n",
       "      <td>Switzerland</td>\n",
       "      <td>57.0</td>\n",
       "      <td>0.77</td>\n",
       "      <td>45.7</td>\n",
       "      <td>3400000.0</td>\n",
       "      <td>Switzerland</td>\n",
       "      <td>45.7</td>\n",
       "      <td>2</td>\n",
       "    </tr>\n",
       "  </tbody>\n",
       "</table>\n",
       "</div>"
      ],
      "text/plain": [
       "  Country Name         pop           gdp    Country_x  \\\n",
       "0    Australia  22742475.0  1.543411e+12    Australia   \n",
       "1      Austria   8429991.0  4.094252e+11      Austria   \n",
       "2      Belgium  11128246.0  4.978842e+11      Belgium   \n",
       "3       Canada  34750545.0  1.824289e+12       Canada   \n",
       "4  Switzerland   7996861.0  6.680436e+11  Switzerland   \n",
       "\n",
       "   Number of homicides by firearm  Homicide by firearm rate per 100,000 pop  \\\n",
       "0                            30.0                                      0.14   \n",
       "1                            18.0                                      0.22   \n",
       "2                            70.0                                      0.68   \n",
       "3                           173.0                                      0.51   \n",
       "4                            57.0                                      0.77   \n",
       "\n",
       "   Average firearms per 100 people  Average total all civilian firearms  \\\n",
       "0                             15.0                            3050000.0   \n",
       "1                             30.4                            2500000.0   \n",
       "2                             17.2                            1800000.0   \n",
       "3                             30.8                            9950000.0   \n",
       "4                             45.7                            3400000.0   \n",
       "\n",
       "     Country_y  Guns per 100 inhabitants  Number of mass shootings (1983-2013)  \n",
       "0    Australia                      15.0                                     4  \n",
       "1      Austria                      30.4                                     1  \n",
       "2      Belgium                      17.2                                     2  \n",
       "3       Canada                      30.8                                     4  \n",
       "4  Switzerland                      45.7                                     2  "
      ]
     },
     "execution_count": 114,
     "metadata": {},
     "output_type": "execute_result"
    }
   ],
   "source": [
    "wdf.head()"
   ]
  },
  {
   "cell_type": "code",
   "execution_count": 115,
   "metadata": {},
   "outputs": [],
   "source": [
    "wdf = wdf[['Country Name', 'pop', 'gdp', 'Country_x',\n",
    "        'Number of homicides by firearm',\n",
    "       'Homicide by firearm rate per 100,000 pop',\n",
    "       'Average firearms per 100 people',\n",
    "       'Average total all civilian firearms', 'Number of mass shootings (1983-2013)']]"
   ]
  },
  {
   "cell_type": "code",
   "execution_count": 116,
   "metadata": {},
   "outputs": [],
   "source": [
    "wdf.columns = ['Country Name', 'pop', 'gdp', 'Country',\n",
    "        'Number of homicides by firearm',\n",
    "       'Homicide by firearm rate per 100,000 pop',\n",
    "       'Guns/100 inhabitants',\n",
    "       'Average total all civilian firearms', 'Number of mass shootings']"
   ]
  },
  {
   "cell_type": "code",
   "execution_count": 117,
   "metadata": {},
   "outputs": [
    {
     "data": {
      "text/html": [
       "<div>\n",
       "<table border=\"1\" class=\"dataframe\">\n",
       "  <thead>\n",
       "    <tr style=\"text-align: right;\">\n",
       "      <th></th>\n",
       "      <th>Country Name</th>\n",
       "      <th>pop</th>\n",
       "      <th>gdp</th>\n",
       "      <th>Country</th>\n",
       "      <th>Number of homicides by firearm</th>\n",
       "      <th>Homicide by firearm rate per 100,000 pop</th>\n",
       "      <th>Guns/100 inhabitants</th>\n",
       "      <th>Average total all civilian firearms</th>\n",
       "      <th>Number of mass shootings</th>\n",
       "    </tr>\n",
       "  </thead>\n",
       "  <tbody>\n",
       "    <tr>\n",
       "      <th>0</th>\n",
       "      <td>Australia</td>\n",
       "      <td>22742475.0</td>\n",
       "      <td>1.543411e+12</td>\n",
       "      <td>Australia</td>\n",
       "      <td>30.0</td>\n",
       "      <td>0.14</td>\n",
       "      <td>15.0</td>\n",
       "      <td>3050000.0</td>\n",
       "      <td>4</td>\n",
       "    </tr>\n",
       "    <tr>\n",
       "      <th>1</th>\n",
       "      <td>Austria</td>\n",
       "      <td>8429991.0</td>\n",
       "      <td>4.094252e+11</td>\n",
       "      <td>Austria</td>\n",
       "      <td>18.0</td>\n",
       "      <td>0.22</td>\n",
       "      <td>30.4</td>\n",
       "      <td>2500000.0</td>\n",
       "      <td>1</td>\n",
       "    </tr>\n",
       "    <tr>\n",
       "      <th>2</th>\n",
       "      <td>Belgium</td>\n",
       "      <td>11128246.0</td>\n",
       "      <td>4.978842e+11</td>\n",
       "      <td>Belgium</td>\n",
       "      <td>70.0</td>\n",
       "      <td>0.68</td>\n",
       "      <td>17.2</td>\n",
       "      <td>1800000.0</td>\n",
       "      <td>2</td>\n",
       "    </tr>\n",
       "    <tr>\n",
       "      <th>3</th>\n",
       "      <td>Canada</td>\n",
       "      <td>34750545.0</td>\n",
       "      <td>1.824289e+12</td>\n",
       "      <td>Canada</td>\n",
       "      <td>173.0</td>\n",
       "      <td>0.51</td>\n",
       "      <td>30.8</td>\n",
       "      <td>9950000.0</td>\n",
       "      <td>4</td>\n",
       "    </tr>\n",
       "    <tr>\n",
       "      <th>4</th>\n",
       "      <td>Switzerland</td>\n",
       "      <td>7996861.0</td>\n",
       "      <td>6.680436e+11</td>\n",
       "      <td>Switzerland</td>\n",
       "      <td>57.0</td>\n",
       "      <td>0.77</td>\n",
       "      <td>45.7</td>\n",
       "      <td>3400000.0</td>\n",
       "      <td>2</td>\n",
       "    </tr>\n",
       "  </tbody>\n",
       "</table>\n",
       "</div>"
      ],
      "text/plain": [
       "  Country Name         pop           gdp      Country  \\\n",
       "0    Australia  22742475.0  1.543411e+12    Australia   \n",
       "1      Austria   8429991.0  4.094252e+11      Austria   \n",
       "2      Belgium  11128246.0  4.978842e+11      Belgium   \n",
       "3       Canada  34750545.0  1.824289e+12       Canada   \n",
       "4  Switzerland   7996861.0  6.680436e+11  Switzerland   \n",
       "\n",
       "   Number of homicides by firearm  Homicide by firearm rate per 100,000 pop  \\\n",
       "0                            30.0                                      0.14   \n",
       "1                            18.0                                      0.22   \n",
       "2                            70.0                                      0.68   \n",
       "3                           173.0                                      0.51   \n",
       "4                            57.0                                      0.77   \n",
       "\n",
       "   Guns/100 inhabitants  Average total all civilian firearms  \\\n",
       "0                  15.0                            3050000.0   \n",
       "1                  30.4                            2500000.0   \n",
       "2                  17.2                            1800000.0   \n",
       "3                  30.8                            9950000.0   \n",
       "4                  45.7                            3400000.0   \n",
       "\n",
       "   Number of mass shootings  \n",
       "0                         4  \n",
       "1                         1  \n",
       "2                         2  \n",
       "3                         4  \n",
       "4                         2  "
      ]
     },
     "execution_count": 117,
     "metadata": {},
     "output_type": "execute_result"
    }
   ],
   "source": [
    "wdf.head()"
   ]
  },
  {
   "cell_type": "code",
   "execution_count": null,
   "metadata": {},
   "outputs": [],
   "source": []
  },
  {
   "cell_type": "code",
   "execution_count": null,
   "metadata": {},
   "outputs": [],
   "source": []
  },
  {
   "cell_type": "code",
   "execution_count": 4,
   "metadata": {
    "ExecuteTime": {
     "end_time": "2017-10-12T11:18:40.575581",
     "start_time": "2017-10-12T11:18:40.446116"
    },
    "run_control": {
     "frozen": false,
     "read_only": false
    }
   },
   "outputs": [
    {
     "name": "stdout",
     "output_type": "stream",
     "text": [
      "Populating the interactive namespace from numpy and matplotlib\n"
     ]
    },
    {
     "data": {
      "text/html": [
       "<div>\n",
       "<table border=\"1\" class=\"dataframe\">\n",
       "  <thead>\n",
       "    <tr style=\"text-align: right;\">\n",
       "      <th></th>\n",
       "      <th>Country Name</th>\n",
       "      <th>Average total all civilian firearms</th>\n",
       "      <th>pop</th>\n",
       "      <th>gdp</th>\n",
       "      <th>Number of homicides by firearm</th>\n",
       "      <th>Country</th>\n",
       "      <th>Guns/100 inhabitants</th>\n",
       "      <th>Number of mass shootings</th>\n",
       "    </tr>\n",
       "  </thead>\n",
       "  <tbody>\n",
       "    <tr>\n",
       "      <th>0</th>\n",
       "      <td>Australia</td>\n",
       "      <td>3050000.0</td>\n",
       "      <td>22728254.0</td>\n",
       "      <td>1.538194e+12</td>\n",
       "      <td>30.0</td>\n",
       "      <td>Australia</td>\n",
       "      <td>15.0</td>\n",
       "      <td>4</td>\n",
       "    </tr>\n",
       "    <tr>\n",
       "      <th>1</th>\n",
       "      <td>Austria</td>\n",
       "      <td>2500000.0</td>\n",
       "      <td>8429991.0</td>\n",
       "      <td>4.074516e+11</td>\n",
       "      <td>18.0</td>\n",
       "      <td>Austria</td>\n",
       "      <td>30.4</td>\n",
       "      <td>1</td>\n",
       "    </tr>\n",
       "    <tr>\n",
       "      <th>2</th>\n",
       "      <td>Canada</td>\n",
       "      <td>9950000.0</td>\n",
       "      <td>34750545.0</td>\n",
       "      <td>1.824289e+12</td>\n",
       "      <td>173.0</td>\n",
       "      <td>Canada</td>\n",
       "      <td>30.8</td>\n",
       "      <td>4</td>\n",
       "    </tr>\n",
       "    <tr>\n",
       "      <th>3</th>\n",
       "      <td>Denmark</td>\n",
       "      <td>650000.0</td>\n",
       "      <td>5591572.0</td>\n",
       "      <td>3.271489e+11</td>\n",
       "      <td>15.0</td>\n",
       "      <td>Denmark</td>\n",
       "      <td>12.0</td>\n",
       "      <td>0</td>\n",
       "    </tr>\n",
       "    <tr>\n",
       "      <th>4</th>\n",
       "      <td>Finland</td>\n",
       "      <td>2400000.0</td>\n",
       "      <td>5413971.0</td>\n",
       "      <td>2.567065e+11</td>\n",
       "      <td>24.0</td>\n",
       "      <td>Finland</td>\n",
       "      <td>45.3</td>\n",
       "      <td>2</td>\n",
       "    </tr>\n",
       "  </tbody>\n",
       "</table>\n",
       "</div>"
      ],
      "text/plain": [
       "  Country Name  Average total all civilian firearms         pop           gdp  \\\n",
       "0    Australia                            3050000.0  22728254.0  1.538194e+12   \n",
       "1      Austria                            2500000.0   8429991.0  4.074516e+11   \n",
       "2       Canada                            9950000.0  34750545.0  1.824289e+12   \n",
       "3      Denmark                             650000.0   5591572.0  3.271489e+11   \n",
       "4      Finland                            2400000.0   5413971.0  2.567065e+11   \n",
       "\n",
       "   Number of homicides by firearm    Country  Guns/100 inhabitants  \\\n",
       "0                            30.0  Australia                  15.0   \n",
       "1                            18.0    Austria                  30.4   \n",
       "2                           173.0     Canada                  30.8   \n",
       "3                            15.0    Denmark                  12.0   \n",
       "4                            24.0    Finland                  45.3   \n",
       "\n",
       "   Number of mass shootings  \n",
       "0                         4  \n",
       "1                         1  \n",
       "2                         4  \n",
       "3                         0  \n",
       "4                         2  "
      ]
     },
     "execution_count": 4,
     "metadata": {},
     "output_type": "execute_result"
    }
   ],
   "source": [
    "# df = df.merge(ms, right_on=\"Country\", left_on=\"Country Name\")\n",
    "# df.head()"
   ]
  },
  {
   "cell_type": "markdown",
   "metadata": {
    "run_control": {
     "frozen": false,
     "read_only": false
    }
   },
   "source": [
    "# exploration\n",
    "\n",
    "## plot mass shooting vs gdp in absolute numbers, and per person. Show the errorbars (y errors)\n",
    "\n",
    "Use Poisson statistics for the errorbars on the number of mass shootings (optional: include errors on the population, also as Poisson statistics)\n",
    "\n",
    "Are there any points that look like they may be outilers?\n"
   ]
  },
  {
   "cell_type": "code",
   "execution_count": 163,
   "metadata": {
    "ExecuteTime": {
     "end_time": "2017-10-12T11:24:38.210994",
     "start_time": "2017-10-12T11:24:37.927232"
    },
    "run_control": {
     "frozen": false,
     "read_only": false
    }
   },
   "outputs": [
    {
     "data": {
      "image/png": "[encoded data removed]",
      "text/plain": [
       "<matplotlib.figure.Figure at 0x7f13ca5fe898>"
      ]
     },
     "metadata": {},
     "output_type": "display_data"
    },
    {
     "name": "stdout",
     "output_type": "stream",
     "text": [
      "Figure 1: Number of mass shooting vs GDP, errors represent Poisson statistics.\n",
      "The datapoint to the top right of the plot is the USA, which has noth the highest GDP and the highest number of mass shootings\n"
     ]
    }
   ],
   "source": [
    "fig = pl.figure(figsize=(10,5)) \n",
    "ax = fig.add_subplot(111)\n",
    "\n",
    "scatter = ax.scatter(wdf.gdp / 1e9, wdf['Number of mass shootings'])\n",
    "ax.errorbar(wdf.gdp / 1e9, wdf['Number of mass shootings'], \n",
    "            yerr = np.sqrt(wdf['Number of mass shootings'] * 1.0), fmt = '.')\n",
    "ax.set_xlabel(\"GDP (in billions)\")\n",
    "ax.set_ylabel(\"Number of mass shooting\")\n",
    "plt.title('GDP and mass shootings')\n",
    "ax.set_ylim()\n",
    "pl.show()\n",
    "print (\"Figure 1: Number of mass shooting vs GDP, \" + \n",
    "       \"errors represent Poisson statistics.\\n\" + \n",
    "       \"The datapoint to the top right of the plot is the USA, \" + \n",
    "       \"which has the highest GDP and the highest number of mass shootings\")\n"
   ]
  },
  {
   "cell_type": "code",
   "execution_count": 164,
   "metadata": {},
   "outputs": [
    {
     "data": {
      "image/png": "[encoded data removed]",
      "text/plain": [
       "<matplotlib.figure.Figure at 0x7f13ca535438>"
      ]
     },
     "metadata": {},
     "output_type": "display_data"
    }
   ],
   "source": [
    "fig = pl.figure(figsize=(10,5)) \n",
    "ax = fig.add_subplot(111)\n",
    "\n",
    "MSperPerson = wdf['Number of mass shootings']/ wdf['pop']\n",
    "\n",
    "scatter = ax.scatter(wdf.gdp / 1e9, MSperPerson*1e6)\n",
    "ax.errorbar(wdf.gdp / 1e9, MSperPerson*1e6, \n",
    "            yerr = np.sqrt(MSperPerson * 1e6), fmt = '.')\n",
    "ax.set_xlabel(\"GDP (in billions)\")\n",
    "ax.set_ylabel(\"Number of mass shooting per 1 million people\")\n",
    "plt.title('GDP and Number of mass shooting per 1 million people')\n",
    "ax.set_ylim()\n",
    "pl.show()\n",
    "\n"
   ]
  },
  {
   "cell_type": "markdown",
   "metadata": {},
   "source": [
    "#### figure 2: adjusting by per person seems to introduce more error, now new zealand seems to be have the most mass shootings per 1 million people"
   ]
  },
  {
   "cell_type": "code",
   "execution_count": 136,
   "metadata": {},
   "outputs": [],
   "source": [
    "wdf['MSperPerson'] = (wdf['Number of mass shootings']/ wdf['pop'])*1e6"
   ]
  },
  {
   "cell_type": "code",
   "execution_count": 139,
   "metadata": {},
   "outputs": [
    {
     "name": "stderr",
     "output_type": "stream",
     "text": [
      "/usr/local/Anaconda3-5.0.0-Linux-x86_64/envs/PUI2016_Python3/lib/python3.5/site-packages/ipykernel/__main__.py:1: FutureWarning: sort(columns=....) is deprecated, use sort_values(by=.....)\n",
      "  if __name__ == '__main__':\n"
     ]
    },
    {
     "data": {
      "text/html": [
       "<div>\n",
       "<table border=\"1\" class=\"dataframe\">\n",
       "  <thead>\n",
       "    <tr style=\"text-align: right;\">\n",
       "      <th></th>\n",
       "      <th>Country Name</th>\n",
       "      <th>pop</th>\n",
       "      <th>gdp</th>\n",
       "      <th>Country</th>\n",
       "      <th>Number of homicides by firearm</th>\n",
       "      <th>Homicide by firearm rate per 100,000 pop</th>\n",
       "      <th>Guns/100 inhabitants</th>\n",
       "      <th>Average total all civilian firearms</th>\n",
       "      <th>Number of mass shootings</th>\n",
       "      <th>MSperPerson</th>\n",
       "    </tr>\n",
       "  </thead>\n",
       "  <tbody>\n",
       "    <tr>\n",
       "      <th>11</th>\n",
       "      <td>Hungary</td>\n",
       "      <td>9920362.0</td>\n",
       "      <td>1.278566e+11</td>\n",
       "      <td>Hungary</td>\n",
       "      <td>7.0</td>\n",
       "      <td>0.07</td>\n",
       "      <td>5.5</td>\n",
       "      <td>560000.0</td>\n",
       "      <td>0</td>\n",
       "      <td>0.000000</td>\n",
       "    </tr>\n",
       "    <tr>\n",
       "      <th>19</th>\n",
       "      <td>Poland</td>\n",
       "      <td>38063164.0</td>\n",
       "      <td>5.003608e+11</td>\n",
       "      <td>Poland</td>\n",
       "      <td>35.0</td>\n",
       "      <td>0.09</td>\n",
       "      <td>1.3</td>\n",
       "      <td>510000.0</td>\n",
       "      <td>0</td>\n",
       "      <td>0.000000</td>\n",
       "    </tr>\n",
       "    <tr>\n",
       "      <th>6</th>\n",
       "      <td>Denmark</td>\n",
       "      <td>5591572.0</td>\n",
       "      <td>3.271489e+11</td>\n",
       "      <td>Denmark</td>\n",
       "      <td>15.0</td>\n",
       "      <td>0.27</td>\n",
       "      <td>12.0</td>\n",
       "      <td>650000.0</td>\n",
       "      <td>0</td>\n",
       "      <td>0.000000</td>\n",
       "    </tr>\n",
       "    <tr>\n",
       "      <th>16</th>\n",
       "      <td>Luxembourg</td>\n",
       "      <td>530946.0</td>\n",
       "      <td>5.667796e+10</td>\n",
       "      <td>Luxembourg</td>\n",
       "      <td>3.0</td>\n",
       "      <td>0.62</td>\n",
       "      <td>15.3</td>\n",
       "      <td>70000.0</td>\n",
       "      <td>0</td>\n",
       "      <td>0.000000</td>\n",
       "    </tr>\n",
       "    <tr>\n",
       "      <th>10</th>\n",
       "      <td>Greece</td>\n",
       "      <td>11045011.0</td>\n",
       "      <td>2.456707e+11</td>\n",
       "      <td>Greece</td>\n",
       "      <td>29.0</td>\n",
       "      <td>0.26</td>\n",
       "      <td>22.5</td>\n",
       "      <td>2500000.0</td>\n",
       "      <td>0</td>\n",
       "      <td>0.000000</td>\n",
       "    </tr>\n",
       "    <tr>\n",
       "      <th>15</th>\n",
       "      <td>Japan</td>\n",
       "      <td>127629000.0</td>\n",
       "      <td>6.203213e+12</td>\n",
       "      <td>Japan</td>\n",
       "      <td>11.0</td>\n",
       "      <td>0.01</td>\n",
       "      <td>0.6</td>\n",
       "      <td>710000.0</td>\n",
       "      <td>0</td>\n",
       "      <td>0.000000</td>\n",
       "    </tr>\n",
       "    <tr>\n",
       "      <th>12</th>\n",
       "      <td>Ireland</td>\n",
       "      <td>4599533.0</td>\n",
       "      <td>2.255719e+11</td>\n",
       "      <td>Ireland</td>\n",
       "      <td>21.0</td>\n",
       "      <td>0.48</td>\n",
       "      <td>8.6</td>\n",
       "      <td>360000.0</td>\n",
       "      <td>0</td>\n",
       "      <td>0.000000</td>\n",
       "    </tr>\n",
       "    <tr>\n",
       "      <th>13</th>\n",
       "      <td>Iceland</td>\n",
       "      <td>320716.0</td>\n",
       "      <td>1.429201e+10</td>\n",
       "      <td>Iceland</td>\n",
       "      <td>0.0</td>\n",
       "      <td>0.00</td>\n",
       "      <td>30.3</td>\n",
       "      <td>90000.0</td>\n",
       "      <td>0</td>\n",
       "      <td>0.000000</td>\n",
       "    </tr>\n",
       "    <tr>\n",
       "      <th>14</th>\n",
       "      <td>Italy</td>\n",
       "      <td>59539717.0</td>\n",
       "      <td>2.072823e+12</td>\n",
       "      <td>Italy</td>\n",
       "      <td>417.0</td>\n",
       "      <td>0.71</td>\n",
       "      <td>11.9</td>\n",
       "      <td>7000000.0</td>\n",
       "      <td>0</td>\n",
       "      <td>0.000000</td>\n",
       "    </tr>\n",
       "    <tr>\n",
       "      <th>7</th>\n",
       "      <td>Spain</td>\n",
       "      <td>46773055.0</td>\n",
       "      <td>1.336019e+12</td>\n",
       "      <td>Spain</td>\n",
       "      <td>90.0</td>\n",
       "      <td>0.20</td>\n",
       "      <td>10.4</td>\n",
       "      <td>4500000.0</td>\n",
       "      <td>1</td>\n",
       "      <td>0.021380</td>\n",
       "    </tr>\n",
       "    <tr>\n",
       "      <th>5</th>\n",
       "      <td>Germany</td>\n",
       "      <td>80425823.0</td>\n",
       "      <td>3.543984e+12</td>\n",
       "      <td>Germany</td>\n",
       "      <td>158.0</td>\n",
       "      <td>0.19</td>\n",
       "      <td>30.3</td>\n",
       "      <td>25000000.0</td>\n",
       "      <td>7</td>\n",
       "      <td>0.087037</td>\n",
       "    </tr>\n",
       "    <tr>\n",
       "      <th>9</th>\n",
       "      <td>France</td>\n",
       "      <td>65659789.0</td>\n",
       "      <td>2.683825e+12</td>\n",
       "      <td>France</td>\n",
       "      <td>35.0</td>\n",
       "      <td>0.06</td>\n",
       "      <td>31.2</td>\n",
       "      <td>19000000.0</td>\n",
       "      <td>6</td>\n",
       "      <td>0.091380</td>\n",
       "    </tr>\n",
       "    <tr>\n",
       "      <th>20</th>\n",
       "      <td>Portugal</td>\n",
       "      <td>10514844.0</td>\n",
       "      <td>2.163682e+11</td>\n",
       "      <td>Portugal</td>\n",
       "      <td>44.0</td>\n",
       "      <td>0.41</td>\n",
       "      <td>8.5</td>\n",
       "      <td>900000.0</td>\n",
       "      <td>1</td>\n",
       "      <td>0.095104</td>\n",
       "    </tr>\n",
       "    <tr>\n",
       "      <th>3</th>\n",
       "      <td>Canada</td>\n",
       "      <td>34750545.0</td>\n",
       "      <td>1.824289e+12</td>\n",
       "      <td>Canada</td>\n",
       "      <td>173.0</td>\n",
       "      <td>0.51</td>\n",
       "      <td>30.8</td>\n",
       "      <td>9950000.0</td>\n",
       "      <td>4</td>\n",
       "      <td>0.115106</td>\n",
       "    </tr>\n",
       "    <tr>\n",
       "      <th>1</th>\n",
       "      <td>Austria</td>\n",
       "      <td>8429991.0</td>\n",
       "      <td>4.094252e+11</td>\n",
       "      <td>Austria</td>\n",
       "      <td>18.0</td>\n",
       "      <td>0.22</td>\n",
       "      <td>30.4</td>\n",
       "      <td>2500000.0</td>\n",
       "      <td>1</td>\n",
       "      <td>0.118624</td>\n",
       "    </tr>\n",
       "    <tr>\n",
       "      <th>0</th>\n",
       "      <td>Australia</td>\n",
       "      <td>22742475.0</td>\n",
       "      <td>1.543411e+12</td>\n",
       "      <td>Australia</td>\n",
       "      <td>30.0</td>\n",
       "      <td>0.14</td>\n",
       "      <td>15.0</td>\n",
       "      <td>3050000.0</td>\n",
       "      <td>4</td>\n",
       "      <td>0.175882</td>\n",
       "    </tr>\n",
       "    <tr>\n",
       "      <th>2</th>\n",
       "      <td>Belgium</td>\n",
       "      <td>11128246.0</td>\n",
       "      <td>4.978842e+11</td>\n",
       "      <td>Belgium</td>\n",
       "      <td>70.0</td>\n",
       "      <td>0.68</td>\n",
       "      <td>17.2</td>\n",
       "      <td>1800000.0</td>\n",
       "      <td>2</td>\n",
       "      <td>0.179723</td>\n",
       "    </tr>\n",
       "    <tr>\n",
       "      <th>17</th>\n",
       "      <td>Norway</td>\n",
       "      <td>5018573.0</td>\n",
       "      <td>5.102291e+11</td>\n",
       "      <td>Norway</td>\n",
       "      <td>2.0</td>\n",
       "      <td>0.05</td>\n",
       "      <td>31.3</td>\n",
       "      <td>1400000.0</td>\n",
       "      <td>1</td>\n",
       "      <td>0.199260</td>\n",
       "    </tr>\n",
       "    <tr>\n",
       "      <th>21</th>\n",
       "      <td>Sweden</td>\n",
       "      <td>9519374.0</td>\n",
       "      <td>5.438806e+11</td>\n",
       "      <td>Sweden</td>\n",
       "      <td>37.0</td>\n",
       "      <td>0.41</td>\n",
       "      <td>31.6</td>\n",
       "      <td>2800000.0</td>\n",
       "      <td>2</td>\n",
       "      <td>0.210098</td>\n",
       "    </tr>\n",
       "    <tr>\n",
       "      <th>22</th>\n",
       "      <td>United States</td>\n",
       "      <td>313993272.0</td>\n",
       "      <td>1.615526e+13</td>\n",
       "      <td>United States</td>\n",
       "      <td>9146.0</td>\n",
       "      <td>2.97</td>\n",
       "      <td>88.8</td>\n",
       "      <td>270000000.0</td>\n",
       "      <td>78</td>\n",
       "      <td>0.248413</td>\n",
       "    </tr>\n",
       "    <tr>\n",
       "      <th>4</th>\n",
       "      <td>Switzerland</td>\n",
       "      <td>7996861.0</td>\n",
       "      <td>6.680436e+11</td>\n",
       "      <td>Switzerland</td>\n",
       "      <td>57.0</td>\n",
       "      <td>0.77</td>\n",
       "      <td>45.7</td>\n",
       "      <td>3400000.0</td>\n",
       "      <td>2</td>\n",
       "      <td>0.250098</td>\n",
       "    </tr>\n",
       "    <tr>\n",
       "      <th>8</th>\n",
       "      <td>Finland</td>\n",
       "      <td>5413971.0</td>\n",
       "      <td>2.567065e+11</td>\n",
       "      <td>Finland</td>\n",
       "      <td>24.0</td>\n",
       "      <td>0.45</td>\n",
       "      <td>45.3</td>\n",
       "      <td>2400000.0</td>\n",
       "      <td>2</td>\n",
       "      <td>0.369415</td>\n",
       "    </tr>\n",
       "    <tr>\n",
       "      <th>18</th>\n",
       "      <td>New Zealand</td>\n",
       "      <td>4408100.0</td>\n",
       "      <td>1.761929e+11</td>\n",
       "      <td>New Zealand</td>\n",
       "      <td>7.0</td>\n",
       "      <td>0.16</td>\n",
       "      <td>22.6</td>\n",
       "      <td>925000.0</td>\n",
       "      <td>3</td>\n",
       "      <td>0.680565</td>\n",
       "    </tr>\n",
       "  </tbody>\n",
       "</table>\n",
       "</div>"
      ],
      "text/plain": [
       "     Country Name          pop           gdp        Country  \\\n",
       "11        Hungary    9920362.0  1.278566e+11        Hungary   \n",
       "19         Poland   38063164.0  5.003608e+11         Poland   \n",
       "6         Denmark    5591572.0  3.271489e+11        Denmark   \n",
       "16     Luxembourg     530946.0  5.667796e+10     Luxembourg   \n",
       "10         Greece   11045011.0  2.456707e+11         Greece   \n",
       "15          Japan  127629000.0  6.203213e+12          Japan   \n",
       "12        Ireland    4599533.0  2.255719e+11        Ireland   \n",
       "13        Iceland     320716.0  1.429201e+10        Iceland   \n",
       "14          Italy   59539717.0  2.072823e+12          Italy   \n",
       "7           Spain   46773055.0  1.336019e+12          Spain   \n",
       "5         Germany   80425823.0  3.543984e+12        Germany   \n",
       "9          France   65659789.0  2.683825e+12         France   \n",
       "20       Portugal   10514844.0  2.163682e+11       Portugal   \n",
       "3          Canada   34750545.0  1.824289e+12         Canada   \n",
       "1         Austria    8429991.0  4.094252e+11        Austria   \n",
       "0       Australia   22742475.0  1.543411e+12      Australia   \n",
       "2         Belgium   11128246.0  4.978842e+11        Belgium   \n",
       "17         Norway    5018573.0  5.102291e+11         Norway   \n",
       "21         Sweden    9519374.0  5.438806e+11         Sweden   \n",
       "22  United States  313993272.0  1.615526e+13  United States   \n",
       "4     Switzerland    7996861.0  6.680436e+11    Switzerland   \n",
       "8         Finland    5413971.0  2.567065e+11        Finland   \n",
       "18    New Zealand    4408100.0  1.761929e+11    New Zealand   \n",
       "\n",
       "    Number of homicides by firearm  Homicide by firearm rate per 100,000 pop  \\\n",
       "11                             7.0                                      0.07   \n",
       "19                            35.0                                      0.09   \n",
       "6                             15.0                                      0.27   \n",
       "16                             3.0                                      0.62   \n",
       "10                            29.0                                      0.26   \n",
       "15                            11.0                                      0.01   \n",
       "12                            21.0                                      0.48   \n",
       "13                             0.0                                      0.00   \n",
       "14                           417.0                                      0.71   \n",
       "7                             90.0                                      0.20   \n",
       "5                            158.0                                      0.19   \n",
       "9                             35.0                                      0.06   \n",
       "20                            44.0                                      0.41   \n",
       "3                            173.0                                      0.51   \n",
       "1                             18.0                                      0.22   \n",
       "0                             30.0                                      0.14   \n",
       "2                             70.0                                      0.68   \n",
       "17                             2.0                                      0.05   \n",
       "21                            37.0                                      0.41   \n",
       "22                          9146.0                                      2.97   \n",
       "4                             57.0                                      0.77   \n",
       "8                             24.0                                      0.45   \n",
       "18                             7.0                                      0.16   \n",
       "\n",
       "    Guns/100 inhabitants  Average total all civilian firearms  \\\n",
       "11                   5.5                             560000.0   \n",
       "19                   1.3                             510000.0   \n",
       "6                   12.0                             650000.0   \n",
       "16                  15.3                              70000.0   \n",
       "10                  22.5                            2500000.0   \n",
       "15                   0.6                             710000.0   \n",
       "12                   8.6                             360000.0   \n",
       "13                  30.3                              90000.0   \n",
       "14                  11.9                            7000000.0   \n",
       "7                   10.4                            4500000.0   \n",
       "5                   30.3                           25000000.0   \n",
       "9                   31.2                           19000000.0   \n",
       "20                   8.5                             900000.0   \n",
       "3                   30.8                            9950000.0   \n",
       "1                   30.4                            2500000.0   \n",
       "0                   15.0                            3050000.0   \n",
       "2                   17.2                            1800000.0   \n",
       "17                  31.3                            1400000.0   \n",
       "21                  31.6                            2800000.0   \n",
       "22                  88.8                          270000000.0   \n",
       "4                   45.7                            3400000.0   \n",
       "8                   45.3                            2400000.0   \n",
       "18                  22.6                             925000.0   \n",
       "\n",
       "    Number of mass shootings  MSperPerson  \n",
       "11                         0     0.000000  \n",
       "19                         0     0.000000  \n",
       "6                          0     0.000000  \n",
       "16                         0     0.000000  \n",
       "10                         0     0.000000  \n",
       "15                         0     0.000000  \n",
       "12                         0     0.000000  \n",
       "13                         0     0.000000  \n",
       "14                         0     0.000000  \n",
       "7                          1     0.021380  \n",
       "5                          7     0.087037  \n",
       "9                          6     0.091380  \n",
       "20                         1     0.095104  \n",
       "3                          4     0.115106  \n",
       "1                          1     0.118624  \n",
       "0                          4     0.175882  \n",
       "2                          2     0.179723  \n",
       "17                         1     0.199260  \n",
       "21                         2     0.210098  \n",
       "22                        78     0.248413  \n",
       "4                          2     0.250098  \n",
       "8                          2     0.369415  \n",
       "18                         3     0.680565  "
      ]
     },
     "execution_count": 139,
     "metadata": {},
     "output_type": "execute_result"
    }
   ],
   "source": [
    "wdf.sort(columns='MSperPerson')"
   ]
  },
  {
   "cell_type": "code",
   "execution_count": null,
   "metadata": {},
   "outputs": [],
   "source": [
    "##not sure if the above should be gdp per person or mass shootings per person? "
   ]
  },
  {
   "cell_type": "markdown",
   "metadata": {
    "run_control": {
     "frozen": false,
     "read_only": false
    }
   },
   "source": [
    "## plot the average number of civilian fire arms per person\n",
    "first without errors, then with errors. are there  points that look like outliers?"
   ]
  },
  {
   "cell_type": "code",
   "execution_count": 156,
   "metadata": {
    "ExecuteTime": {
     "end_time": "2017-10-12T07:17:52.778486",
     "start_time": "2017-10-12T07:17:52.768299"
    },
    "collapsed": true,
    "run_control": {
     "frozen": false,
     "read_only": false
    }
   },
   "outputs": [
    {
     "data": {
      "image/png": "[encoded data removed]",
      "text/plain": [
       "<matplotlib.figure.Figure at 0x7f13ca11f8d0>"
      ]
     },
     "metadata": {},
     "output_type": "display_data"
    }
   ],
   "source": [
    "fig = pl.figure(figsize=(15,10)) \n",
    "ax = fig.add_subplot(221)\n",
    "\n",
    "scatter = ax.scatter(wdf['Guns/100 inhabitants'], wdf['MSperPerson'])\n",
    "ax.set_xlabel(\"Number of firearms / 100 people\")\n",
    "ax.set_ylabel(\"Number of mass shootings/ 1 Million People\")\n",
    "ax.set_ylim()\n",
    "ax.set_title(\"Number of firearms vs Shootings per 1 million people\")\n",
    "\n",
    "\n",
    "\n",
    "ax = fig.add_subplot(222)\n",
    "\n",
    "scatter = ax.scatter(wdf['Guns/100 inhabitants'], wdf['MSperPerson'])\n",
    "#error bars don't seem to work in this context\n",
    "ax.errorbar(wdf['Guns/100 inhabitants'], wdf['MSperPerson'], \n",
    "            yerr = np.sqrt(wdf['MSperPerson']), fmt = '.')\n",
    "ax.set_xlabel(\"Number of firearms / 100 people\")\n",
    "ax.set_ylabel(\"Number of mass shootings/ 1 Million People\")\n",
    "ax.set_ylim()\n",
    "plt.title('Mass Shootings and Firearms')\n",
    "\n",
    "\n",
    "pl.show()\n",
    "\n",
    "\n"
   ]
  },
  {
   "cell_type": "markdown",
   "metadata": {},
   "source": [
    "#### Figure 3: again we see new zealand become more of an outlier. We also see that there is some what of a positive linear relationship between the two variables"
   ]
  },
  {
   "cell_type": "markdown",
   "metadata": {
    "run_control": {
     "frozen": false,
     "read_only": false
    }
   },
   "source": [
    "## plot the average number of homicide by fire arms per person\n",
    "first as a histogram\n",
    "\n",
    "then against the country GDP, with statistical errors. are there  points that look like outliers?"
   ]
  },
  {
   "cell_type": "code",
   "execution_count": 165,
   "metadata": {},
   "outputs": [
    {
     "data": {
      "text/plain": [
       "Text(0,0.5,'Count')"
      ]
     },
     "execution_count": 165,
     "metadata": {},
     "output_type": "execute_result"
    },
    {
     "data": {
      "image/png": "[encoded data removed]",
      "text/plain": [
       "<matplotlib.figure.Figure at 0x7f13ca53a9e8>"
      ]
     },
     "metadata": {},
     "output_type": "display_data"
    }
   ],
   "source": [
    "fig, ax = plt.subplots(figsize=(10,8))\n",
    "ax.hist(wdf['Number of homicides by firearm'] / wdf['pop'] * 1000)\n",
    "ax.set_xlabel('homicides by firearm per 1000 people')\n",
    "ax.set_ylabel('Count')\n",
    "plt.title('Histogram of Countries and their Homicides by Firearm per 1000 Paeople')"
   ]
  },
  {
   "cell_type": "markdown",
   "metadata": {},
   "source": [
    "#### Figure 4: the graph is skewed right as there are a higher porportion of countries that have a metric (homicides by firearm per 1000 people) below the median"
   ]
  },
  {
   "cell_type": "code",
   "execution_count": 166,
   "metadata": {
    "ExecuteTime": {
     "end_time": "2017-10-12T07:53:17.910541",
     "start_time": "2017-10-12T07:53:17.506477"
    },
    "run_control": {
     "frozen": false,
     "read_only": false
    }
   },
   "outputs": [],
   "source": [
    "wdf['FIREperPerson'] = wdf['Number of homicides by firearm'] / wdf['pop'] * 1000\n"
   ]
  },
  {
   "cell_type": "code",
   "execution_count": 169,
   "metadata": {},
   "outputs": [
    {
     "data": {
      "image/png": "[encoded data removed]",
      "text/plain": [
       "<matplotlib.figure.Figure at 0x7f13cab22860>"
      ]
     },
     "metadata": {},
     "output_type": "display_data"
    }
   ],
   "source": [
    "fig = pl.figure(figsize=(15,10)) \n",
    "ax = fig.add_subplot(221)\n",
    "\n",
    "scatter = ax.scatter(wdf['gdp'] / 1e9, wdf['FIREperPerson'])\n",
    "ax.set_xlabel(\"GDP (in billions)\")\n",
    "ax.set_ylabel(\"homicides by firearm per 1000 people\")\n",
    "plt.title('GDP and homicides per 1000 ppl')\n",
    "\n",
    "ax = fig.add_subplot(222)\n",
    "\n",
    "scatter = ax.scatter(wdf['gdp'] / 1e9, wdf['FIREperPerson'])\n",
    "ax.errorbar(wdf.gdp / 1e9, wdf['FIREperPerson'], \n",
    "            yerr = np.sqrt(wdf['FIREperPerson'] * 1.0), fmt = '.')\n",
    "ax.set_xlabel(\"GDP (in billions)\")\n",
    "ax.set_ylabel(\"homicides by firearm per 1000 people\")\n",
    "plt.title('GDP and homicides per 1000 ppl')\n",
    "\n",
    "pl.show()"
   ]
  },
  {
   "cell_type": "markdown",
   "metadata": {},
   "source": [
    "### Figure 5: as before, USA is an outlier here in GDP. and also seem to be the outlier in firearms. Besides that point there doesnt seem to be a lot of correlation between the two variables"
   ]
  },
  {
   "cell_type": "markdown",
   "metadata": {
    "run_control": {
     "frozen": false,
     "read_only": false
    }
   },
   "source": [
    "## plot the number of  homicides by fire arm against the number of civilian firearms. plot the  US in a different color\n",
    "with and without errorbars\n"
   ]
  },
  {
   "cell_type": "code",
   "execution_count": 171,
   "metadata": {},
   "outputs": [
    {
     "data": {
      "text/html": [
       "<div>\n",
       "<table border=\"1\" class=\"dataframe\">\n",
       "  <thead>\n",
       "    <tr style=\"text-align: right;\">\n",
       "      <th></th>\n",
       "      <th>Country Name</th>\n",
       "      <th>pop</th>\n",
       "      <th>gdp</th>\n",
       "      <th>Country</th>\n",
       "      <th>Number of homicides by firearm</th>\n",
       "      <th>Homicide by firearm rate per 100,000 pop</th>\n",
       "      <th>Guns/100 inhabitants</th>\n",
       "      <th>Average total all civilian firearms</th>\n",
       "      <th>Number of mass shootings</th>\n",
       "      <th>MSperPerson</th>\n",
       "      <th>FIREperPerson</th>\n",
       "    </tr>\n",
       "  </thead>\n",
       "  <tbody>\n",
       "    <tr>\n",
       "      <th>0</th>\n",
       "      <td>Australia</td>\n",
       "      <td>22742475.0</td>\n",
       "      <td>1.543411e+12</td>\n",
       "      <td>Australia</td>\n",
       "      <td>30.0</td>\n",
       "      <td>0.14</td>\n",
       "      <td>15.0</td>\n",
       "      <td>3050000.0</td>\n",
       "      <td>4</td>\n",
       "      <td>0.175882</td>\n",
       "      <td>0.001319</td>\n",
       "    </tr>\n",
       "    <tr>\n",
       "      <th>1</th>\n",
       "      <td>Austria</td>\n",
       "      <td>8429991.0</td>\n",
       "      <td>4.094252e+11</td>\n",
       "      <td>Austria</td>\n",
       "      <td>18.0</td>\n",
       "      <td>0.22</td>\n",
       "      <td>30.4</td>\n",
       "      <td>2500000.0</td>\n",
       "      <td>1</td>\n",
       "      <td>0.118624</td>\n",
       "      <td>0.002135</td>\n",
       "    </tr>\n",
       "    <tr>\n",
       "      <th>2</th>\n",
       "      <td>Belgium</td>\n",
       "      <td>11128246.0</td>\n",
       "      <td>4.978842e+11</td>\n",
       "      <td>Belgium</td>\n",
       "      <td>70.0</td>\n",
       "      <td>0.68</td>\n",
       "      <td>17.2</td>\n",
       "      <td>1800000.0</td>\n",
       "      <td>2</td>\n",
       "      <td>0.179723</td>\n",
       "      <td>0.006290</td>\n",
       "    </tr>\n",
       "    <tr>\n",
       "      <th>3</th>\n",
       "      <td>Canada</td>\n",
       "      <td>34750545.0</td>\n",
       "      <td>1.824289e+12</td>\n",
       "      <td>Canada</td>\n",
       "      <td>173.0</td>\n",
       "      <td>0.51</td>\n",
       "      <td>30.8</td>\n",
       "      <td>9950000.0</td>\n",
       "      <td>4</td>\n",
       "      <td>0.115106</td>\n",
       "      <td>0.004978</td>\n",
       "    </tr>\n",
       "    <tr>\n",
       "      <th>4</th>\n",
       "      <td>Switzerland</td>\n",
       "      <td>7996861.0</td>\n",
       "      <td>6.680436e+11</td>\n",
       "      <td>Switzerland</td>\n",
       "      <td>57.0</td>\n",
       "      <td>0.77</td>\n",
       "      <td>45.7</td>\n",
       "      <td>3400000.0</td>\n",
       "      <td>2</td>\n",
       "      <td>0.250098</td>\n",
       "      <td>0.007128</td>\n",
       "    </tr>\n",
       "  </tbody>\n",
       "</table>\n",
       "</div>"
      ],
      "text/plain": [
       "  Country Name         pop           gdp      Country  \\\n",
       "0    Australia  22742475.0  1.543411e+12    Australia   \n",
       "1      Austria   8429991.0  4.094252e+11      Austria   \n",
       "2      Belgium  11128246.0  4.978842e+11      Belgium   \n",
       "3       Canada  34750545.0  1.824289e+12       Canada   \n",
       "4  Switzerland   7996861.0  6.680436e+11  Switzerland   \n",
       "\n",
       "   Number of homicides by firearm  Homicide by firearm rate per 100,000 pop  \\\n",
       "0                            30.0                                      0.14   \n",
       "1                            18.0                                      0.22   \n",
       "2                            70.0                                      0.68   \n",
       "3                           173.0                                      0.51   \n",
       "4                            57.0                                      0.77   \n",
       "\n",
       "   Guns/100 inhabitants  Average total all civilian firearms  \\\n",
       "0                  15.0                            3050000.0   \n",
       "1                  30.4                            2500000.0   \n",
       "2                  17.2                            1800000.0   \n",
       "3                  30.8                            9950000.0   \n",
       "4                  45.7                            3400000.0   \n",
       "\n",
       "   Number of mass shootings  MSperPerson  FIREperPerson  \n",
       "0                         4     0.175882       0.001319  \n",
       "1                         1     0.118624       0.002135  \n",
       "2                         2     0.179723       0.006290  \n",
       "3                         4     0.115106       0.004978  \n",
       "4                         2     0.250098       0.007128  "
      ]
     },
     "execution_count": 171,
     "metadata": {},
     "output_type": "execute_result"
    }
   ],
   "source": [
    "wdf.head()"
   ]
  },
  {
   "cell_type": "code",
   "execution_count": 172,
   "metadata": {},
   "outputs": [
    {
     "data": {
      "image/png": "[encoded data removed]",
      "text/plain": [
       "<matplotlib.figure.Figure at 0x7f13ca33cac8>"
      ]
     },
     "metadata": {},
     "output_type": "display_data"
    }
   ],
   "source": [
    "fig = pl.figure(figsize=(15,10)) \n",
    "ax = fig.add_subplot(221)\n",
    "\n",
    "scatter = ax.scatter(wdf['Number of homicides by firearm'] , wdf['Average total all civilian firearms'])\n",
    "ax.set_xlabel(\"Number of homicides by firearm\")\n",
    "ax.set_ylabel(\"Average total all civilian firearms\")\n",
    "plt.title(\"Homicides by Firearm and Count of Civilian Firearms\")\n",
    "\n",
    "ax = fig.add_subplot(222)\n",
    "\n",
    "scatter = ax.scatter(wdf['Number of homicides by firearm'] , wdf['Average total all civilian firearms'])\n",
    "ax.errorbar(wdf['Number of homicides by firearm'] , wdf['Average total all civilian firearms'], \n",
    "            yerr = np.sqrt(wdf['Average total all civilian firearms'] * 1.0), fmt = '.')\n",
    "ax.set_xlabel(\"Number of homicides by firearm\")\n",
    "ax.set_ylabel(\"Average total all civilian firearms\")\n",
    "plt.title('Homicides by Firearm and Count of Civilian Firearms')\n",
    "\n",
    "pl.show()"
   ]
  },
  {
   "cell_type": "code",
   "execution_count": 175,
   "metadata": {},
   "outputs": [],
   "source": [
    "### Figure 6: unsurprisingly the United states is an outlier in both of these variables"
   ]
  },
  {
   "cell_type": "code",
   "execution_count": 173,
   "metadata": {},
   "outputs": [
    {
     "data": {
      "text/plain": [
       "<matplotlib.axes._subplots.AxesSubplot at 0x7f13ca157438>"
      ]
     },
     "execution_count": 173,
     "metadata": {},
     "output_type": "execute_result"
    },
    {
     "data": {
      "image/png": "[encoded data removed]",
      "text/plain": [
       "<matplotlib.figure.Figure at 0x7f13ca5537b8>"
      ]
     },
     "metadata": {},
     "output_type": "display_data"
    }
   ],
   "source": [
    "wdf['Number of homicides by firearm'].hist()"
   ]
  },
  {
   "cell_type": "code",
   "execution_count": null,
   "metadata": {},
   "outputs": [],
   "source": [
    "## histogram to confirm the distribution"
   ]
  },
  {
   "cell_type": "markdown",
   "metadata": {
    "run_control": {
     "frozen": false,
     "read_only": false
    }
   },
   "source": [
    "## plot the number of  mass shootings against the number of civilian firearms. plot the  US in a different color\n",
    "with and without errorbars\n"
   ]
  },
  {
   "cell_type": "code",
   "execution_count": 181,
   "metadata": {},
   "outputs": [
    {
     "data": {
      "text/plain": [
       "[False,\n",
       " False,\n",
       " False,\n",
       " False,\n",
       " False,\n",
       " False,\n",
       " False,\n",
       " False,\n",
       " False,\n",
       " False,\n",
       " False,\n",
       " False,\n",
       " False,\n",
       " False,\n",
       " False,\n",
       " False,\n",
       " False,\n",
       " False,\n",
       " False,\n",
       " False,\n",
       " False,\n",
       " False,\n",
       " True]"
      ]
     },
     "execution_count": 181,
     "metadata": {},
     "output_type": "execute_result"
    }
   ],
   "source": [
    "[x=='United States' for x in wdf['Country']]"
   ]
  },
  {
   "cell_type": "code",
   "execution_count": 182,
   "metadata": {},
   "outputs": [
    {
     "data": {
      "image/png": "[encoded data removed]",
      "text/plain": [
       "<matplotlib.figure.Figure at 0x7f13ca3ab390>"
      ]
     },
     "metadata": {},
     "output_type": "display_data"
    }
   ],
   "source": [
    "fig = pl.figure(figsize=(15,10)) \n",
    "ax = fig.add_subplot(221)\n",
    "\n",
    "scatter = ax.scatter(wdf['Average total all civilian firearms'] , wdf['Number of mass shootings'], c=[x=='United States' for x in wdf['Country']], cmap=)\n",
    "ax.set_xlabel(\"Number of homicides by firearm\")\n",
    "ax.set_ylabel(\"Average total all civilian firearms\")\n",
    "plt.title(\"Homicides by Firearm and Count of Civilian Firearms\")\n",
    "\n",
    "ax = fig.add_subplot(222)\n",
    "\n",
    "scatter = ax.scatter(wdf['Average total all civilian firearms'] , wdf['Number of mass shootings'])\n",
    "ax.errorbar(wdf['Average total all civilian firearms'] , wdf['Number of mass shootings'], \n",
    "            yerr = np.sqrt(wdf['Number of mass shootings'] * 1.0), fmt = '.')\n",
    "ax.set_xlabel(\"Number of homicides by firearm\")\n",
    "ax.set_ylabel(\"Average total all civilian firearms\")\n",
    "plt.title('Homicides by Firearm and Count of Civilian Firearms')\n",
    "\n",
    "pl.show()"
   ]
  },
  {
   "cell_type": "markdown",
   "metadata": {
    "run_control": {
     "frozen": false,
     "read_only": false
    }
   },
   "source": [
    "# Modeling\n",
    "\n",
    "## fit a line to the Number of mass shootings  per person as a function of Average total all civilian firearms per person. \n",
    "Before you do it it is a good idea to make sure that both quantities are roughly of the same order of magnitude (unity). (You can simply divide by the order of magnitude of the mean of the sample to obtain this). Use\n",
    "\n",
    "    - statsmodels OLS\n",
    "    - statsmodels WLS\n",
    "    - seaborn\n",
    "    - choose one of\n",
    "        -- creating a function that calculates the residuals and minimizing that function\n",
    "        -- analytical solution http://mathworld.wolfram.com/LeastSquaresFitting.html\n",
    "        -- numpy.polyfit() - https://docs.scipy.org/doc/numpy-1.13.0/reference/generated/numpy.polyfit.html\n",
    "    \n",
    "\n",
    "WLS: that is the weighted square fit. The statsmodel package WLS function allows you to take the uncertainties of each data point into account when you fit your model. It takes the parameter weights, which is the inverse of your errors:\n",
    "weights = 1.0/df.yerror\n",
    "Notice that \n",
    "    a - sqrt(0) = 0\n",
    "    b - 1/0 = infinity\n",
    "    c - you cannot have weight that are infinity in your fit. Please come up with a solution and justify it.\n",
    "\n",
    "\n",
    "the latter three you can learn about in this example: https://github.com/fedhere/PUI2017_fb55/blob/master/Lab5_fb55/genderIncomeBias.ipynb\n",
    "Since we did not discuss these, I will add some notes to the repo in the afternoon.\n",
    "\n",
    "Use the seaborn python package built in regression function  to plot the regression confidence intervals. \n",
    "\n",
    "import seaborn  as sns\n",
    "sns.regplot(x=\"x\", y=\"y\", data=df);\n",
    "\n",
    "\n"
   ]
  },
  {
   "cell_type": "code",
   "execution_count": 65,
   "metadata": {
    "ExecuteTime": {
     "end_time": "2017-10-12T16:35:12.472517",
     "start_time": "2017-10-12T16:35:11.345016"
    },
    "run_control": {
     "frozen": false,
     "read_only": false
    }
   },
   "outputs": [
    {
     "data": {
      "image/png": "[encoded data removed]",
      "text/plain": [
       "<matplotlib.figure.Figure at 0x115fbd9d0>"
      ]
     },
     "metadata": {},
     "output_type": "display_data"
    },
    {
     "name": "stdout",
     "output_type": "stream",
     "text": [
      "the plots should look something like this (not necessarily exactly, due to the choices of the error\n"
     ]
    }
   ],
   "source": []
  },
  {
   "cell_type": "markdown",
   "metadata": {
    "run_control": {
     "frozen": false,
     "read_only": false
    }
   },
   "source": [
    "## Outlier removal:\n",
    "The concept of outlier is actually rather sophisticated: a point can be an outlier in a context but not in another. If you want to remove outliers and try different fits, here is some info on how to remove data efficiently from a dataset \n",
    "    https://gist.github.com/fedhere/89db40a3c9a28335bf5a35d52a52c595"
   ]
  },
  {
   "cell_type": "markdown",
   "metadata": {
    "ExecuteTime": {
     "end_time": "2017-10-12T16:21:08.019663",
     "start_time": "2017-10-12T16:21:08.010876"
    },
    "run_control": {
     "frozen": false,
     "read_only": false
    }
   },
   "source": [
    "## Extra credit: calculate the confidence interval by hand and also plot them \n",
    "you can use pylab.fill_between(x, yfit - ci, yfit + ci, alpha=0.5)"
   ]
  },
  {
   "cell_type": "markdown",
   "metadata": {
    "run_control": {
     "frozen": false,
     "read_only": false
    }
   },
   "source": [
    "**Confidence intervals: **\n",
    "there are three type of intervals in a linear regression, plot any one of them all three if you want - how do they compare to the seaborn plot?:\n",
    "\n",
    "1) Confidence intervals for the parameters slope and intercept\n",
    "\n",
    "2) Confidence interval for the average y value\n",
    "\n",
    "3) Prediction interval for a single y value"
   ]
  },
  {
   "cell_type": "markdown",
   "metadata": {
    "run_control": {
     "frozen": false,
     "read_only": false
    }
   },
   "source": [
    "1) __confidence interval of the  model parameters slope and intercept:__\n",
    "define sigma as the sum of the residuals over the square root of number n of observations. \n",
    "\n",
    "sigma: σ̂ =sqrt(Sum((Yoberved_i−Ypredicted_i)^2)/n)\n",
    "\n",
    "where the sum is over all observations\n",
    "\n",
    "Define t_alpha/2,n-2 the t statistics at (1-alpha/2) for a t distribution with n-2 degrees of freedom (you can calculate it with scipy\n",
    "tp = sp.stats.t.ppf(0.975, n-2)\n",
    "\n"
   ]
  },
  {
   "cell_type": "code",
   "execution_count": 29,
   "metadata": {
    "ExecuteTime": {
     "end_time": "2017-10-12T15:42:26.836222",
     "start_time": "2017-10-12T15:42:26.819963"
    },
    "run_control": {
     "frozen": false,
     "read_only": false
    }
   },
   "outputs": [
    {
     "data": {
      "image/png": "[encoded data removed]",
      "text/plain": [
       "<IPython.core.display.Image object>"
      ]
     },
     "execution_count": 29,
     "metadata": {},
     "output_type": "execute_result"
    }
   ],
   "source": [
    "from IPython.display import Image\n",
    "Image(filename=\"../Lab5_fb55/confidence_intervals_regression.png\")"
   ]
  },
  {
   "cell_type": "code",
   "execution_count": 30,
   "metadata": {
    "ExecuteTime": {
     "end_time": "2017-10-12T15:54:20.748008",
     "start_time": "2017-10-12T15:54:20.736381"
    },
    "run_control": {
     "frozen": false,
     "read_only": false
    }
   },
   "outputs": [
    {
     "data": {
      "image/png": "[encoded data removed]",
      "text/plain": [
       "<IPython.core.display.Image object>"
      ]
     },
     "execution_count": 30,
     "metadata": {},
     "output_type": "execute_result"
    }
   ],
   "source": [
    "from IPython.display import Image\n",
    "Image(filename=\"../Lab5_fb55/confidence_intervals_regression2.png\")"
   ]
  },
  {
   "cell_type": "markdown",
   "metadata": {
    "run_control": {
     "frozen": false,
     "read_only": false
    }
   },
   "source": [
    "[proof](https://onlinecourses.science.psu.edu/stat414/node/280)"
   ]
  },
  {
   "cell_type": "markdown",
   "metadata": {
    "run_control": {
     "frozen": false,
     "read_only": false
    }
   },
   "source": [
    "2) **A confidence interval for E(y | x) , the expected (average) value of y for a given x_**\n",
    "\n",
    "define s: residual standard error sy = sqrt(Sum((y_observed-y_predicted)^2)/(n-2))\n",
    "\n",
    "(note: n-2 is the degrees of freedom of the problem: observations - number of parameters - 1)\n",
    "\n",
    "the confidence interval for a given y(x*) is: \n",
    "\n",
    "y_predicted(x*) +/- t_(alpha/2)(n-2) * sy * sqrt( 1/n + (x* - mean(x)^2) / sum((x* - mean(x)^2)"
   ]
  },
  {
   "cell_type": "code",
   "execution_count": 33,
   "metadata": {
    "ExecuteTime": {
     "end_time": "2017-10-12T16:09:14.173143",
     "start_time": "2017-10-12T16:09:14.161088"
    },
    "run_control": {
     "frozen": false,
     "read_only": false
    }
   },
   "outputs": [
    {
     "data": {
      "image/png": "[encoded data removed]",
      "text/plain": [
       "<IPython.core.display.Image object>"
      ]
     },
     "execution_count": 33,
     "metadata": {},
     "output_type": "execute_result"
    }
   ],
   "source": [
    "from IPython.display import Image\n",
    "Image(filename=\"../Lab5_fb55/ciY.png\")"
   ]
  },
  {
   "cell_type": "markdown",
   "metadata": {
    "run_control": {
     "frozen": false,
     "read_only": false
    }
   },
   "source": [
    "3) **Confidence intervals for average y (predicted) values**\n",
    "\n",
    "y_predicted(x*) +/- t_(n-2) * sy * sqrt( 1 + 1/n + (x* - mean(x)^2) / sum((x* - mean(x)^2)\n",
    "\n",
    "very similar, but note the +1 in the square root"
   ]
  },
  {
   "cell_type": "code",
   "execution_count": 32,
   "metadata": {
    "ExecuteTime": {
     "end_time": "2017-10-12T16:08:46.077157",
     "start_time": "2017-10-12T16:08:46.067407"
    },
    "run_control": {
     "frozen": false,
     "read_only": false
    }
   },
   "outputs": [
    {
     "data": {
      "image/png": "[encoded data removed]",
      "text/plain": [
       "<IPython.core.display.Image object>"
      ]
     },
     "execution_count": 32,
     "metadata": {},
     "output_type": "execute_result"
    }
   ],
   "source": [
    "from IPython.display import Image\n",
    "Image(filename=\"../Lab5_fb55/ciYaverage.png\")"
   ]
  },
  {
   "cell_type": "code",
   "execution_count": 66,
   "metadata": {
    "ExecuteTime": {
     "end_time": "2017-10-12T16:36:39.238967",
     "start_time": "2017-10-12T16:36:38.688004"
    },
    "run_control": {
     "frozen": false,
     "read_only": false
    }
   },
   "outputs": [
    {
     "data": {
      "image/png": "[encoded data removed]",
      "text/plain": [
       "<matplotlib.figure.Figure at 0x115a9c290>"
      ]
     },
     "metadata": {},
     "output_type": "display_data"
    }
   ],
   "source": [
    "pl.figure()\n",
    "import seaborn  as sns\n",
    "sns.regplot(x=\"x\", y=\"y\", data=df_);\n",
    "\n",
    "pl.ylabel(\"Mass shootings\")\n",
    "pl.xlabel(\"Fire arms\");"
   ]
  },
  {
   "cell_type": "markdown",
   "metadata": {
    "run_control": {
     "frozen": false,
     "read_only": false
    }
   },
   "source": [
    "## Use the stsatsmodels.gaphics package to plot the influence plot. \n",
    "Read the package documentation to learn how to read this plot and extract the countries with the highest influence\n",
    "\n",
    "This is the topic of this week's assigned reading, so make sure you do the reading before you do this step. It will help you interpret the plot."
   ]
  },
  {
   "cell_type": "code",
   "execution_count": 362,
   "metadata": {
    "ExecuteTime": {
     "end_time": "2017-10-11T07:46:21.766085",
     "start_time": "2017-10-11T07:46:21.412498"
    },
    "run_control": {
     "frozen": false,
     "read_only": false
    }
   },
   "outputs": [
    {
     "data": {
      "image/png": "[encoded data removed]",
      "text/plain": [
       "<matplotlib.figure.Figure at 0x118ff7ad0>"
      ]
     },
     "metadata": {},
     "output_type": "display_data"
    }
   ],
   "source": [
    "sm.graphics.influence_plot(modelOLS, alpha  = 0.05, criterion=\"cooks\");"
   ]
  },
  {
   "cell_type": "markdown",
   "metadata": {
    "run_control": {
     "frozen": false,
     "read_only": false
    }
   },
   "source": [
    "## Extra credit: calculate from scratch the stanrdardized residuals and the H leverage for the WLS model and discuss if there are any differences"
   ]
  },
  {
   "cell_type": "markdown",
   "metadata": {
    "run_control": {
     "frozen": false,
     "read_only": false
    }
   },
   "source": [
    "## Discuss your findings"
   ]
  },
  {
   "cell_type": "code",
   "execution_count": null,
   "metadata": {},
   "outputs": [],
   "source": []
  }
 ],
 "metadata": {
  "anaconda-cloud": {},
  "kernelspec": {
   "display_name": "PUI2016_Python3",
   "language": "python",
   "name": "pui2016_python3"
  },
  "language_info": {
   "codemirror_mode": {
    "name": "ipython",
    "version": 3
   },
   "file_extension": ".py",
   "mimetype": "text/x-python",
   "name": "python",
   "nbconvert_exporter": "python",
   "pygments_lexer": "ipython3",
   "version": "3.5.4"
  },
  "latex_envs": {
   "LaTeX_envs_menu_present": true,
   "bibliofile": "biblio.bib",
   "cite_by": "apalike",
   "current_citInitial": 1,
   "eqLabelWithNumbers": true,
   "eqNumInitial": 1,
   "hotkeys": {
    "equation": "Ctrl-E",
    "itemize": "Ctrl-I"
   },
   "labels_anchors": false,
   "latex_user_defs": false,
   "report_style_numbering": false,
   "user_envs_cfg": false
  },
  "toc": {
   "colors": {
    "hover_highlight": "#DAA520",
    "running_highlight": "#FF0000",
    "selected_highlight": "#FFD700"
   },
   "moveMenuLeft": true,
   "nav_menu": {
    "height": "13px",
    "width": "251px"
   },
   "navigate_menu": true,
   "number_sections": true,
   "sideBar": true,
   "threshold": 4,
   "toc_cell": true,
   "toc_section_display": "block",
   "toc_window_display": true
  }
 },
 "nbformat": 4,
 "nbformat_minor": 2
}
